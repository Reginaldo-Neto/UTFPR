{
  "cells": [
    {
      "cell_type": "markdown",
      "metadata": {
        "id": "view-in-github",
        "colab_type": "text"
      },
      "source": [
        "<a href=\"https://colab.research.google.com/github/Reginaldo-Neto/LFAC_T2/blob/main/relatorio/maquina_turing_operacoes_aritmeticas.ipynb\" target=\"_parent\"><img src=\"https://colab.research.google.com/assets/colab-badge.svg\" alt=\"Open In Colab\"/></a>"
      ]
    },
    {
      "cell_type": "markdown",
      "metadata": {
        "id": "fFwyaeKBSxUK"
      },
      "source": [
        "\n",
        "# Tutorial Iterativo em Jupyter sobre Máquinas de Turing para Operações Aritméticas\n",
        "\n",
        "<img src=\"https://github.com/Reginaldo-Neto/LFAC_T2/blob/main/relatorio/figuras/banner-lfac.png?raw=true\" alt=\"Banner\" width=\"75%\"/>\n",
        "\n",
        "\n",
        "__Reginaldo Gregório de Souza Neto__\n",
        "\n",
        "__RA: 2252813__\n",
        "\n",
        "e-mails: [reginaldoneto@alunos.utfpr.edu.br](mailto:reginaldoneto@alunos.utfpr.edu.br)\n",
        "\n",
        "Universidade Tecnológica Federal do Paraná (UTFPR)\n",
        "\n",
        "Departamento Acadêmico de Computação (DACOM-CM)\n",
        "\n",
        "Curso de Bacharelado em Ciência da Computação.\n",
        "\n",
        "[GitHub do Projeto](https://github.com/Reginaldo-Neto/LFAC_T2.git)\n",
        "\n",
        "## Resumo\n",
        "\n",
        "_Este relátorio se trata da implementação de uma máquina de Turing para resolver as 4 operações aritméticas básicas._ _Para tal, será realizada a prototipação dos modelos das máquinas de Turing no aplicativo JFLAP, assim como a programação da máquina de Turing em Python com o auxílio da biblioteca_ automota_lib. _Serão realizados testes parar verificar o funcionamento do algoritmos, assim como uma análise de seus resultados._\n"
      ]
    },
    {
      "cell_type": "markdown",
      "metadata": {
        "id": "O3gF69-Mofsf"
      },
      "source": [
        "## Introdução\n",
        "\n",
        "Autômatos são máquinas de estados que são capazes de reconhecer linguagens e/ou palavras de acordo com seu alfabeto e suas funções de transições. Para que isso ocorra, cada máquina possui um modo de funcionamento específico de acordo as necessidades do ambiente em que foram elaboradas.\n",
        "\n",
        "Neste trabalho, abordaremos as Máquinas de Turing, que serão melhor explicadas no tópico a seguir. Entretanto, é válido tomar ciência de que o prícipio de elaboração desse projeto condiz com a prototipação e criação de um analisador léxico para a execução das 4 operações básicas aritméticas (soma, subtração, divisão e multiplicação).\n"
      ]
    },
    {
      "cell_type": "markdown",
      "metadata": {
        "id": "HKA-zHJLNXUj"
      },
      "source": [
        "# Máquinas de Turing\n",
        "\n",
        "Máquina de Turing (MT) se trata de um autômato proposto por Alan Turing em 1936, semelhante a um autômato finito com estados e funções de transições, entretanto a MT possui memória infinita e irrestrita. Além de atuar sobre uma ou mais fitas, as máquinas de Turing são os autômatos que mais se aproximam com os computadores de hoje em dia, deste modo, pode-se afirmar que uma máquina de Turing pode fazer tudo o que um computador real pode fazer.\n",
        "\n",
        "O conceito da máquina de Turing se dispõe principalmente sobre ações na fita (memória), sendo possível ler, escrever e determinar qual o movimento do cabeçote de leitura sobre a fita. Por conta disso, é possível realizarmos diversas operações e desempenhar funções complexas apenas com esses princípios básicos de funcionamento da MT. Dentre elas, as 4 operações aritméticas estão inclusas, sendo esse o enfoque deste trabalho."
      ]
    },
    {
      "cell_type": "markdown",
      "metadata": {
        "id": "NsOC5oUKDg1e"
      },
      "source": [
        "## Preparação do Ambiente\n",
        "\n",
        "Para a execução do algoritmo, é necessário que a biblioteca automota-lib esteja instalada no computador, assim como uma versão recente do Python, que deve estar adicionado às variáveis de ambiente.\n",
        "\n",
        "Em primeiro momento, o relatório foi editado no Google Colab e em seguida foi feita a instalação da extensão do Jupyter no Visual Studio Code para que a formatação das imagens sejam dispostas corretamente no documento.\n",
        "\n",
        "\n",
        "A biblioteca que auxiliam na implementação de Máquinas de Estados e Autômatos, como [automata-lib](https://pypi.org/project/automata-lib/).\n"
      ]
    },
    {
      "cell_type": "code",
      "execution_count": null,
      "metadata": {
        "colab": {
          "base_uri": "https://localhost:8080/"
        },
        "id": "gUZZ5OVZKnNg",
        "outputId": "dd7f3877-99b4-40e0-b520-a8e9c9121ebb"
      },
      "outputs": [
        {
          "name": "stdout",
          "output_type": "stream",
          "text": [
            "Defaulting to user installation because normal site-packages is not writeable\n",
            "Requirement already satisfied: automata-lib in /home/alunos/a2252813/.local/lib/python3.9/site-packages (5.0.0)\n",
            "Requirement already satisfied: pydot in /home/alunos/a2252813/.local/lib/python3.9/site-packages (from automata-lib) (1.4.2)\n",
            "Requirement already satisfied: pyparsing>=2.1.4 in /usr/lib/python3/dist-packages (from pydot->automata-lib) (2.4.7)\n"
          ]
        }
      ],
      "source": [
        "!pip3 install automata-lib"
      ]
    },
    {
      "cell_type": "markdown",
      "metadata": {
        "id": "EHKowkgSVUi5"
      },
      "source": [
        "__Instalação de alguns _plugins_ para o Jupyter:__"
      ]
    },
    {
      "cell_type": "code",
      "execution_count": null,
      "metadata": {
        "colab": {
          "base_uri": "https://localhost:8080/"
        },
        "id": "DisvxsM3U9zq",
        "outputId": "f691dd09-2449-432e-b6f6-33e627ae7a15"
      },
      "outputs": [
        {
          "name": "stdout",
          "output_type": "stream",
          "text": [
            "/bin/bash: linha 1: jupyter: comando não encontrado\n",
            "/bin/bash: linha 1: jupyter: comando não encontrado\n"
          ]
        }
      ],
      "source": [
        "!jupyter nbextension install https://rawgit.com/jfbercher/small_nbextensions/master/highlighter.zip  --user\n",
        "!jupyter nbextension enable highlighter/highlighter"
      ]
    },
    {
      "cell_type": "code",
      "execution_count": null,
      "metadata": {
        "colab": {
          "base_uri": "https://localhost:8080/",
          "height": 17
        },
        "id": "a-s-dVnxdbZW",
        "outputId": "c405d6db-c871-4af9-8bcc-79d18eb6468f"
      },
      "outputs": [
        {
          "data": {
            "application/javascript": "require(\"base/js/utils\").load_extensions(\"highlighter/highlighter\")\n",
            "text/plain": [
              "<IPython.core.display.Javascript object>"
            ]
          },
          "metadata": {},
          "output_type": "display_data"
        }
      ],
      "source": [
        "%%javascript\n",
        "require(\"base/js/utils\").load_extensions(\"highlighter/highlighter\")"
      ]
    },
    {
      "cell_type": "markdown",
      "metadata": {
        "id": "m6czdg8eNXU0"
      },
      "source": [
        "# Operações Aritméticas\n",
        "\n",
        "Para realizar o cálculo das operações aritméticas, as máquinas de Turing foram elaboradas de acordo com o artigo ([Construction of a Basic Calculator through the Turing\n",
        "Machine – A Review](http://www.ijetajournal.org/volume-2/issue-6/IJETA-V2I6P1.pdf)), onde foram padronizados os caracteres possíveis de entrada, escrita e ações sobre a fita.\n",
        "\n",
        "Ficando estipulado que:\n",
        "  \n",
        "(#) = Simboliza espaços em branco;\n",
        "\n",
        "(E) = Simboliza uma unidade, ou seja, EEE = 3;\n",
        "\n",
        "(1) = Simboliza uma unidade, ou seja, 111 = 3;\n",
        "\n",
        "(Z) = Marcador de posição lógica na fita;\n",
        "\n",
        "(+) = Símbolo de Adição;\n",
        "\n",
        "(-) = Símbolo de Subtração;\n",
        "\n",
        "(/) = Símbolo de Divisão;\n",
        "\n",
        "(*) = Símbolo de Multiplicação;\n",
        "\n",
        "(R) = Simboliza a movimentação do cabeçote para a DIREITA;\n",
        "\n",
        "(L) = Simboliza a movimentação do cabeçote para a ESQUERDA;\n",
        "\n",
        "(S) = Simboliza que o cabeçote não deve se mover. (Na biblioteca automota-lib, esse símbolo é substituído pelo caracter 'N', abreviação da palavra NONE, que simboliza que não haverá movimento no cabeçote de leitura)."
      ]
    },
    {
      "cell_type": "markdown",
      "metadata": {
        "id": "cFl1ALSiNXU1"
      },
      "source": [
        "## Adição\n",
        "\n",
        "Exemplo da máquina de Turing de ADIÇÃO replicada no JFLAP:\n",
        "\n",
        "<img src=\"https://github.com/Reginaldo-Neto/LFAC_T2/blob/main/relatorio/figuras/Adi%C3%A7%C3%A3o_Neto_2252813.png?raw=1\" alt=\"Banner\" width=\"75%\"/>\n",
        "\n",
        "Como podemos observar, essa máquina de Turing elaborada para a ADIÇÃO possui 5 estados, sendo 1 (q0) inicial e 1 (q4) final. Seu princípio de funcionamento é bem simples:\n",
        "\n",
        "A MT identifica o início (e o final) da fita com o caraceter #, em seguida permanece no estado q1 enquanto estiver lendo caracteres 'E' na entrada ela os replica sobre a fita deslocando o cabeçote para a direita.\n",
        "\n",
        "Ao encontrar o símbolo de adição (+) ela o substitui por um 'E' na fita e continua a replicação de entradas.\n",
        "\n",
        "No fim da fita, a máquina volta o cabeçote uma casa para a esquerda e substitui o último 'E' por '#' para que a soma seja finalizada de maneira correta.\n",
        "\n",
        "A implementação da MT pode ser vista no código I."
      ]
    },
    {
      "cell_type": "markdown",
      "metadata": {
        "id": "xsxHVLcFNXU2"
      },
      "source": [
        "__Código I:__ Implementação da Máquina de Turing para Adição"
      ]
    },
    {
      "cell_type": "code",
      "execution_count": null,
      "metadata": {
        "id": "tdbrxSSCNXU2"
      },
      "outputs": [],
      "source": [
        "from automata.tm.ntm import NTM\n",
        "# NTM que faz a operação de adição.\n",
        "ntm = NTM(\n",
        "    states={'s0', 's1', 's2', 's3', 'halt'},\n",
        "    input_symbols={'0', '1', '+'},\n",
        "    tape_symbols={'0', '1', '+', '#', 'E'},\n",
        "    transitions={\n",
        "        's0': {\n",
        "            '#': {('s1', '#', 'R')}\n",
        "        },\n",
        "        's1': {\n",
        "            'E': {('s1', 'E', 'R')},\n",
        "            '+': {('s2', 'E', 'R')}\n",
        "        },\n",
        "        's2': {\n",
        "            'E': {('s2', 'E', 'R')},\n",
        "            '#': {('s3', '#', 'L')}\n",
        "        },\n",
        "        's3': {\n",
        "            'E': {('halt', '#', 'N')}\n",
        "        }\n",
        "    },\n",
        "    initial_state='s0',\n",
        "    blank_symbol='#',\n",
        "    final_states={'halt'}\n",
        ")"
      ]
    },
    {
      "cell_type": "markdown",
      "metadata": {
        "id": "guQAsujjNXU4"
      },
      "source": [
        "Função de Validação para verificar se a especificação está correta."
      ]
    },
    {
      "cell_type": "code",
      "execution_count": null,
      "metadata": {
        "colab": {
          "base_uri": "https://localhost:8080/"
        },
        "id": "tS0or24ZNXU4",
        "outputId": "5f8e0d2b-da0a-4dc0-ba27-fdd1820464df"
      },
      "outputs": [
        {
          "data": {
            "text/plain": [
              "True"
            ]
          },
          "execution_count": 5,
          "metadata": {},
          "output_type": "execute_result"
        }
      ],
      "source": [
        "ntm.validate()  # returns True"
      ]
    },
    {
      "cell_type": "code",
      "execution_count": null,
      "metadata": {
        "colab": {
          "base_uri": "https://localhost:8080/"
        },
        "id": "cyQQbHStNXU6",
        "outputId": "c3a404c3-f4a7-4973-e82c-a9542c8ff278"
      },
      "outputs": [
        {
          "data": {
            "text/plain": [
              "<generator object NTM.read_input_stepwise at 0x7f7fde7ec7b0>"
            ]
          },
          "execution_count": 6,
          "metadata": {},
          "output_type": "execute_result"
        }
      ],
      "source": [
        "ntm.read_input_stepwise('#EEEEE+EE#')"
      ]
    },
    {
      "cell_type": "markdown",
      "metadata": {
        "id": "nP3igdFBNXU6"
      },
      "source": [
        "O método/função `read_input(palavra)` verifica se a _palavra_ é aceita pela Máquina de Turing e retorna a configuração final para ela."
      ]
    },
    {
      "cell_type": "code",
      "execution_count": null,
      "metadata": {
        "colab": {
          "base_uri": "https://localhost:8080/"
        },
        "id": "CMR_znYeNXU7",
        "outputId": "20974647-274e-4cac-b6b9-822d899ab141"
      },
      "outputs": [
        {
          "name": "stdout",
          "output_type": "stream",
          "text": [
            "halt: #EEEEEEE##\n",
            "              ^\n"
          ]
        }
      ],
      "source": [
        "ntm.read_input('#EEEEE+EE#').pop().print()"
      ]
    },
    {
      "cell_type": "code",
      "execution_count": null,
      "metadata": {
        "colab": {
          "base_uri": "https://localhost:8080/"
        },
        "id": "Hw1_mjOwNXU8",
        "outputId": "86815f77-3d4b-44b3-f63c-4ce5a3c44a43"
      },
      "outputs": [
        {
          "name": "stdout",
          "output_type": "stream",
          "text": [
            "accepted\n"
          ]
        }
      ],
      "source": [
        "if ntm.accepts_input('#EEEEE+EE#'):\n",
        "    print('accepted')\n",
        "else:\n",
        "    print('rejected')"
      ]
    },
    {
      "cell_type": "code",
      "execution_count": null,
      "metadata": {
        "colab": {
          "base_uri": "https://localhost:8080/"
        },
        "id": "_yjnDgcDNXU9",
        "outputId": "503cbff7-f664-4a23-bf05-448db8bfc0dc"
      },
      "outputs": [
        {
          "data": {
            "text/plain": [
              "<generator object NTM.read_input_stepwise at 0x7f7fde7ecac0>"
            ]
          },
          "execution_count": 9,
          "metadata": {},
          "output_type": "execute_result"
        }
      ],
      "source": [
        "ntm.read_input_stepwise('#EEEEE+EE#')"
      ]
    },
    {
      "cell_type": "code",
      "execution_count": null,
      "metadata": {
        "colab": {
          "base_uri": "https://localhost:8080/"
        },
        "id": "uf5TEAf8NXU9",
        "outputId": "02da77ee-ad33-431e-d45e-2cde1554d2ca"
      },
      "outputs": [
        {
          "name": "stdout",
          "output_type": "stream",
          "text": [
            "Verificando palavra: #E+E#\n",
            "aceita\n",
            "halt: #EE##\n",
            "         ^\n",
            "Verificando palavra: #E+EE#\n",
            "aceita\n",
            "halt: #EEE##\n",
            "          ^\n",
            "Verificando palavra: #EEEEE+EE#\n",
            "aceita\n",
            "halt: #EEEEEEE##\n",
            "              ^\n"
          ]
        }
      ],
      "source": [
        "palavras = ['#E+E#','#E+EE#','#EEEEE+EE#']\n",
        "\n",
        "for w in palavras:\n",
        "  print(\"Verificando palavra:\", w)\n",
        "  if ntm.accepts_input(w):\n",
        "    print('aceita')\n",
        "  else:\n",
        "    print('rejeitada')\n",
        "  ntm.read_input(w).pop().print()\n"
      ]
    },
    {
      "cell_type": "markdown",
      "metadata": {
        "id": "XQvuIMI-NXU-"
      },
      "source": [
        "## Subtração\n",
        "\n",
        "Exemplo da máquina de Turing de SUBTRAÇÃO replicada no JFLAP:\n",
        "\n",
        "<img src=\"https://github.com/Reginaldo-Neto/LFAC_T2/blob/main/relatorio/figuras/Subtracao_Neto_2252813.png?raw=1\" alt=\"Banner\" width=\"75%\"/>\n",
        "\n",
        "Como podemos observar, essa máquina de Turing elaborada para a SUBTRAÇÃO possui 9 estados, sendo 1 (q0) inicial e 1 (q9) final. Seu princípio de funcionamento é um pouco mais complicado:\n",
        "\n",
        "A MT identifica o início (e o final) da fita com o caraceter #, em seguida substitui o primeiro 'E' lido na entrada por '#' na fita e permanece no estado q2 replicando os caracteres 'E' na fita e descolando o cabeçote para a direita.\n",
        "\n",
        "Ao encontrar o símbolo de subtração (-) ela o copia na fita e continua a replicação de entradas.\n",
        "\n",
        "No fim da fita, a máquina volta o cabeçote uma casa para a esquerda e substitui o último 'E' por '#' para que a subtração seja finalizada de maneira correta.\n",
        "\n",
        "Para a validação do resultado, a MT compara se o caracter de subtração (-) foi encontrado novamente para que possa ser finalizado o programa (caso em que a subtração dá zero). Ou então, verifica se o termo à esquerda do (-) possui mais unidades do que o da direita, caso isso ocorra, a MT replica seu funcionamento a partir do estado q1 para que sempre que haja uma unidade em cada lado do operados, ambas são sobrescritas por '#' eliminando uma a uma da fita para o cálculo correto da subtração.\n",
        "\n",
        "\n",
        "A implementação da MT pode ser vista no código II."
      ]
    },
    {
      "cell_type": "markdown",
      "metadata": {
        "id": "kXff6cXvtwDx"
      },
      "source": [
        "__Código II:__ Implementação da Máquina de Turing para Subtração"
      ]
    },
    {
      "cell_type": "code",
      "execution_count": null,
      "metadata": {
        "id": "NafKV-WhONWi"
      },
      "outputs": [],
      "source": [
        "from automata.tm.ntm import NTM\n",
        "# NTM que faz a operação de subtração.\n",
        "ntm = NTM(\n",
        "    states={'s0', 's1', 's2', 's3', 's4', 's5', 's6', 's7', 's8', 'halt'},\n",
        "    input_symbols={'0', '1', '-'},\n",
        "    tape_symbols={'0', '1', '-', '#', 'E'},\n",
        "    transitions={\n",
        "        's0': {\n",
        "            '#': {('s1', '#', 'R')}\n",
        "        },\n",
        "        's1': {\n",
        "            'E': {('s2', '#', 'R')}\n",
        "        },\n",
        "        's2': {\n",
        "            'E': {('s2', 'E', 'R')},\n",
        "            '-': {('s3', '-', 'R')}\n",
        "        },\n",
        "        's3': {\n",
        "            'E': {('s3', 'E', 'R')},\n",
        "            '#': {('s4', '#', 'L')}\n",
        "        },\n",
        "        's4': {\n",
        "            'E': {('s5', '#', 'L')}\n",
        "        },\n",
        "        's5': {\n",
        "            'E': {('s6', 'E', 'L')},\n",
        "            '-': {('halt', '#', 'N')}\n",
        "        },\n",
        "        's6': {\n",
        "            'E': {('s6', 'E', 'L')},\n",
        "            '-': {('s7', '-', 'L')}\n",
        "        },\n",
        "        's7': {\n",
        "            'E': {('s8', 'E', 'L')},\n",
        "            '#': {('halt', '#', 'N')}\n",
        "        },\n",
        "        's8': {\n",
        "            'E': {('s8', 'E', 'L')},\n",
        "            '#': {('s1', '#', 'R')}\n",
        "        }       \n",
        "    },\n",
        "    initial_state='s0',\n",
        "    blank_symbol='#',\n",
        "    final_states={'halt'}\n",
        ")"
      ]
    },
    {
      "cell_type": "markdown",
      "metadata": {
        "id": "AFvVCzhuquNj"
      },
      "source": [
        "Função de Validação para verificar se a especificação está correta."
      ]
    },
    {
      "cell_type": "code",
      "execution_count": null,
      "metadata": {
        "colab": {
          "base_uri": "https://localhost:8080/"
        },
        "id": "yPZLs2jJrSdS",
        "outputId": "a56b7370-63dd-4f25-835b-511bc9170495"
      },
      "outputs": [
        {
          "data": {
            "text/plain": [
              "True"
            ]
          },
          "execution_count": 12,
          "metadata": {},
          "output_type": "execute_result"
        }
      ],
      "source": [
        "ntm.validate()  # returns True"
      ]
    },
    {
      "cell_type": "code",
      "execution_count": null,
      "metadata": {
        "colab": {
          "base_uri": "https://localhost:8080/"
        },
        "id": "KSHvTyesrZiQ",
        "outputId": "da418ca0-a010-4bb2-fbf8-4ce9d60d6f53"
      },
      "outputs": [
        {
          "data": {
            "text/plain": [
              "<generator object NTM.read_input_stepwise at 0x7f7fde7ec6d0>"
            ]
          },
          "execution_count": 13,
          "metadata": {},
          "output_type": "execute_result"
        }
      ],
      "source": [
        "ntm.read_input_stepwise('#EEEEE-EE#')"
      ]
    },
    {
      "cell_type": "markdown",
      "metadata": {
        "id": "mq9OnYkMrZiS"
      },
      "source": [
        "O método/função `read_input(palavra)` verifica se a _palavra_ é aceita pela Máquina de Turing e retorna a configuração final para ela."
      ]
    },
    {
      "cell_type": "code",
      "execution_count": null,
      "metadata": {
        "colab": {
          "base_uri": "https://localhost:8080/"
        },
        "id": "phc7ZFdfrZiV",
        "outputId": "da27a049-ef6d-4d40-e6b8-93dfdd3a128c"
      },
      "outputs": [
        {
          "name": "stdout",
          "output_type": "stream",
          "text": [
            "halt: ###EEE####\n",
            "            ^\n"
          ]
        }
      ],
      "source": [
        "ntm.read_input('#EEEEE-EE#').pop().print()"
      ]
    },
    {
      "cell_type": "code",
      "execution_count": null,
      "metadata": {
        "colab": {
          "base_uri": "https://localhost:8080/"
        },
        "id": "DY6Mf4Q7rZiX",
        "outputId": "c86a7eda-dc98-42b3-8bfb-a91df374c1c1"
      },
      "outputs": [
        {
          "name": "stdout",
          "output_type": "stream",
          "text": [
            "accepted\n"
          ]
        }
      ],
      "source": [
        "if ntm.accepts_input('#EEEEE-EE#'):\n",
        "    print('accepted')\n",
        "else:\n",
        "    print('rejected')"
      ]
    },
    {
      "cell_type": "code",
      "execution_count": null,
      "metadata": {
        "colab": {
          "base_uri": "https://localhost:8080/"
        },
        "id": "2n27RDLLrZiZ",
        "outputId": "7cc34f9a-3615-4e31-9213-14eb68678a44"
      },
      "outputs": [
        {
          "data": {
            "text/plain": [
              "<generator object NTM.read_input_stepwise at 0x7f7fdea0e270>"
            ]
          },
          "execution_count": 16,
          "metadata": {},
          "output_type": "execute_result"
        }
      ],
      "source": [
        "ntm.read_input_stepwise('#EEEEE-EE#')"
      ]
    },
    {
      "cell_type": "code",
      "execution_count": null,
      "metadata": {
        "colab": {
          "base_uri": "https://localhost:8080/"
        },
        "id": "0BRshfGOrZib",
        "outputId": "2c772de7-ec71-4a4b-89a9-a421a0643ad0"
      },
      "outputs": [
        {
          "name": "stdout",
          "output_type": "stream",
          "text": [
            "Verificando palavra: #E-E#\n",
            "aceita\n",
            "halt: #####\n",
            "        ^\n",
            "Verificando palavra: #E-EE#\n",
            "aceita\n",
            "halt: ##-E##\n",
            "       ^\n",
            "Verificando palavra: #EEEEE-EE#\n",
            "aceita\n",
            "halt: ###EEE####\n",
            "            ^\n"
          ]
        }
      ],
      "source": [
        "palavras = ['#E-E#','#E-EE#','#EEEEE-EE#']\n",
        "\n",
        "for w in palavras:\n",
        "  print(\"Verificando palavra:\", w)\n",
        "  if ntm.accepts_input(w):\n",
        "    print('aceita')\n",
        "  else:\n",
        "    print('rejeitada')\n",
        "  ntm.read_input(w).pop().print()\n"
      ]
    },
    {
      "cell_type": "markdown",
      "metadata": {
        "id": "qNqcmpbDt9PF"
      },
      "source": [
        "## Multiplicação\n",
        "\n",
        "Exemplo da máquina de Turing de MULTIPLICAÇÃO replicada no JFLAP:\n",
        "\n",
        "<img src=\"https://github.com/Reginaldo-Neto/LFAC_T2/blob/main/relatorio/figuras/Multiplicacao_Neto_2252813.png?raw=1\" alt=\"Banner\" width=\"75%\"/>\n",
        "\n",
        "Como podemos observar, essa máquina de Turing elaborada para a MULTIPLICAÇÃO possui 10 estados, sendo 1 (q0) inicial e 1 (q10) final. Seu princípio de funcionamento é descrito a seguir:\n",
        "\n",
        "A MT identifica o início (e o final) da fita com o caraceter #, em seguida substitui o primeiro 'E' lido na entrada por '#' na fita, pois esse será a primeira unidade a multiplicar o segundo termo.\n",
        "\n",
        "Ao encontrar o símbolo de multiplicação (*) ela o copia na fita e continua, e passsa a substituir todos os caracteres '1' por 'E' e acrescenta a mesma quantidade de caraceteres mudados ao fim da fita representados pela letra 'Z'. \n",
        "\n",
        "Após isso, ela retorna ao lado esquerdo do operador em busca de mais dígitos '1' para repetir o mesmo processo, até que os dígitos '1' à esquerda do operando se encerrem.\n",
        "\n",
        "Para a validação do resultado, a MT volta substituindo todos os 'E' e 'Z' por 1, menos o último Z. Deste modo ela aplica corretamente o resultado da multiplicação.\n",
        "\n",
        "A implementação da MT pode ser vista no código III."
      ]
    },
    {
      "cell_type": "markdown",
      "metadata": {
        "id": "v_nDAx8ht9PK"
      },
      "source": [
        "__Código III:__ Implementação da Máquina de Turing para Multiplicação"
      ]
    },
    {
      "cell_type": "code",
      "execution_count": null,
      "metadata": {
        "id": "s-ZcQhQVt9PN"
      },
      "outputs": [],
      "source": [
        "from automata.tm.ntm import NTM\n",
        "# NTM que faz a operação de multiplicação.\n",
        "ntm = NTM(\n",
        "    states={'s0', 's1', 's2', 's3', 's4', 's5', 's6', 's7', 's8', 's9', 'halt'},\n",
        "    input_symbols={'0', '1', '*'},\n",
        "    tape_symbols={'0', '1', '*', '#', 'E', 'Z'},\n",
        "    transitions={\n",
        "        's0': {\n",
        "            '#': {('s0', '#', 'R')},\n",
        "            '1': {('s1', '#', 'R')}\n",
        "        },\n",
        "        's1': {\n",
        "            '*': {('s2', '1', 'R')},\n",
        "            '1': {('s4', '1', 'R')}\n",
        "        },\n",
        "        's2': {\n",
        "            'Z': {('s2', '1', 'R')},\n",
        "            '1': {('s2', '1', 'R')},\n",
        "            '#': {('s3', '#', 'L')}\n",
        "        },\n",
        "        's3': {\n",
        "            '1': {('halt', '#', 'N')}\n",
        "        },\n",
        "        's4': {\n",
        "            '1': {('s4', '1', 'R')},\n",
        "            '*': {('s5', '*', 'R')}\n",
        "        },\n",
        "        's5': {\n",
        "            '1': {('s6', 'E', 'R')},\n",
        "            'Z': {('s8', 'Z', 'L')}\n",
        "        },\n",
        "        's6': {\n",
        "            '1': {('s6', '1', 'R')},\n",
        "            'Z': {('s6', 'Z', 'R')},\n",
        "            '#': {('s7', 'Z', 'L')}\n",
        "        },\n",
        "        's7': {\n",
        "            'Z': {('s7', 'Z', 'L')},\n",
        "            '1': {('s7', '1', 'L')},\n",
        "            'E': {('s5', 'E', 'R')}\n",
        "        },\n",
        "        's8': {\n",
        "            'E': {('s8', '1', 'L')},\n",
        "            '*': {('s9', '*', 'L')}\n",
        "        },\n",
        "        's9': {\n",
        "            '1': {('s9', '1', 'L')},\n",
        "            '#': {('s0', '#', 'R')}\n",
        "        }         \n",
        "    },\n",
        "    initial_state='s0',\n",
        "    blank_symbol='#',\n",
        "    final_states={'halt'}\n",
        ")"
      ]
    },
    {
      "cell_type": "markdown",
      "metadata": {
        "id": "RI4JKonRt9PS"
      },
      "source": [
        "Função de Validação para verificar se a especificação está correta."
      ]
    },
    {
      "cell_type": "code",
      "execution_count": null,
      "metadata": {
        "colab": {
          "base_uri": "https://localhost:8080/"
        },
        "id": "TtkljZJXt9PV",
        "outputId": "143b1e70-a27b-4d18-b7a6-414114ecf1f5"
      },
      "outputs": [
        {
          "data": {
            "text/plain": [
              "True"
            ]
          },
          "execution_count": 19,
          "metadata": {},
          "output_type": "execute_result"
        }
      ],
      "source": [
        "ntm.validate()  # returns True"
      ]
    },
    {
      "cell_type": "code",
      "execution_count": null,
      "metadata": {
        "colab": {
          "base_uri": "https://localhost:8080/"
        },
        "id": "RrlU2Zcit9PY",
        "outputId": "2aca4984-ccf7-4952-c4ab-362cdf927592"
      },
      "outputs": [
        {
          "data": {
            "text/plain": [
              "<generator object NTM.read_input_stepwise at 0x7f7fdea0e350>"
            ]
          },
          "execution_count": 20,
          "metadata": {},
          "output_type": "execute_result"
        }
      ],
      "source": [
        "ntm.read_input_stepwise('#11*111########')"
      ]
    },
    {
      "cell_type": "markdown",
      "metadata": {
        "id": "gWZ0jN4Zt9Pb"
      },
      "source": [
        "O método/função `read_input(palavra)` verifica se a _palavra_ é aceita pela Máquina de Turing e retorna a configuração final para ela."
      ]
    },
    {
      "cell_type": "code",
      "execution_count": null,
      "metadata": {
        "colab": {
          "base_uri": "https://localhost:8080/"
        },
        "id": "Fuw-oobLt9Pe",
        "outputId": "01466d24-0df1-443f-b37e-7643d9335607"
      },
      "outputs": [
        {
          "name": "stdout",
          "output_type": "stream",
          "text": [
            "halt: ###111111######\n",
            "               ^\n"
          ]
        }
      ],
      "source": [
        "ntm.read_input('#11*111########').pop().print()"
      ]
    },
    {
      "cell_type": "code",
      "execution_count": null,
      "metadata": {
        "colab": {
          "base_uri": "https://localhost:8080/"
        },
        "id": "TYoK2Jcit9Ph",
        "outputId": "186f91cb-0fa4-4c51-ef02-0e44d941e41a"
      },
      "outputs": [
        {
          "name": "stdout",
          "output_type": "stream",
          "text": [
            "accepted\n"
          ]
        }
      ],
      "source": [
        "if ntm.accepts_input('#111*111#########'):\n",
        "    print('accepted')\n",
        "else:\n",
        "    print('rejected')"
      ]
    },
    {
      "cell_type": "code",
      "execution_count": null,
      "metadata": {
        "colab": {
          "base_uri": "https://localhost:8080/"
        },
        "id": "JtBi99zKt9Pl",
        "outputId": "d7835c4a-403f-44e3-8a96-0d1af21f22ed"
      },
      "outputs": [
        {
          "data": {
            "text/plain": [
              "<generator object NTM.read_input_stepwise at 0x7f7fdea0e970>"
            ]
          },
          "execution_count": 23,
          "metadata": {},
          "output_type": "execute_result"
        }
      ],
      "source": [
        "ntm.read_input_stepwise('#11111*11#################')"
      ]
    },
    {
      "cell_type": "code",
      "execution_count": null,
      "metadata": {
        "colab": {
          "base_uri": "https://localhost:8080/"
        },
        "id": "jmHhZX63t9Pq",
        "outputId": "bfd659fc-4308-4776-d37f-13af3de07752"
      },
      "outputs": [
        {
          "name": "stdout",
          "output_type": "stream",
          "text": [
            "Verificando palavra: #1*1#########\n",
            "aceita\n",
            "halt: ##1##########\n",
            "         ^\n",
            "Verificando palavra: #1*11#########\n",
            "aceita\n",
            "halt: ##11##########\n",
            "          ^\n",
            "Verificando palavra: #1111*11#########\n",
            "aceita\n",
            "halt: #####11111111####\n",
            "                   ^\n"
          ]
        }
      ],
      "source": [
        "palavras = ['#1*1#########','#1*11#########','#1111*11#########']\n",
        "\n",
        "for w in palavras:\n",
        "  print(\"Verificando palavra:\", w)\n",
        "  if ntm.accepts_input(w):\n",
        "    print('aceita')\n",
        "  else:\n",
        "    print('rejeitada')\n",
        "  ntm.read_input(w).pop().print()\n"
      ]
    },
    {
      "cell_type": "markdown",
      "metadata": {
        "id": "42MudabguJjz"
      },
      "source": [
        "## Divisão\n",
        "\n",
        "Exemplo da máquina de Turing de DIVISÃO replicada no JFLAP:\n",
        "\n",
        "<img src=\"https://github.com/Reginaldo-Neto/LFAC_T2/blob/main/relatorio/figuras/Divisao_Neto_2252813.png?raw=1\" alt=\"Banner\" width=\"75%\"/>\n",
        "\n",
        "Como podemos observar, essa máquina de Turing elaborada para a DIVISÃO possui 10 estados (q7 não existe nesse exemplo), sendo 1 (q0) inicial e 1 (q11) final. Seu princípio de funcionamento é descrito a seguir:\n",
        "\n",
        "A MT identifica o início (e o final) da fita com o caraceter #, em seguida busca por termos '1' no dividendo, caso encontre vai até o final do divisor substituindo seu último carater '1' por 'E'. Repetindo esse procedimento de \"1 pra 1\" até que todos os caracteres do divisor sejam 'E'.\n",
        "\n",
        "Após isso, ela acrescenta um caracter 'Z' ao final, que se trata de um marcador para saber \"quantas vezes o dividendo já foi dividido pelo divisor\", ou seja, quantas vezes o divisor foi multiplicado até chegar no valor que está sendo dividido.\n",
        "\n",
        "Feito isso, ela substitui todos os 'E' por '1' novamente, e retorna ao lado esquerdo do operador em busca de mais dígitos '1' para repetir o mesmo processo, até que os dígitos '1' à esquerda do operando se encerrem.\n",
        "\n",
        "Para a validação do resultado, a MT volta substituindo todos os '1' e '/' por '#' e quando restam apenas caracteres 'Z', ela os substitui por 1, chegando deste modo ao resultado final truncado da divisão.\n",
        "\n",
        "A implementação da MT pode ser vista no código IV."
      ]
    },
    {
      "cell_type": "markdown",
      "metadata": {
        "id": "LT06wU2-uJj0"
      },
      "source": [
        "__Código IV:__ Implementação da Máquina de Turing para Divisão"
      ]
    },
    {
      "cell_type": "code",
      "execution_count": null,
      "metadata": {
        "id": "T9w1Gu63uJj2"
      },
      "outputs": [],
      "source": [
        "from automata.tm.ntm import NTM\n",
        "# NTM que faz a operação de divisão.\n",
        "ntm = NTM(\n",
        "    states={'s0', 's1', 's2', 's3', 's4', 's5', 's6', 's7', 's8', 's9', 'halt'},\n",
        "    input_symbols={'0', '1', '/'},\n",
        "    tape_symbols={'0', '1', '/', '#', 'E', 'Z'},\n",
        "    transitions={\n",
        "        's0': {\n",
        "            '#': {('s1', '#', 'R')}\n",
        "        },\n",
        "        's1': {\n",
        "            '1': {('s2', '#', 'R')},\n",
        "            '/': {('s9', '#', 'R')}            \n",
        "        },\n",
        "        's2': {\n",
        "            '1': {('s2', '1', 'R')},\n",
        "            '/': {('s3', '/', 'R')}\n",
        "        },\n",
        "        's3': {\n",
        "            '1': {('s3', '1', 'R')},\n",
        "            'E': {('s3', 'E', 'R')},\n",
        "            '#': {('s4', '#', 'L')},\n",
        "            'Z': {('s4', 'Z', 'L')}\n",
        "        },\n",
        "        's4': {\n",
        "            'E': {('s4', 'E', 'L')},\n",
        "            '1': {('s5', 'E', 'L')}\n",
        "        },\n",
        "        's5': {\n",
        "            '1': {('s7', '1', 'L')},\n",
        "            '/': {('s6', '/', 'R')}\n",
        "        },\n",
        "        's6': {\n",
        "            'E': {('s6', '1', 'R')},\n",
        "            'Z': {('s6', 'Z', 'R')},\n",
        "            '#': {('s7', 'Z', 'L')}\n",
        "        },\n",
        "        's7': {\n",
        "            '1': {('s7', '1', 'L')},\n",
        "            'Z': {('s7', 'Z', 'L')},\n",
        "            '/': {('s8', '/', 'L')}\n",
        "        },\n",
        "        's8': {\n",
        "            '1': {('s8', '1', 'L')},\n",
        "            '#': {('s1', '#', 'R')}\n",
        "        },\n",
        "        's9': {\n",
        "            'Z': {('s9', '1', 'R')},\n",
        "            '1': {('s9', '#', 'R')},\n",
        "            '#': {('halt', '#', 'N')}\n",
        "        }       \n",
        "    },\n",
        "    initial_state='s0',\n",
        "    blank_symbol='#',\n",
        "    final_states={'halt'}\n",
        ")"
      ]
    },
    {
      "cell_type": "markdown",
      "metadata": {
        "id": "vXebawLGuJj4"
      },
      "source": [
        "Função de Validação para verificar se a especificação está correta."
      ]
    },
    {
      "cell_type": "code",
      "execution_count": null,
      "metadata": {
        "colab": {
          "base_uri": "https://localhost:8080/"
        },
        "id": "SiuJcadwuJj5",
        "outputId": "b25770c9-da8a-4032-854d-6b7cd59dc8da"
      },
      "outputs": [
        {
          "data": {
            "text/plain": [
              "True"
            ]
          },
          "execution_count": 26,
          "metadata": {},
          "output_type": "execute_result"
        }
      ],
      "source": [
        "ntm.validate()  # returns True"
      ]
    },
    {
      "cell_type": "code",
      "execution_count": null,
      "metadata": {
        "colab": {
          "base_uri": "https://localhost:8080/"
        },
        "id": "YkHufq-QuJj7",
        "outputId": "b0e8db22-b348-4ef4-c95d-fa8d571160a3"
      },
      "outputs": [
        {
          "data": {
            "text/plain": [
              "<generator object NTM.read_input_stepwise at 0x7f7fdea0e120>"
            ]
          },
          "execution_count": 27,
          "metadata": {},
          "output_type": "execute_result"
        }
      ],
      "source": [
        "ntm.read_input_stepwise('#1111/11###########')"
      ]
    },
    {
      "cell_type": "markdown",
      "metadata": {
        "id": "vXwUy_fwuJj9"
      },
      "source": [
        "O método/função `read_input(palavra)` verifica se a _palavra_ é aceita pela Máquina de Turing e retorna a configuração final para ela."
      ]
    },
    {
      "cell_type": "code",
      "execution_count": null,
      "metadata": {
        "colab": {
          "base_uri": "https://localhost:8080/"
        },
        "id": "yHnyO-E0uJj-",
        "outputId": "2ac73be9-f2b9-4592-df1c-c55f389fd4ba"
      },
      "outputs": [
        {
          "name": "stdout",
          "output_type": "stream",
          "text": [
            "halt: ########11#########\n",
            "                ^\n"
          ]
        }
      ],
      "source": [
        "ntm.read_input('#1111/11###########').pop().print()"
      ]
    },
    {
      "cell_type": "code",
      "execution_count": null,
      "metadata": {
        "colab": {
          "base_uri": "https://localhost:8080/"
        },
        "id": "MaWfrOi_uJkA",
        "outputId": "e301d6f0-0159-493a-9cb5-4301230f60f9"
      },
      "outputs": [
        {
          "name": "stdout",
          "output_type": "stream",
          "text": [
            "rejected\n"
          ]
        }
      ],
      "source": [
        "if ntm.accepts_input('#111111-EE##############'):\n",
        "    print('accepted')\n",
        "else:\n",
        "    print('rejected')"
      ]
    },
    {
      "cell_type": "code",
      "execution_count": null,
      "metadata": {
        "colab": {
          "base_uri": "https://localhost:8080/"
        },
        "id": "Py2oqqqYuJkA",
        "outputId": "aca4bad2-b524-4b99-837d-0dcd00025971"
      },
      "outputs": [
        {
          "data": {
            "text/plain": [
              "<generator object NTM.read_input_stepwise at 0x7f7fdea0ec10>"
            ]
          },
          "execution_count": 30,
          "metadata": {},
          "output_type": "execute_result"
        }
      ],
      "source": [
        "ntm.read_input_stepwise('#1111/11###########')"
      ]
    },
    {
      "cell_type": "code",
      "execution_count": null,
      "metadata": {
        "colab": {
          "base_uri": "https://localhost:8080/"
        },
        "id": "LG4tuDrEuJkD",
        "outputId": "4f1c2752-f2ce-4eaa-f9d2-8af55dd43ca8"
      },
      "outputs": [
        {
          "name": "stdout",
          "output_type": "stream",
          "text": [
            "Verificando palavra: #1111/11###########\n",
            "aceita\n",
            "halt: ########11#########\n",
            "                ^\n",
            "Verificando palavra: #111111/111###########\n",
            "aceita\n",
            "halt: ###########11#########\n",
            "                   ^\n",
            "Verificando palavra: #11/11###########\n",
            "aceita\n",
            "halt: ######1##########\n",
            "             ^\n"
          ]
        }
      ],
      "source": [
        "palavras = ['#1111/11###########','#111111/111###########','#11/11###########']\n",
        "\n",
        "for w in palavras:\n",
        "  print(\"Verificando palavra:\", w)\n",
        "  if ntm.accepts_input(w):\n",
        "    print('aceita')\n",
        "  else:\n",
        "    print('rejeitada')\n",
        "  ntm.read_input(w).pop().print()\n"
      ]
    },
    {
      "cell_type": "markdown",
      "metadata": {
        "id": "3eyzSr_yKUO6"
      },
      "source": [
        "## Referências\n",
        "\n",
        "SIPSER, M. __Introdução à teoria da computação.__ São Paulo: Cengage Learning, 2007. ISBN 9788522104994. Disponível em: https://search.ebscohost.com/login.aspx?direct=true&db=edsmib&AN=edsmib.000008725&lang=pt-br&site=eds-live&scope=site. Acesso em: 2 jun. 2022.\n",
        "\n",
        "MENEZES, P. B. __Linguagens formais e autômatos.__ Porto Alegre: Bookman, 2011. ISBN 9788577807994. Disponível em: https://search.ebscohost.com/login.aspx?direct=true&db=edsmib&AN=edsmib.000000444&lang=pt-br&site=eds-live&scope=site. Acesso em: 2 jun. 2022.\n",
        "\n",
        "EZHILARASU, P. __Construction of a Basic Calculator through the Turing Machine – A Review.__ Tamil Nadu, índia: International Journal of Engineering Trends and Applications (IJETA) – Volume 2 Issue 6, Nov-Dec 2015. Disponível em: http://www.ijetajournal.org/volume-2/issue-6/IJETA-V2I6P1.pdf. Acesso em: 16 jun. 2022."
      ]
    }
  ],
  "metadata": {
    "colab": {
      "collapsed_sections": [
        "cFl1ALSiNXU1",
        "XQvuIMI-NXU-",
        "qNqcmpbDt9PF",
        "42MudabguJjz"
      ],
      "name": "maquina_turing_operacoes_aritmeticas.ipynb",
      "provenance": [],
      "include_colab_link": true
    },
    "interpreter": {
      "hash": "e7370f93d1d0cde622a1f8e1c04877d8463912d04d973331ad4851f04de6915a"
    },
    "kernelspec": {
      "display_name": "Python 3.9.9 64-bit",
      "language": "python",
      "name": "python3"
    },
    "language_info": {
      "codemirror_mode": {
        "name": "ipython",
        "version": 3
      },
      "file_extension": ".py",
      "mimetype": "text/x-python",
      "name": "python",
      "nbconvert_exporter": "python",
      "pygments_lexer": "ipython3",
      "version": "3.9.9"
    }
  },
  "nbformat": 4,
  "nbformat_minor": 0
}