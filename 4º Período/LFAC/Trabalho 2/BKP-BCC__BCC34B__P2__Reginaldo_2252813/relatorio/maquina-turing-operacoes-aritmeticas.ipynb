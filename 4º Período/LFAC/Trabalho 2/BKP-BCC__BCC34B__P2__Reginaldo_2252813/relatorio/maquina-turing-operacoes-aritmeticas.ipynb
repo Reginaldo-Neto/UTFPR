{
  "cells": [
    {
      "cell_type": "markdown",
      "metadata": {
        "id": "fFwyaeKBSxUK"
      },
      "source": [
        "\n",
        "# Tutorial Iterativo em Jupyter sobre Máquinas de Turing para Operações Aritméticas\n",
        "\n",
        "<img src=\"./figuras/banner-lfac.png\" alt=\"Banner\" width=\"40%\"/>\n",
        "\n",
        "\n",
        "__Testerson dos Santos__ e __Testelvina da Silva__\n",
        "\n",
        "e-mails: [testerson@utfpr.edu.br](mailto:testerson@utfpr.edu.br), [testelvina@utfpr.edu.br](mailto:testelvina@utfpr.edu.br)\n",
        "\n",
        "Universidade Tecnológica Federal do Paraná (UTFPR)\n",
        "\n",
        "Departamento Acadêmico de Computação (DACOM-CM)\n",
        "\n",
        "Curso de Bacharelado em Ciência da Computação.\n",
        "\n",
        "## Resumo\n",
        "\n",
        "_Lorem ipsum dolor sit amet, consectetur adipiscing elit, sed do eiusmod tempor incididunt ut labore et dolore magna aliqua. Ut enim ad minim veniam, quis nostrud exercitation ullamco laboris nisi ut aliquip ex ea commodo consequat. Duis aute irure dolor in reprehenderit in voluptate velit esse cillum dolore eu fugiat nulla pariatur. Excepteur sint occaecat cupidatat non proident, sunt in culpa qui officia deserunt mollit anim id est laborum.\n",
        "Lorem ipsum dolor sit amet, consectetur adipiscing elit, sed do eiusmod tempor incididunt ut labore et dolore magna aliqua. Ut enim ad minim veniam, quis nostrud exercitation ullamco laboris nisi ut aliquip ex ea commodo consequat. Duis aute irure dolor in reprehenderit in voluptate velit esse cillum dolore eu fugiat nulla pariatur. Excepteur sint occaecat cupidatat non proident, sunt in culpa qui officia deserunt mollit anim id est laborum.\n",
        "Lorem ipsum dolor sit amet, consectetur adipiscing elit, sed do eiusmod tempor incididunt ut labore et dolore magna aliqua. Ut enim ad minim veniam, quis nostrud exercitation ullamco laboris nisi ut aliquip ex ea commodo consequat. Duis aute irure dolor in reprehenderit in voluptate velit esse cillum dolore eu fugiat nulla pariatur. Excepteur sint occaecat cupidatat non proident, sunt in culpa qui officia deserunt mollit anim id est laborum._\n",
        "\n"
      ]
    },
    {
      "cell_type": "markdown",
      "metadata": {
        "id": "O3gF69-Mofsf"
      },
      "source": [
        "## Introdução\n",
        "\n",
        "Lorem ipsum dolor sit amet, consectetur adipiscing elit, sed do eiusmod tempor incididunt ut labore et dolore magna aliqua. Ut enim ad minim veniam, quis nostrud exercitation ullamco laboris nisi ut aliquip ex ea commodo consequat. Duis aute irure dolor in reprehenderit in voluptate velit esse cillum dolore eu fugiat nulla pariatur. Excepteur sint occaecat cupidatat non proident, sunt in culpa qui officia deserunt mollit anim id est laborum.\n",
        "\n",
        "Lorem ipsum dolor sit amet, consectetur adipiscing elit, sed do eiusmod tempor incididunt ut labore et dolore magna aliqua. Ut enim ad minim veniam, quis nostrud exercitation ullamco laboris nisi ut aliquip ex ea commodo consequat. Duis aute irure dolor in reprehenderit in voluptate velit esse cillum dolore eu fugiat nulla pariatur. Excepteur sint occaecat cupidatat non proident, sunt in culpa qui officia deserunt mollit anim id est laborum.\n",
        "\n",
        "Lorem ipsum dolor sit amet, consectetur adipiscing elit, sed do eiusmod tempor incididunt ut labore et dolore magna aliqua. Ut enim ad minim veniam, quis nostrud exercitation ullamco laboris nisi ut aliquip ex ea commodo consequat. Duis aute irure dolor in reprehenderit in voluptate velit esse cillum dolore eu fugiat nulla pariatur. Excepteur sint occaecat cupidatat non proident, sunt in culpa qui officia deserunt mollit anim id est laborum. A _Figura 1_ apresenta uma visão geral do processo de Compilação.\n",
        "\n",
        "![Visão Geral do Processo de Compilação](figuras/afd-letra-digito-outro.png)\n",
        "\n",
        "<!--<img src=\"https://raw.githubusercontent.com/rogerioag/rea-comp04-compiladores/main/jupyter-notebooks/figuras/cm-to-exe.png\" alt=\"Visão Geral do Processo de Compilação\" width=\"95%\"/>-->\n",
        "\n",
        "__Figura 1:__ Visão Geral do Processo de Compilação\n"
      ]
    },
    {
      "cell_type": "markdown",
      "metadata": {},
      "source": [
        "# Máquinas de Turing\n",
        "\n",
        "Texto"
      ]
    },
    {
      "cell_type": "markdown",
      "metadata": {
        "id": "NsOC5oUKDg1e"
      },
      "source": [
        "## Preparação do Ambiente\n",
        "\n",
        "Falar sobre a preparação do ambiente para executar os exemplos, quais bibliotecas são necessárias. O texto seguinte é apenas um exemplo sobre Compiladores.\n",
        "\n",
        "\n",
        "A biblioteca que auxiliam na implementação de Máquinas de Estados e Autômatos, como [automata-lib](https://pypi.org/project/automata-lib/).\n",
        "\n",
        "\n",
        "Como estamos utilizando ferramentas para gerar os _Analisadores Léxico e Sintático_ e na fase final gerarmos o código LLVM-IR na linguagem de programação _Python_, precisamos preparar o ambiente como algumas bibliotecas que serão utilizadas, dentre elas o [PLY](https://www.dabeaz.com/ply/ply.html) -- que gera a implementação da parte léxica e sintática, [AnyTree](https://anytree.readthedocs.io/en/latest) -- para a representação da árvore sintática, o [llvmlite](https://pypi.org/project/llvmlite/) -- para a geração do código LLVM-IR.\n",
        "\n",
        "\n",
        "__Iremos instalar cada uma das ferramentas:__ [PLY](https://www.dabeaz.com/ply/ply.html), [AnyTree](https://anytree.readthedocs.io/en/latest), [graphviz](https://pypi.org/project/graphviz/) e [llvmlite](https://pypi.org/project/llvmlite/)\n"
      ]
    },
    {
      "cell_type": "code",
      "execution_count": null,
      "metadata": {
        "colab": {
          "base_uri": "https://localhost:8080/"
        },
        "id": "E0h4dKQPKZ-k",
        "outputId": "7642c694-1722-4c0f-bbad-a8b7e5752c93"
      },
      "outputs": [
        {
          "name": "stdout",
          "output_type": "stream",
          "text": [
            "Collecting ply\n",
            "\u001b[?25l  Downloading https://files.pythonhosted.org/packages/a3/58/35da89ee790598a0700ea49b2a66594140f44dec458c07e8e3d4979137fc/ply-3.11-py2.py3-none-any.whl (49kB)\n",
            "\r\u001b[K     |██████▋                         | 10kB 15.6MB/s eta 0:00:01\r\u001b[K     |█████████████▏                  | 20kB 18.1MB/s eta 0:00:01\r\u001b[K     |███████████████████▉            | 30kB 14.8MB/s eta 0:00:01\r\u001b[K     |██████████████████████████▍     | 40kB 13.5MB/s eta 0:00:01\r\u001b[K     |████████████████████████████████| 51kB 3.9MB/s \n",
            "\u001b[?25hInstalling collected packages: ply\n",
            "Successfully installed ply-3.11\n"
          ]
        }
      ],
      "source": [
        "!pip install ply"
      ]
    },
    {
      "cell_type": "code",
      "execution_count": 2,
      "metadata": {
        "colab": {
          "base_uri": "https://localhost:8080/"
        },
        "id": "gUZZ5OVZKnNg",
        "outputId": "726f2d5b-1acd-487b-d201-e6cacadf4287"
      },
      "outputs": [
        {
          "name": "stdout",
          "output_type": "stream",
          "text": [
            "Defaulting to user installation because normal site-packages is not writeable\n",
            "Requirement already satisfied: automata-lib in /var/data/python/lib/python3.9/site-packages (5.0.0)\n",
            "Requirement already satisfied: pydot in /var/data/python/lib/python3.9/site-packages (from automata-lib) (1.4.2)\n",
            "Requirement already satisfied: pyparsing>=2.1.4 in /var/data/python/lib/python3.9/site-packages (from pydot->automata-lib) (3.0.9)\n"
          ]
        }
      ],
      "source": [
        "!pip3 install automata-lib"
      ]
    },
    {
      "cell_type": "code",
      "execution_count": null,
      "metadata": {
        "colab": {
          "base_uri": "https://localhost:8080/"
        },
        "id": "FuQI4_KPKzBy",
        "outputId": "17cbf71b-0c4e-4973-a9ae-c9a51ab320c4"
      },
      "outputs": [
        {
          "name": "stdout",
          "output_type": "stream",
          "text": [
            "Requirement already satisfied: graphviz in /usr/local/lib/python3.7/dist-packages (0.10.1)\n"
          ]
        }
      ],
      "source": [
        "!pip install graphviz"
      ]
    },
    {
      "cell_type": "code",
      "execution_count": null,
      "metadata": {
        "colab": {
          "base_uri": "https://localhost:8080/"
        },
        "id": "255VdRiLKrdG",
        "outputId": "5d4136a7-587b-4655-b024-d5e90ab36073"
      },
      "outputs": [
        {
          "name": "stdout",
          "output_type": "stream",
          "text": [
            "Requirement already satisfied: llvmlite in /usr/local/lib/python3.7/dist-packages (0.34.0)\n"
          ]
        }
      ],
      "source": [
        "!pip install llvmlite"
      ]
    },
    {
      "cell_type": "markdown",
      "metadata": {
        "id": "EHKowkgSVUi5"
      },
      "source": [
        "__Instalação de alguns _plugins_ para o Jupyter:__"
      ]
    },
    {
      "cell_type": "code",
      "execution_count": null,
      "metadata": {
        "colab": {
          "base_uri": "https://localhost:8080/"
        },
        "id": "DisvxsM3U9zq",
        "outputId": "b4302df8-fe7a-4740-e50a-9338be42481a"
      },
      "outputs": [
        {
          "name": "stdout",
          "output_type": "stream",
          "text": [
            "Downloading: https://rawgit.com/jfbercher/small_nbextensions/master/highlighter.zip -> /tmp/tmpRHcqzB/highlighter.zip\n",
            "Extracting: /tmp/tmpRHcqzB/highlighter.zip -> /root/.local/share/jupyter/nbextensions\n",
            "Enabling notebook extension highlighter/highlighter...\n",
            "      - Validating: \u001b[32mOK\u001b[0m\n"
          ]
        }
      ],
      "source": [
        "!jupyter nbextension install https://rawgit.com/jfbercher/small_nbextensions/master/highlighter.zip  --user\n",
        "!jupyter nbextension enable highlighter/highlighter"
      ]
    },
    {
      "cell_type": "code",
      "execution_count": null,
      "metadata": {
        "colab": {
          "base_uri": "https://localhost:8080/",
          "height": 17
        },
        "id": "a-s-dVnxdbZW",
        "outputId": "b62643b8-22fb-46cf-d278-dc14c7a9af80"
      },
      "outputs": [
        {
          "data": {
            "application/javascript": "require(\"base/js/utils\").load_extensions(\"highlighter/highlighter\")",
            "text/plain": [
              "<IPython.core.display.Javascript object>"
            ]
          },
          "metadata": {
            "tags": []
          },
          "output_type": "display_data"
        }
      ],
      "source": [
        "%%javascript\n",
        "require(\"base/js/utils\").load_extensions(\"highlighter/highlighter\")"
      ]
    },
    {
      "cell_type": "markdown",
      "metadata": {},
      "source": [
        "# Operações Aritméticas\n",
        "\n",
        "Colocar um Texto Explicativo..."
      ]
    },
    {
      "cell_type": "markdown",
      "metadata": {},
      "source": [
        "## Adição\n",
        "\n",
        "Texto e código.\n",
        "Colocar a figura feita no JFLAP...\n",
        "Explicar o funcionamento da máquina.\n",
        "\n",
        "\n",
        "A implementação da MT pode ser vista no código XX."
      ]
    },
    {
      "cell_type": "markdown",
      "metadata": {},
      "source": [
        "__Código XX:__ Implementação da Máquina de Turing para Adição"
      ]
    },
    {
      "cell_type": "code",
      "execution_count": 36,
      "metadata": {},
      "outputs": [],
      "source": [
        "from automata.tm.ntm import NTM\n",
        "# NTM que faz a operação de adição.\n",
        "ntm = NTM(\n",
        "    states={'s0', 's1', 's2', 's3', 'halt'},\n",
        "    input_symbols={'0', '1', '+'},\n",
        "    tape_symbols={'0', '1', '+', '#', 'E'},\n",
        "    transitions={\n",
        "        's0': {\n",
        "            '#': {('s1', '#', 'R')}\n",
        "        },\n",
        "        's1': {\n",
        "            'E': {('s1', 'E', 'R')},\n",
        "            '+': {('s2', 'E', 'R')}\n",
        "        },\n",
        "        's2': {\n",
        "            'E': {('s2', 'E', 'R')},\n",
        "            '#': {('s3', '#', 'L')}\n",
        "        },\n",
        "        's3': {\n",
        "            'E': {('halt', '#', 'N')}\n",
        "        }\n",
        "    },\n",
        "    initial_state='s0',\n",
        "    blank_symbol='#',\n",
        "    final_states={'halt'}\n",
        ")"
      ]
    },
    {
      "cell_type": "markdown",
      "metadata": {},
      "source": [
        "Função de Validação para verificar se a especificação está correta."
      ]
    },
    {
      "cell_type": "code",
      "execution_count": 17,
      "metadata": {},
      "outputs": [
        {
          "data": {
            "text/plain": [
              "True"
            ]
          },
          "execution_count": 17,
          "metadata": {},
          "output_type": "execute_result"
        }
      ],
      "source": [
        "ntm.validate()  # returns True"
      ]
    },
    {
      "cell_type": "code",
      "execution_count": 18,
      "metadata": {},
      "outputs": [
        {
          "data": {
            "text/plain": [
              "<generator object NTM.read_input_stepwise at 0x7f7d881ac270>"
            ]
          },
          "execution_count": 18,
          "metadata": {},
          "output_type": "execute_result"
        }
      ],
      "source": [
        "ntm.read_input_stepwise('#EEEEE+EE#')"
      ]
    },
    {
      "cell_type": "markdown",
      "metadata": {},
      "source": [
        "O método/função `read_input(palavra)` verifica se a _palavra_ é aceita pela Máquina de Turing e retorna a configuração final para ela."
      ]
    },
    {
      "cell_type": "code",
      "execution_count": 22,
      "metadata": {},
      "outputs": [
        {
          "name": "stdout",
          "output_type": "stream",
          "text": [
            "halt: #EEEEEEE##\n",
            "              ^\n"
          ]
        }
      ],
      "source": [
        "ntm.read_input('#EEEEE+EE#').pop().print()"
      ]
    },
    {
      "cell_type": "code",
      "execution_count": 19,
      "metadata": {},
      "outputs": [
        {
          "name": "stdout",
          "output_type": "stream",
          "text": [
            "accepted\n"
          ]
        }
      ],
      "source": [
        "if ntm.accepts_input('#EEEEE+EE#'):\n",
        "    print('accepted')\n",
        "else:\n",
        "    print('rejected')"
      ]
    },
    {
      "cell_type": "code",
      "execution_count": 32,
      "metadata": {},
      "outputs": [
        {
          "data": {
            "text/plain": [
              "<generator object NTM.read_input_stepwise at 0x7f7d8810e120>"
            ]
          },
          "execution_count": 32,
          "metadata": {},
          "output_type": "execute_result"
        }
      ],
      "source": [
        "ntm.read_input_stepwise('#EEEEE+EE#')"
      ]
    },
    {
      "cell_type": "code",
      "execution_count": 30,
      "metadata": {},
      "outputs": [
        {
          "name": "stdout",
          "output_type": "stream",
          "text": [
            "Verificando palavra: #E+E#\n",
            "aceita\n",
            "halt: #EE##\n",
            "         ^\n",
            "Verificando palavra: #E+EE#\n",
            "aceita\n",
            "halt: #EEE##\n",
            "          ^\n",
            "Verificando palavra: #EEEEE+EE#\n",
            "aceita\n",
            "halt: #EEEEEEE##\n",
            "              ^\n"
          ]
        }
      ],
      "source": [
        "palavras = ['#E+E#','#E+EE#','#EEEEE+EE#']\n",
        "\n",
        "for w in palavras:\n",
        "  print(\"Verificando palavra:\", w)\n",
        "  if ntm.accepts_input(w):\n",
        "    print('aceita')\n",
        "  else:\n",
        "    print('rejeitada')\n",
        "  ntm.read_input(w).pop().print()\n"
      ]
    },
    {
      "cell_type": "markdown",
      "metadata": {},
      "source": [
        "## Subtração\n",
        "\n",
        "Texto e código"
      ]
    },
    {
      "cell_type": "markdown",
      "metadata": {},
      "source": [
        "## Multiplicação\n",
        "\n",
        "Texto e código  \n",
        "\n",
        "![Multiplicação](figuras/multiply.jff.png)\n",
        "\n",
        "__Figura X:__ Máquina de Turing que faz Multiplicação"
      ]
    },
    {
      "cell_type": "markdown",
      "metadata": {},
      "source": [
        "## Divisão\n",
        "\n",
        "Texto e código"
      ]
    },
    {
      "cell_type": "markdown",
      "metadata": {
        "id": "3eyzSr_yKUO6"
      },
      "source": [
        "## Referências\n",
        "\n",
        "SIPSER, M. __Introdução à teoria da computação.__ São Paulo: Cengage Learning, 2007. ISBN 9788522104994. Disponível em: https://search.ebscohost.com/login.aspx?direct=true&db=edsmib&AN=edsmib.000008725&lang=pt-br&site=eds-live&scope=site. Acesso em: 2 jun. 2022.\n",
        "\n",
        "MENEZES, P. B. __Linguagens formais e autômatos.__ Porto Alegre: Bookman, 2011. ISBN 9788577807994. Disponível em: https://search.ebscohost.com/login.aspx?direct=true&db=edsmib&AN=edsmib.000000444&lang=pt-br&site=eds-live&scope=site. Acesso em: 2 jun. 2022."
      ]
    }
  ],
  "metadata": {
    "colab": {
      "collapsed_sections": [],
      "include_colab_link": true,
      "name": "00-comp-introducao.ipynb",
      "provenance": [],
      "toc_visible": true
    },
    "interpreter": {
      "hash": "e7370f93d1d0cde622a1f8e1c04877d8463912d04d973331ad4851f04de6915a"
    },
    "kernelspec": {
      "display_name": "Python 3.9.9 64-bit",
      "language": "python",
      "name": "python3"
    },
    "language_info": {
      "codemirror_mode": {
        "name": "ipython",
        "version": 3
      },
      "file_extension": ".py",
      "mimetype": "text/x-python",
      "name": "python",
      "nbconvert_exporter": "python",
      "pygments_lexer": "ipython3",
      "version": "3.9.9"
    }
  },
  "nbformat": 4,
  "nbformat_minor": 0
}
