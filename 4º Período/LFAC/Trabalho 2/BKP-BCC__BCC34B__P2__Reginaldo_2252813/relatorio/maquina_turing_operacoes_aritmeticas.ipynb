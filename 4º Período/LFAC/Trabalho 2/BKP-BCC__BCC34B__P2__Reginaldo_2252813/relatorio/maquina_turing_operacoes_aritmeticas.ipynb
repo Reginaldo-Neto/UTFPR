{
  "cells": [
    {
      "cell_type": "markdown",
      "metadata": {
        "id": "fFwyaeKBSxUK"
      },
      "source": [
        "\n",
        "# Tutorial Iterativo em Jupyter sobre Máquinas de Turing para Operações Aritméticas\n",
        "\n",
        "<img src=\"./figuras/banner-lfac.png\" alt=\"Banner\" width=\"40%\"/>\n",
        "\n",
        "\n",
        "__Reginaldo Gregório de Souza Neto__\n",
        "\n",
        "e-mails: [reginaldoneto@alunos.utfpr.edu.br](mailto:reginaldoneto@alunos.utfpr.edu.br)\n",
        "\n",
        "Universidade Tecnológica Federal do Paraná (UTFPR)\n",
        "\n",
        "Departamento Acadêmico de Computação (DACOM-CM)\n",
        "\n",
        "Curso de Bacharelado em Ciência da Computação.\n",
        "\n",
        "## Resumo\n",
        "\n",
        "_Este relátorio se trata da implementação de uma máquina de Turing para resolver as 4 operações aritméticas básicas. Para tal, será realizada a prototipação dos modelos das máquinas de Turing no aplicativo JFLAP, assim como a programação da máquina de Turing em Python com o auxílio da biblioteca automota_lib. Serão realizados testes parar verificar o funcionamento do algoritmos, assim como uma análise de seus resultados._\n"
      ]
    },
    {
      "cell_type": "markdown",
      "metadata": {
        "id": "O3gF69-Mofsf"
      },
      "source": [
        "## Introdução\n",
        "\n",
        "Autômatos são máquinas de estados que são capazes de reconhecer linguagens e/ou palavras de acordo com seu alfabeto e suas funções de transições. Para que isso ocorra, cada máquina possui um modo de funcionamento específico de acordo as necessidades do ambiente em que foram elaboradas.\n",
        "\n",
        "Neste trabalho, abordaremos as Máquinas de Turing, que serão melhor explicadas no tópico a seguir. Entretanto, é válido tomar ciência de que o prícipio de elaboração desse projeto condiz com a prototipação e criação de um analisador léxico para a execução das 4 operações básicas aritméticas (soma, subtração, divisão e multiplicação).\n"
      ]
    },
    {
      "cell_type": "markdown",
      "metadata": {
        "id": "HKA-zHJLNXUj"
      },
      "source": [
        "# Máquinas de Turing\n",
        "\n",
        "Máquina de Turing (MT) se trata de um autômato proposto por Alan Turing em 1936, semelhante a um autômato finito com estados e funções de transições, entretanto a MT possui memória infinita e irrestrita. Além de atuar sobre uma ou mais fitas, as máquinas de Turing são os autômatos que mais se aproximam com os computadores de hoje em dia, deste modo, pode-se afirmar que uma máquina de Turing pode fazer tudo o que um computador real pode fazer.\n",
        "\n",
        "O conceito da máquina de Turing se dispõe principalmente sobre ações na fita (memória), sendo possível ler, escrever e determinar qual o movimento do cabeçote de leitura sobre a fita. Por conta disso, é possível realizarmos diversas operações e desempenhar funções complexas apenas com esses princípios básicos de funcionamento da MT. Dentre elas, as 4 operações aritméticas estão inclusas, sendo esse o enfoque deste trabalho."
      ]
    },
    {
      "cell_type": "markdown",
      "metadata": {
        "id": "NsOC5oUKDg1e"
      },
      "source": [
        "## Preparação do Ambiente\n",
        "\n",
        "Falar sobre a preparação do ambiente para executar os exemplos, quais bibliotecas são necessárias. O texto seguinte é apenas um exemplo sobre Compiladores.\n",
        "\n",
        "\n",
        "A biblioteca que auxiliam na implementação de Máquinas de Estados e Autômatos, como [automata-lib](https://pypi.org/project/automata-lib/).\n",
        "\n",
        "\n",
        "Como estamos utilizando ferramentas para gerar os _Analisadores Léxico e Sintático_ e na fase final gerarmos o código LLVM-IR na linguagem de programação _Python_, precisamos preparar o ambiente como algumas bibliotecas que serão utilizadas, dentre elas o [PLY](https://www.dabeaz.com/ply/ply.html) -- que gera a implementação da parte léxica e sintática, [AnyTree](https://anytree.readthedocs.io/en/latest) -- para a representação da árvore sintática, o [llvmlite](https://pypi.org/project/llvmlite/) -- para a geração do código LLVM-IR.\n",
        "\n",
        "\n",
        "__Iremos instalar cada uma das ferramentas:__ [PLY](https://www.dabeaz.com/ply/ply.html), [AnyTree](https://anytree.readthedocs.io/en/latest), [graphviz](https://pypi.org/project/graphviz/) e [llvmlite](https://pypi.org/project/llvmlite/)\n"
      ]
    },
    {
      "cell_type": "code",
      "execution_count": null,
      "metadata": {
        "colab": {
          "base_uri": "https://localhost:8080/"
        },
        "id": "gUZZ5OVZKnNg",
        "outputId": "f7ac70db-912f-4615-af5e-e3675949e3f2"
      },
      "outputs": [
        {
          "output_type": "stream",
          "name": "stdout",
          "text": [
            "Looking in indexes: https://pypi.org/simple, https://us-python.pkg.dev/colab-wheels/public/simple/\n",
            "Collecting automata-lib\n",
            "  Downloading automata_lib-5.0.0-py3-none-any.whl (32 kB)\n",
            "Requirement already satisfied: pydot in /usr/local/lib/python3.7/dist-packages (from automata-lib) (1.3.0)\n",
            "Requirement already satisfied: pyparsing>=2.1.4 in /usr/local/lib/python3.7/dist-packages (from pydot->automata-lib) (3.0.9)\n",
            "Installing collected packages: automata-lib\n",
            "Successfully installed automata-lib-5.0.0\n"
          ]
        }
      ],
      "source": [
        "!pip3 install automata-lib"
      ]
    },
    {
      "cell_type": "code",
      "execution_count": null,
      "metadata": {
        "colab": {
          "base_uri": "https://localhost:8080/"
        },
        "id": "FuQI4_KPKzBy",
        "outputId": "1cc9a769-379d-4d46-8743-9901c0fbddbd"
      },
      "outputs": [
        {
          "output_type": "stream",
          "name": "stdout",
          "text": [
            "Looking in indexes: https://pypi.org/simple, https://us-python.pkg.dev/colab-wheels/public/simple/\n",
            "Requirement already satisfied: graphviz in /usr/local/lib/python3.7/dist-packages (0.10.1)\n"
          ]
        }
      ],
      "source": [
        "!pip install graphviz"
      ]
    },
    {
      "cell_type": "code",
      "execution_count": null,
      "metadata": {
        "colab": {
          "base_uri": "https://localhost:8080/"
        },
        "id": "255VdRiLKrdG",
        "outputId": "116cf5d4-60bd-48b9-809b-d924621936cf"
      },
      "outputs": [
        {
          "output_type": "stream",
          "name": "stdout",
          "text": [
            "Looking in indexes: https://pypi.org/simple, https://us-python.pkg.dev/colab-wheels/public/simple/\n",
            "Requirement already satisfied: llvmlite in /usr/local/lib/python3.7/dist-packages (0.34.0)\n"
          ]
        }
      ],
      "source": [
        "!pip install llvmlite"
      ]
    },
    {
      "cell_type": "markdown",
      "metadata": {
        "id": "EHKowkgSVUi5"
      },
      "source": [
        "__Instalação de alguns _plugins_ para o Jupyter:__"
      ]
    },
    {
      "cell_type": "code",
      "execution_count": null,
      "metadata": {
        "colab": {
          "base_uri": "https://localhost:8080/"
        },
        "id": "DisvxsM3U9zq",
        "outputId": "a3b4588d-8fcc-4eba-f0bc-2f1880f31fc3"
      },
      "outputs": [
        {
          "output_type": "stream",
          "name": "stdout",
          "text": [
            "Downloading: https://rawgit.com/jfbercher/small_nbextensions/master/highlighter.zip -> /tmp/tmp_f9mxykf/highlighter.zip\n",
            "Extracting: /tmp/tmp_f9mxykf/highlighter.zip -> /root/.local/share/jupyter/nbextensions\n",
            "Enabling notebook extension highlighter/highlighter...\n",
            "Paths used for configuration of notebook: \n",
            "    \t/root/.jupyter/nbconfig/notebook.json\n",
            "      - Validating: \u001b[32mOK\u001b[0m\n",
            "Paths used for configuration of notebook: \n",
            "    \t/root/.jupyter/nbconfig/notebook.json\n"
          ]
        }
      ],
      "source": [
        "!jupyter nbextension install https://rawgit.com/jfbercher/small_nbextensions/master/highlighter.zip  --user\n",
        "!jupyter nbextension enable highlighter/highlighter"
      ]
    },
    {
      "cell_type": "code",
      "execution_count": null,
      "metadata": {
        "colab": {
          "base_uri": "https://localhost:8080/"
        },
        "id": "a-s-dVnxdbZW",
        "outputId": "0e2734f0-0308-4816-d38e-5fb9f0f72b93"
      },
      "outputs": [
        {
          "output_type": "display_data",
          "data": {
            "text/plain": [
              "<IPython.core.display.Javascript object>"
            ],
            "application/javascript": [
              "require(\"base/js/utils\").load_extensions(\"highlighter/highlighter\")"
            ]
          },
          "metadata": {}
        }
      ],
      "source": [
        "%%javascript\n",
        "require(\"base/js/utils\").load_extensions(\"highlighter/highlighter\")"
      ]
    },
    {
      "cell_type": "markdown",
      "metadata": {
        "id": "m6czdg8eNXU0"
      },
      "source": [
        "# Operações Aritméticas\n",
        "\n",
        "Para realizar o cálculo das operações aritméticas, as máquinas de Turing foram elaboradas de acordo com o artigo ([Construction of a Basic Calculator through the Turing\n",
        "Machine – A Review](http://www.ijetajournal.org/volume-2/issue-6/IJETA-V2I6P1.pdf)), onde foram padronizados os caracteres possíveis de entrada, escrita e ações sobre a fita.\n",
        "\n",
        "Ficando estipulado que:\n",
        "  \n",
        "(#) = Simboliza espaços em branco;\n",
        "\n",
        "(E) = Simboliza uma unidade, ou seja, EEE = 3;\n",
        "\n",
        "(+) = Símbolo de Adição;\n",
        "\n",
        "(-) = Símbolo de Subtração;\n",
        "\n",
        "(/) = Símbolo de Divisão;\n",
        "\n",
        "(*) = Símbolo de Multiplicação;\n",
        "\n",
        "(R) = Simboliza a movimentação do cabeçote para a DIREITA;\n",
        "\n",
        "(L) = Simboliza a movimentação do cabeçote para a ESQUERDA;\n",
        "\n",
        "(S) = Simboliza que o cabeçote não deve se mover. (Na biblioteca automota-lib, esse símbolo é substituído pelo caracter 'N', abreviação da palavra NONE, que simboliza que não haverá movimento no cabeçote de leitura)."
      ]
    },
    {
      "cell_type": "markdown",
      "metadata": {
        "id": "cFl1ALSiNXU1"
      },
      "source": [
        "## Adição\n",
        "\n",
        "Exemplo da máquina de Turing de ADIÇÃO replicada no JFLAP:\n",
        "\n",
        "# AQUI VAI UMA FOTO DA MÁQUINA JFLAP\n",
        "\n",
        "Como podemos observar, essa máquina de Turing elaborada para a ADIÇÃO possui 5 estados, sendo 1 (q0) inicial e 1 (q4) final. Seu princípio de funcionamento é bem simples:\n",
        "\n",
        "A MT identifica o início (e o final) da fita com o caraceter #, em seguida permanece no estado q1 enquanto estiver lendo caracteres 'E' na entrada ela os replica sobre a fita deslocando o cabeçote para a direita.\n",
        "\n",
        "Ao encontrar o símbolo de adição (+) ela o substitui por um 'E' na fita e continua a replicação de entradas.\n",
        "\n",
        "No fim da fita, a máquina volta o cabeçote uma casa para a esquerda e substitui o último 'E' por '#' para que a soma seja finalizada de maneira correta.\n",
        "\n",
        "A implementação da MT pode ser vista no código I."
      ]
    },
    {
      "cell_type": "markdown",
      "metadata": {
        "id": "xsxHVLcFNXU2"
      },
      "source": [
        "__Código I:__ Implementação da Máquina de Turing para Adição"
      ]
    },
    {
      "cell_type": "code",
      "execution_count": 52,
      "metadata": {
        "id": "tdbrxSSCNXU2"
      },
      "outputs": [],
      "source": [
        "from automata.tm.ntm import NTM\n",
        "# NTM que faz a operação de adição.\n",
        "ntm = NTM(\n",
        "    states={'s0', 's1', 's2', 's3', 'halt'},\n",
        "    input_symbols={'0', '1', '+'},\n",
        "    tape_symbols={'0', '1', '+', '#', 'E'},\n",
        "    transitions={\n",
        "        's0': {\n",
        "            '#': {('s1', '#', 'R')}\n",
        "        },\n",
        "        's1': {\n",
        "            'E': {('s1', 'E', 'R')},\n",
        "            '+': {('s2', 'E', 'R')}\n",
        "        },\n",
        "        's2': {\n",
        "            'E': {('s2', 'E', 'R')},\n",
        "            '#': {('s3', '#', 'L')}\n",
        "        },\n",
        "        's3': {\n",
        "            'E': {('halt', '#', 'N')}\n",
        "        }\n",
        "    },\n",
        "    initial_state='s0',\n",
        "    blank_symbol='#',\n",
        "    final_states={'halt'}\n",
        ")"
      ]
    },
    {
      "cell_type": "markdown",
      "metadata": {
        "id": "guQAsujjNXU4"
      },
      "source": [
        "Função de Validação para verificar se a especificação está correta."
      ]
    },
    {
      "cell_type": "code",
      "execution_count": 53,
      "metadata": {
        "colab": {
          "base_uri": "https://localhost:8080/"
        },
        "id": "tS0or24ZNXU4",
        "outputId": "ccbcf597-ec1b-43d5-a170-455979c6434f"
      },
      "outputs": [
        {
          "output_type": "execute_result",
          "data": {
            "text/plain": [
              "True"
            ]
          },
          "metadata": {},
          "execution_count": 53
        }
      ],
      "source": [
        "ntm.validate()  # returns True"
      ]
    },
    {
      "cell_type": "code",
      "execution_count": 54,
      "metadata": {
        "colab": {
          "base_uri": "https://localhost:8080/"
        },
        "id": "cyQQbHStNXU6",
        "outputId": "503393f4-1363-40d3-fb35-048d1c60d1a9"
      },
      "outputs": [
        {
          "output_type": "execute_result",
          "data": {
            "text/plain": [
              "<generator object NTM.read_input_stepwise at 0x7f0f18b946d0>"
            ]
          },
          "metadata": {},
          "execution_count": 54
        }
      ],
      "source": [
        "ntm.read_input_stepwise('#EEEEE+EE#')"
      ]
    },
    {
      "cell_type": "markdown",
      "metadata": {
        "id": "nP3igdFBNXU6"
      },
      "source": [
        "O método/função `read_input(palavra)` verifica se a _palavra_ é aceita pela Máquina de Turing e retorna a configuração final para ela."
      ]
    },
    {
      "cell_type": "code",
      "execution_count": 55,
      "metadata": {
        "colab": {
          "base_uri": "https://localhost:8080/"
        },
        "id": "CMR_znYeNXU7",
        "outputId": "f2444bfb-16fb-4383-ad1e-28b21557151f"
      },
      "outputs": [
        {
          "output_type": "stream",
          "name": "stdout",
          "text": [
            "halt: #EEEEEEE##\n",
            "              ^\n"
          ]
        }
      ],
      "source": [
        "ntm.read_input('#EEEEE+EE#').pop().print()"
      ]
    },
    {
      "cell_type": "code",
      "execution_count": 56,
      "metadata": {
        "colab": {
          "base_uri": "https://localhost:8080/"
        },
        "id": "Hw1_mjOwNXU8",
        "outputId": "343d71aa-f40f-4430-9674-799d517447e1"
      },
      "outputs": [
        {
          "output_type": "stream",
          "name": "stdout",
          "text": [
            "accepted\n"
          ]
        }
      ],
      "source": [
        "if ntm.accepts_input('#EEEEE+EE#'):\n",
        "    print('accepted')\n",
        "else:\n",
        "    print('rejected')"
      ]
    },
    {
      "cell_type": "code",
      "execution_count": 57,
      "metadata": {
        "id": "_yjnDgcDNXU9",
        "outputId": "ae472775-69c6-43ca-ddd3-6daf889b3835",
        "colab": {
          "base_uri": "https://localhost:8080/"
        }
      },
      "outputs": [
        {
          "output_type": "execute_result",
          "data": {
            "text/plain": [
              "<generator object NTM.read_input_stepwise at 0x7f0f18b47bd0>"
            ]
          },
          "metadata": {},
          "execution_count": 57
        }
      ],
      "source": [
        "ntm.read_input_stepwise('#EEEEE+EE#')"
      ]
    },
    {
      "cell_type": "code",
      "execution_count": 58,
      "metadata": {
        "colab": {
          "base_uri": "https://localhost:8080/"
        },
        "id": "uf5TEAf8NXU9",
        "outputId": "025f839e-a870-40ea-93bb-a0966fab9e7b"
      },
      "outputs": [
        {
          "output_type": "stream",
          "name": "stdout",
          "text": [
            "Verificando palavra: #E+E#\n",
            "aceita\n",
            "halt: #EE##\n",
            "         ^\n",
            "Verificando palavra: #E+EE#\n",
            "aceita\n",
            "halt: #EEE##\n",
            "          ^\n",
            "Verificando palavra: #EEEEE+EE#\n",
            "aceita\n",
            "halt: #EEEEEEE##\n",
            "              ^\n"
          ]
        }
      ],
      "source": [
        "palavras = ['#E+E#','#E+EE#','#EEEEE+EE#']\n",
        "\n",
        "for w in palavras:\n",
        "  print(\"Verificando palavra:\", w)\n",
        "  if ntm.accepts_input(w):\n",
        "    print('aceita')\n",
        "  else:\n",
        "    print('rejeitada')\n",
        "  ntm.read_input(w).pop().print()\n"
      ]
    },
    {
      "cell_type": "markdown",
      "metadata": {
        "id": "XQvuIMI-NXU-"
      },
      "source": [
        "## Subtração\n",
        "\n",
        "Exemplo da máquina de Turing de SUBTRAÇÃO replicada no JFLAP:\n",
        "\n",
        "# AQUI VAI UMA FOTO DA MÁQUINA JFLAP\n",
        "\n",
        "Como podemos observar, essa máquina de Turing elaborada para a SUBTRAÇÃO possui 9 estados, sendo 1 (q0) inicial e 1 (q9) final. Seu princípio de funcionamento é um pouco mais complicado:\n",
        "\n",
        "A MT identifica o início (e o final) da fita com o caraceter #, em seguida substitui o primeiro 'E' lido na entrada por '#' na fita e permanece no estado q2 replicando os caracteres 'E' na fita e descolando o cabeçote para a direita.\n",
        "\n",
        "Ao encontrar o símbolo de subtração (-) ela o copia na fita e continua a replicação de entradas.\n",
        "\n",
        "No fim da fita, a máquina volta o cabeçote uma casa para a esquerda e substitui o último 'E' por '#' para que a subtração seja finalizada de maneira correta.\n",
        "\n",
        "Para a validação do resultado, a MT compara se o caracter de subtração (-) foi encontrado novamente para que possa ser finalizado o programa (caso em que a subtração dá zero). Ou então, verifica se o termo à esquerda do (-) possui mais unidades do que o da direita, caso isso ocorra, a MT replica seu funcionamento a partir do estado q1 para que sempre que haja uma unidade em cada lado do operados, ambas são sobrescritas por '#' eliminando uma a uma da fita para o cálculo correto da subtração.\n",
        "\n",
        "\n",
        "A implementação da MT pode ser vista no código II."
      ]
    },
    {
      "cell_type": "markdown",
      "metadata": {
        "id": "kXff6cXvtwDx"
      },
      "source": [
        "__Código II:__ Implementação da Máquina de Turing para Subtração"
      ]
    },
    {
      "cell_type": "code",
      "source": [
        "from automata.tm.ntm import NTM\n",
        "# NTM que faz a operação de subtração.\n",
        "ntm = NTM(\n",
        "    states={'s0', 's1', 's2', 's3', 's4', 's5', 's6', 's7', 's8', 'halt'},\n",
        "    input_symbols={'0', '1', '-'},\n",
        "    tape_symbols={'0', '1', '-', '#', 'E'},\n",
        "    transitions={\n",
        "        's0': {\n",
        "            '#': {('s1', '#', 'R')}\n",
        "        },\n",
        "        's1': {\n",
        "            'E': {('s2', '#', 'R')}\n",
        "        },\n",
        "        's2': {\n",
        "            'E': {('s2', 'E', 'R')},\n",
        "            '-': {('s3', '-', 'R')}\n",
        "        },\n",
        "        's3': {\n",
        "            'E': {('s3', 'E', 'R')},\n",
        "            '#': {('s4', '#', 'L')}\n",
        "        },\n",
        "        's4': {\n",
        "            'E': {('s5', '#', 'L')}\n",
        "        },\n",
        "        's5': {\n",
        "            'E': {('s6', 'E', 'L')},\n",
        "            '-': {('halt', '#', 'N')}\n",
        "        },\n",
        "        's6': {\n",
        "            'E': {('s6', 'E', 'L')},\n",
        "            '-': {('s7', '-', 'L')}\n",
        "        },\n",
        "        's7': {\n",
        "            'E': {('s8', 'E', 'L')},\n",
        "            '#': {('halt', '#', 'N')}\n",
        "        },\n",
        "        's8': {\n",
        "            'E': {('s8', 'E', 'L')},\n",
        "            '#': {('s1', '#', 'R')}\n",
        "        }       \n",
        "    },\n",
        "    initial_state='s0',\n",
        "    blank_symbol='#',\n",
        "    final_states={'halt'}\n",
        ")"
      ],
      "metadata": {
        "id": "NafKV-WhONWi"
      },
      "execution_count": 59,
      "outputs": []
    },
    {
      "cell_type": "markdown",
      "source": [
        "Função de Validação para verificar se a especificação está correta."
      ],
      "metadata": {
        "id": "AFvVCzhuquNj"
      }
    },
    {
      "cell_type": "code",
      "execution_count": 60,
      "metadata": {
        "colab": {
          "base_uri": "https://localhost:8080/"
        },
        "outputId": "dbed685e-013a-40a7-9f53-e56a5a1badcb",
        "id": "yPZLs2jJrSdS"
      },
      "outputs": [
        {
          "output_type": "execute_result",
          "data": {
            "text/plain": [
              "True"
            ]
          },
          "metadata": {},
          "execution_count": 60
        }
      ],
      "source": [
        "ntm.validate()  # returns True"
      ]
    },
    {
      "cell_type": "code",
      "execution_count": 61,
      "metadata": {
        "colab": {
          "base_uri": "https://localhost:8080/"
        },
        "outputId": "13f97a28-4b6f-42c4-9ce7-afa95e97c14c",
        "id": "KSHvTyesrZiQ"
      },
      "outputs": [
        {
          "output_type": "execute_result",
          "data": {
            "text/plain": [
              "<generator object NTM.read_input_stepwise at 0x7f0f18b47c50>"
            ]
          },
          "metadata": {},
          "execution_count": 61
        }
      ],
      "source": [
        "ntm.read_input_stepwise('#EEEEE-EE#')"
      ]
    },
    {
      "cell_type": "markdown",
      "metadata": {
        "id": "mq9OnYkMrZiS"
      },
      "source": [
        "O método/função `read_input(palavra)` verifica se a _palavra_ é aceita pela Máquina de Turing e retorna a configuração final para ela."
      ]
    },
    {
      "cell_type": "code",
      "execution_count": 62,
      "metadata": {
        "colab": {
          "base_uri": "https://localhost:8080/"
        },
        "outputId": "2af279d8-5b7f-4ba5-e9c6-ba9bbb64615a",
        "id": "phc7ZFdfrZiV"
      },
      "outputs": [
        {
          "output_type": "stream",
          "name": "stdout",
          "text": [
            "halt: ###EEE####\n",
            "            ^\n"
          ]
        }
      ],
      "source": [
        "ntm.read_input('#EEEEE-EE#').pop().print()"
      ]
    },
    {
      "cell_type": "code",
      "execution_count": 63,
      "metadata": {
        "colab": {
          "base_uri": "https://localhost:8080/"
        },
        "outputId": "17fa0a3a-e4ea-486d-c963-3e336de60a45",
        "id": "DY6Mf4Q7rZiX"
      },
      "outputs": [
        {
          "output_type": "stream",
          "name": "stdout",
          "text": [
            "accepted\n"
          ]
        }
      ],
      "source": [
        "if ntm.accepts_input('#EEEEE-EE#'):\n",
        "    print('accepted')\n",
        "else:\n",
        "    print('rejected')"
      ]
    },
    {
      "cell_type": "code",
      "execution_count": 64,
      "metadata": {
        "outputId": "1405bc9e-2106-43a7-81a5-0fb30be23110",
        "colab": {
          "base_uri": "https://localhost:8080/"
        },
        "id": "2n27RDLLrZiZ"
      },
      "outputs": [
        {
          "output_type": "execute_result",
          "data": {
            "text/plain": [
              "<generator object NTM.read_input_stepwise at 0x7f0f18b47e50>"
            ]
          },
          "metadata": {},
          "execution_count": 64
        }
      ],
      "source": [
        "ntm.read_input_stepwise('#EEEEE-EE#')"
      ]
    },
    {
      "cell_type": "code",
      "execution_count": 65,
      "metadata": {
        "colab": {
          "base_uri": "https://localhost:8080/"
        },
        "outputId": "b0ae8284-f194-4e61-debf-4553e7bf8a5c",
        "id": "0BRshfGOrZib"
      },
      "outputs": [
        {
          "output_type": "stream",
          "name": "stdout",
          "text": [
            "Verificando palavra: #E-E#\n",
            "aceita\n",
            "halt: #####\n",
            "        ^\n",
            "Verificando palavra: #E-EE#\n",
            "aceita\n",
            "halt: ##-E##\n",
            "       ^\n",
            "Verificando palavra: #EEEEE-EE#\n",
            "aceita\n",
            "halt: ###EEE####\n",
            "            ^\n"
          ]
        }
      ],
      "source": [
        "palavras = ['#E-E#','#E-EE#','#EEEEE-EE#']\n",
        "\n",
        "for w in palavras:\n",
        "  print(\"Verificando palavra:\", w)\n",
        "  if ntm.accepts_input(w):\n",
        "    print('aceita')\n",
        "  else:\n",
        "    print('rejeitada')\n",
        "  ntm.read_input(w).pop().print()\n"
      ]
    },
    {
      "cell_type": "markdown",
      "metadata": {
        "id": "qNqcmpbDt9PF"
      },
      "source": [
        "## Multiplicação\n",
        "\n",
        "Exemplo da máquina de Turing de MULTIPLICAÇÃO replicada no JFLAP:\n",
        "\n",
        "# AQUI VAI UMA FOTO DA MÁQUINA JFLAP\n",
        "\n",
        "Como podemos observar, essa máquina de Turing elaborada para a MULTIPLICAÇÃO possui 10 estados, sendo 1 (q0) inicial e 1 (q10) final. Seu princípio de funcionamento é descrito a seguir:\n",
        "\n",
        "A MT identifica o início (e o final) da fita com o caraceter #, em seguida substitui o primeiro 'E' lido na entrada por '#' na fita, pois esse será a primeira unidade a multiplicar o segundo termo.\n",
        "\n",
        "Ao encontrar o símbolo de multiplicação (*) ela o copia na fita e continua, e passsa a substituir todos os caracteres '1' por 'E' e acrescenta a mesma quantidade de caraceteres mudados ao fim da fita representados pela letra 'Z'. \n",
        "\n",
        "Após isso, ela retorna ao lado esquerdo do operador em busca de mais dígitos '1' para repetir o mesmo processo, até que os dígitos '1' à esquerda do operando se encerrem.\n",
        "\n",
        "Para a validação do resultado, a MT volta substituindo todos os 'E' e 'Z' por 1, menos o último Z. Deste modo ela aplica corretamente o resultado da multiplicação.\n",
        "\n",
        "A implementação da MT pode ser vista no código III."
      ]
    },
    {
      "cell_type": "markdown",
      "metadata": {
        "id": "v_nDAx8ht9PK"
      },
      "source": [
        "__Código III:__ Implementação da Máquina de Turing para Multiplicação"
      ]
    },
    {
      "cell_type": "code",
      "source": [
        "from automata.tm.ntm import NTM\n",
        "# NTM que faz a operação de multiplicação.\n",
        "ntm = NTM(\n",
        "    states={'s0', 's1', 's2', 's3', 's4', 's5', 's6', 's7', 's8', 's9', 'halt'},\n",
        "    input_symbols={'0', '1', '*'},\n",
        "    tape_symbols={'0', '1', '*', '#', 'E', 'Z'},\n",
        "    transitions={\n",
        "        's0': {\n",
        "            '#': {('s0', '#', 'R')},\n",
        "            '1': {('s1', '#', 'R')}\n",
        "        },\n",
        "        's1': {\n",
        "            '*': {('s2', '1', 'R')},\n",
        "            '1': {('s4', '1', 'R')}\n",
        "        },\n",
        "        's2': {\n",
        "            'Z': {('s2', '1', 'R')},\n",
        "            '1': {('s2', '1', 'R')},\n",
        "            '#': {('s3', '#', 'L')}\n",
        "        },\n",
        "        's3': {\n",
        "            '1': {('halt', '#', 'N')}\n",
        "        },\n",
        "        's4': {\n",
        "            '1': {('s4', '1', 'R')},\n",
        "            '*': {('s5', '*', 'R')}\n",
        "        },\n",
        "        's5': {\n",
        "            '1': {('s6', 'E', 'R')},\n",
        "            'Z': {('s8', 'Z', 'L')}\n",
        "        },\n",
        "        's6': {\n",
        "            '1': {('s6', '1', 'R')},\n",
        "            'Z': {('s6', 'Z', 'R')},\n",
        "            '#': {('s7', 'Z', 'L')}\n",
        "        },\n",
        "        's7': {\n",
        "            'Z': {('s7', 'Z', 'L')},\n",
        "            '1': {('s7', '1', 'L')},\n",
        "            'E': {('s5', 'E', 'R')}\n",
        "        },\n",
        "        's8': {\n",
        "            'E': {('s8', '1', 'L')},\n",
        "            '*': {('s9', '*', 'L')}\n",
        "        },\n",
        "        's9': {\n",
        "            '1': {('s9', '1', 'L')},\n",
        "            '#': {('s0', '#', 'R')}\n",
        "        }         \n",
        "    },\n",
        "    initial_state='s0',\n",
        "    blank_symbol='#',\n",
        "    final_states={'halt'}\n",
        ")"
      ],
      "metadata": {
        "id": "s-ZcQhQVt9PN"
      },
      "execution_count": 66,
      "outputs": []
    },
    {
      "cell_type": "markdown",
      "source": [
        "Função de Validação para verificar se a especificação está correta."
      ],
      "metadata": {
        "id": "RI4JKonRt9PS"
      }
    },
    {
      "cell_type": "code",
      "execution_count": 67,
      "metadata": {
        "colab": {
          "base_uri": "https://localhost:8080/"
        },
        "outputId": "75a9d737-c191-445c-c175-b26a5d562059",
        "id": "TtkljZJXt9PV"
      },
      "outputs": [
        {
          "output_type": "execute_result",
          "data": {
            "text/plain": [
              "True"
            ]
          },
          "metadata": {},
          "execution_count": 67
        }
      ],
      "source": [
        "ntm.validate()  # returns True"
      ]
    },
    {
      "cell_type": "code",
      "execution_count": 68,
      "metadata": {
        "colab": {
          "base_uri": "https://localhost:8080/"
        },
        "outputId": "91fcfb6a-545f-48e8-d5c7-cb139871f006",
        "id": "RrlU2Zcit9PY"
      },
      "outputs": [
        {
          "output_type": "execute_result",
          "data": {
            "text/plain": [
              "<generator object NTM.read_input_stepwise at 0x7f0f18b47a50>"
            ]
          },
          "metadata": {},
          "execution_count": 68
        }
      ],
      "source": [
        "ntm.read_input_stepwise('#11*111########')"
      ]
    },
    {
      "cell_type": "markdown",
      "metadata": {
        "id": "gWZ0jN4Zt9Pb"
      },
      "source": [
        "O método/função `read_input(palavra)` verifica se a _palavra_ é aceita pela Máquina de Turing e retorna a configuração final para ela."
      ]
    },
    {
      "cell_type": "code",
      "execution_count": 69,
      "metadata": {
        "colab": {
          "base_uri": "https://localhost:8080/"
        },
        "outputId": "52070f16-b815-4d6f-8923-896280706318",
        "id": "Fuw-oobLt9Pe"
      },
      "outputs": [
        {
          "output_type": "stream",
          "name": "stdout",
          "text": [
            "halt: ###111111######\n",
            "               ^\n"
          ]
        }
      ],
      "source": [
        "ntm.read_input('#11*111########').pop().print()"
      ]
    },
    {
      "cell_type": "code",
      "execution_count": 70,
      "metadata": {
        "colab": {
          "base_uri": "https://localhost:8080/"
        },
        "outputId": "e3fd4597-81c3-4a7d-8f02-7d0b32d07f82",
        "id": "TYoK2Jcit9Ph"
      },
      "outputs": [
        {
          "output_type": "stream",
          "name": "stdout",
          "text": [
            "accepted\n"
          ]
        }
      ],
      "source": [
        "if ntm.accepts_input('#111*111#########'):\n",
        "    print('accepted')\n",
        "else:\n",
        "    print('rejected')"
      ]
    },
    {
      "cell_type": "code",
      "execution_count": 71,
      "metadata": {
        "outputId": "b3d50eda-f70e-41a7-d2ce-cc8fa95211ab",
        "colab": {
          "base_uri": "https://localhost:8080/"
        },
        "id": "JtBi99zKt9Pl"
      },
      "outputs": [
        {
          "output_type": "execute_result",
          "data": {
            "text/plain": [
              "<generator object NTM.read_input_stepwise at 0x7f0f18b47ad0>"
            ]
          },
          "metadata": {},
          "execution_count": 71
        }
      ],
      "source": [
        "ntm.read_input_stepwise('#11111*11#################')"
      ]
    },
    {
      "cell_type": "code",
      "execution_count": 72,
      "metadata": {
        "colab": {
          "base_uri": "https://localhost:8080/"
        },
        "outputId": "3d69dcea-c8d5-4047-d435-dc7e297c3e3a",
        "id": "jmHhZX63t9Pq"
      },
      "outputs": [
        {
          "output_type": "stream",
          "name": "stdout",
          "text": [
            "Verificando palavra: #1*1#########\n",
            "aceita\n",
            "halt: ##1##########\n",
            "         ^\n",
            "Verificando palavra: #1*11#########\n",
            "aceita\n",
            "halt: ##11##########\n",
            "          ^\n",
            "Verificando palavra: #1111*11#########\n",
            "aceita\n",
            "halt: #####11111111####\n",
            "                   ^\n"
          ]
        }
      ],
      "source": [
        "palavras = ['#1*1#########','#1*11#########','#1111*11#########']\n",
        "\n",
        "for w in palavras:\n",
        "  print(\"Verificando palavra:\", w)\n",
        "  if ntm.accepts_input(w):\n",
        "    print('aceita')\n",
        "  else:\n",
        "    print('rejeitada')\n",
        "  ntm.read_input(w).pop().print()\n"
      ]
    },
    {
      "cell_type": "markdown",
      "metadata": {
        "id": "42MudabguJjz"
      },
      "source": [
        "## Divisão\n",
        "\n",
        "Exemplo da máquina de Turing de MULTIPLICAÇÃO replicada no JFLAP:\n",
        "\n",
        "# AQUI VAI UMA FOTO DA MÁQUINA JFLAP\n",
        "\n",
        "Como podemos observar, essa máquina de Turing elaborada para a DIVISÃO possui 10 estados (q7 não existe nesse exemplo), sendo 1 (q0) inicial e 1 (q11) final. Seu princípio de funcionamento é descrito a seguir:\n",
        "\n",
        "A MT identifica o início (e o final) da fita com o caraceter #, em seguida busca por termos '1' no dividendo, caso encontre vai até o final do divisor substituindo seu último carater '1' por 'E'. Repetindo esse procedimento de \"1 pra 1\" até que todos os caracteres do divisor sejam 'E'.\n",
        "\n",
        "Após isso, ela acrescenta um caracter 'Z' ao final, que se trata de um marcador para saber \"quantas vezes o dividendo já foi dividido pelo divisor\", ou seja, quantas vezes o divisor foi multiplicado até chegar no valor que está sendo dividido.\n",
        "\n",
        "Feito isso, ela substitui todos os 'E' por '1' novamente, e retorna ao lado esquerdo do operador em busca de mais dígitos '1' para repetir o mesmo processo, até que os dígitos '1' à esquerda do operando se encerrem.\n",
        "\n",
        "Para a validação do resultado, a MT volta substituindo todos os '1' e '/' por '#' e quando restam apenas caracteres 'Z', ela os substitui por 1, chegando deste modo ao resultado final truncado da divisão.\n",
        "\n",
        "A implementação da MT pode ser vista no código IV."
      ]
    },
    {
      "cell_type": "markdown",
      "metadata": {
        "id": "LT06wU2-uJj0"
      },
      "source": [
        "__Código IV:__ Implementação da Máquina de Turing para Divisão"
      ]
    },
    {
      "cell_type": "code",
      "source": [
        "from automata.tm.ntm import NTM\n",
        "# NTM que faz a operação de divisão.\n",
        "ntm = NTM(\n",
        "    states={'s0', 's1', 's2', 's3', 's4', 's5', 's6', 's7', 's8', 's9', 'halt'},\n",
        "    input_symbols={'0', '1', '/'},\n",
        "    tape_symbols={'0', '1', '/', '#', 'E', 'Z'},\n",
        "    transitions={\n",
        "        's0': {\n",
        "            '#': {('s1', '#', 'R')}\n",
        "        },\n",
        "        's1': {\n",
        "            '1': {('s2', '#', 'R')},\n",
        "            '/': {('s9', '#', 'R')}            \n",
        "        },\n",
        "        's2': {\n",
        "            '1': {('s2', '1', 'R')},\n",
        "            '/': {('s3', '/', 'R')}\n",
        "        },\n",
        "        's3': {\n",
        "            '1': {('s3', '1', 'R')},\n",
        "            'E': {('s3', 'E', 'R')},\n",
        "            '#': {('s4', '#', 'L')},\n",
        "            'Z': {('s4', 'Z', 'L')}\n",
        "        },\n",
        "        's4': {\n",
        "            'E': {('s4', 'E', 'L')},\n",
        "            '1': {('s5', 'E', 'L')}\n",
        "        },\n",
        "        's5': {\n",
        "            '1': {('s7', '1', 'L')},\n",
        "            '/': {('s6', '/', 'R')}\n",
        "        },\n",
        "        's6': {\n",
        "            'E': {('s6', '1', 'R')},\n",
        "            'Z': {('s6', 'Z', 'R')},\n",
        "            '#': {('s7', 'Z', 'L')}\n",
        "        },\n",
        "        's7': {\n",
        "            '1': {('s7', '1', 'L')},\n",
        "            'Z': {('s7', 'Z', 'L')},\n",
        "            '/': {('s8', '/', 'L')}\n",
        "        },\n",
        "        's8': {\n",
        "            '1': {('s8', '1', 'L')},\n",
        "            '#': {('s1', '#', 'R')}\n",
        "        },\n",
        "        's9': {\n",
        "            'Z': {('s9', '1', 'R')},\n",
        "            '1': {('s9', '#', 'R')},\n",
        "            '#': {('halt', '#', 'N')}\n",
        "        }       \n",
        "    },\n",
        "    initial_state='s0',\n",
        "    blank_symbol='#',\n",
        "    final_states={'halt'}\n",
        ")"
      ],
      "metadata": {
        "id": "T9w1Gu63uJj2"
      },
      "execution_count": 73,
      "outputs": []
    },
    {
      "cell_type": "markdown",
      "source": [
        "Função de Validação para verificar se a especificação está correta."
      ],
      "metadata": {
        "id": "vXebawLGuJj4"
      }
    },
    {
      "cell_type": "code",
      "execution_count": 74,
      "metadata": {
        "colab": {
          "base_uri": "https://localhost:8080/"
        },
        "outputId": "f7cf96a6-0f03-479c-81bb-d60aa830a65c",
        "id": "SiuJcadwuJj5"
      },
      "outputs": [
        {
          "output_type": "execute_result",
          "data": {
            "text/plain": [
              "True"
            ]
          },
          "metadata": {},
          "execution_count": 74
        }
      ],
      "source": [
        "ntm.validate()  # returns True"
      ]
    },
    {
      "cell_type": "code",
      "execution_count": 75,
      "metadata": {
        "colab": {
          "base_uri": "https://localhost:8080/"
        },
        "outputId": "23c44e81-b6bf-4618-a2d1-17ed14a792c2",
        "id": "YkHufq-QuJj7"
      },
      "outputs": [
        {
          "output_type": "execute_result",
          "data": {
            "text/plain": [
              "<generator object NTM.read_input_stepwise at 0x7f0f18b94650>"
            ]
          },
          "metadata": {},
          "execution_count": 75
        }
      ],
      "source": [
        "ntm.read_input_stepwise('#1111/11###########')"
      ]
    },
    {
      "cell_type": "markdown",
      "metadata": {
        "id": "vXwUy_fwuJj9"
      },
      "source": [
        "O método/função `read_input(palavra)` verifica se a _palavra_ é aceita pela Máquina de Turing e retorna a configuração final para ela."
      ]
    },
    {
      "cell_type": "code",
      "execution_count": 76,
      "metadata": {
        "colab": {
          "base_uri": "https://localhost:8080/"
        },
        "outputId": "6b20294b-1766-4e3c-dc04-a2887c9a5559",
        "id": "yHnyO-E0uJj-"
      },
      "outputs": [
        {
          "output_type": "stream",
          "name": "stdout",
          "text": [
            "halt: ########11#########\n",
            "                ^\n"
          ]
        }
      ],
      "source": [
        "ntm.read_input('#1111/11###########').pop().print()"
      ]
    },
    {
      "cell_type": "code",
      "execution_count": 77,
      "metadata": {
        "colab": {
          "base_uri": "https://localhost:8080/"
        },
        "outputId": "263dfb0d-217f-41be-b21f-b1370eae15d0",
        "id": "MaWfrOi_uJkA"
      },
      "outputs": [
        {
          "output_type": "stream",
          "name": "stdout",
          "text": [
            "rejected\n"
          ]
        }
      ],
      "source": [
        "if ntm.accepts_input('#EEEEE-EE#'):\n",
        "    print('accepted')\n",
        "else:\n",
        "    print('rejected')"
      ]
    },
    {
      "cell_type": "code",
      "execution_count": 78,
      "metadata": {
        "outputId": "e6bbca80-9384-4c5b-bbd5-c11c3b9c2d03",
        "colab": {
          "base_uri": "https://localhost:8080/"
        },
        "id": "Py2oqqqYuJkA"
      },
      "outputs": [
        {
          "output_type": "execute_result",
          "data": {
            "text/plain": [
              "<generator object NTM.read_input_stepwise at 0x7f0f18b47950>"
            ]
          },
          "metadata": {},
          "execution_count": 78
        }
      ],
      "source": [
        "ntm.read_input_stepwise('#1111/11###########')"
      ]
    },
    {
      "cell_type": "code",
      "execution_count": 79,
      "metadata": {
        "colab": {
          "base_uri": "https://localhost:8080/"
        },
        "outputId": "db42cdca-4912-4996-8a89-4b4303a0dabf",
        "id": "LG4tuDrEuJkD"
      },
      "outputs": [
        {
          "output_type": "stream",
          "name": "stdout",
          "text": [
            "Verificando palavra: #1111/11###########\n",
            "aceita\n",
            "halt: ########11#########\n",
            "                ^\n",
            "Verificando palavra: #111111/111###########\n",
            "aceita\n",
            "halt: ###########11#########\n",
            "                   ^\n",
            "Verificando palavra: #11/11###########\n",
            "aceita\n",
            "halt: ######1##########\n",
            "             ^\n"
          ]
        }
      ],
      "source": [
        "palavras = ['#1111/11###########','#111111/111###########','#11/11###########']\n",
        "\n",
        "for w in palavras:\n",
        "  print(\"Verificando palavra:\", w)\n",
        "  if ntm.accepts_input(w):\n",
        "    print('aceita')\n",
        "  else:\n",
        "    print('rejeitada')\n",
        "  ntm.read_input(w).pop().print()\n"
      ]
    },
    {
      "cell_type": "markdown",
      "metadata": {
        "id": "3eyzSr_yKUO6"
      },
      "source": [
        "## Referências\n",
        "\n",
        "SIPSER, M. __Introdução à teoria da computação.__ São Paulo: Cengage Learning, 2007. ISBN 9788522104994. Disponível em: https://search.ebscohost.com/login.aspx?direct=true&db=edsmib&AN=edsmib.000008725&lang=pt-br&site=eds-live&scope=site. Acesso em: 2 jun. 2022.\n",
        "\n",
        "MENEZES, P. B. __Linguagens formais e autômatos.__ Porto Alegre: Bookman, 2011. ISBN 9788577807994. Disponível em: https://search.ebscohost.com/login.aspx?direct=true&db=edsmib&AN=edsmib.000000444&lang=pt-br&site=eds-live&scope=site. Acesso em: 2 jun. 2022."
      ]
    }
  ],
  "metadata": {
    "colab": {
      "collapsed_sections": [
        "NsOC5oUKDg1e",
        "cFl1ALSiNXU1",
        "XQvuIMI-NXU-",
        "qNqcmpbDt9PF"
      ],
      "name": "maquina_turing_operacoes_aritmeticas.ipynb",
      "provenance": [],
      "toc_visible": true
    },
    "interpreter": {
      "hash": "e7370f93d1d0cde622a1f8e1c04877d8463912d04d973331ad4851f04de6915a"
    },
    "kernelspec": {
      "display_name": "Python 3.9.9 64-bit",
      "language": "python",
      "name": "python3"
    },
    "language_info": {
      "codemirror_mode": {
        "name": "ipython",
        "version": 3
      },
      "file_extension": ".py",
      "mimetype": "text/x-python",
      "name": "python",
      "nbconvert_exporter": "python",
      "pygments_lexer": "ipython3",
      "version": "3.9.9"
    }
  },
  "nbformat": 4,
  "nbformat_minor": 0
}