{
  "nbformat": 4,
  "nbformat_minor": 0,
  "metadata": {
    "colab": {
      "provenance": []
    },
    "kernelspec": {
      "name": "python3",
      "display_name": "Python 3"
    },
    "language_info": {
      "name": "python"
    }
  },
  "cells": [
    {
      "cell_type": "code",
      "execution_count": 1,
      "metadata": {
        "id": "v8KcPRG4Jpw0"
      },
      "outputs": [],
      "source": [
        "import numpy as np\n",
        "import pandas as pd\n",
        "import matplotlib.pyplot as plt\n",
        "import seaborn as sns\n",
        "\n",
        "from sklearn.metrics import accuracy_score"
      ]
    },
    {
      "cell_type": "code",
      "source": [
        "df = pd.read_csv(\"biometria.csv\")\n",
        "df.replace(\"V\", \"volei\", inplace=True)\n",
        "df.replace(\"F\", \"futebol\", inplace=True)\n",
        "df.head()"
      ],
      "metadata": {
        "colab": {
          "base_uri": "https://localhost:8080/",
          "height": 206
        },
        "id": "AJOB4zlIJ4WV",
        "outputId": "4665a48d-429c-4547-dcd3-dedc48a31ba6"
      },
      "execution_count": 2,
      "outputs": [
        {
          "output_type": "execute_result",
          "data": {
            "text/plain": [
              "  Esporte  Altura (m)  Peso (kg)\n",
              "0   volei        1.90         76\n",
              "1   volei        1.98         70\n",
              "2   volei        2.04        101\n",
              "3   volei        1.88         77\n",
              "4   volei        2.14        109"
            ],
            "text/html": [
              "\n",
              "  <div id=\"df-093e1e43-f9e2-49fd-bf14-b99606954e77\" class=\"colab-df-container\">\n",
              "    <div>\n",
              "<style scoped>\n",
              "    .dataframe tbody tr th:only-of-type {\n",
              "        vertical-align: middle;\n",
              "    }\n",
              "\n",
              "    .dataframe tbody tr th {\n",
              "        vertical-align: top;\n",
              "    }\n",
              "\n",
              "    .dataframe thead th {\n",
              "        text-align: right;\n",
              "    }\n",
              "</style>\n",
              "<table border=\"1\" class=\"dataframe\">\n",
              "  <thead>\n",
              "    <tr style=\"text-align: right;\">\n",
              "      <th></th>\n",
              "      <th>Esporte</th>\n",
              "      <th>Altura (m)</th>\n",
              "      <th>Peso (kg)</th>\n",
              "    </tr>\n",
              "  </thead>\n",
              "  <tbody>\n",
              "    <tr>\n",
              "      <th>0</th>\n",
              "      <td>volei</td>\n",
              "      <td>1.90</td>\n",
              "      <td>76</td>\n",
              "    </tr>\n",
              "    <tr>\n",
              "      <th>1</th>\n",
              "      <td>volei</td>\n",
              "      <td>1.98</td>\n",
              "      <td>70</td>\n",
              "    </tr>\n",
              "    <tr>\n",
              "      <th>2</th>\n",
              "      <td>volei</td>\n",
              "      <td>2.04</td>\n",
              "      <td>101</td>\n",
              "    </tr>\n",
              "    <tr>\n",
              "      <th>3</th>\n",
              "      <td>volei</td>\n",
              "      <td>1.88</td>\n",
              "      <td>77</td>\n",
              "    </tr>\n",
              "    <tr>\n",
              "      <th>4</th>\n",
              "      <td>volei</td>\n",
              "      <td>2.14</td>\n",
              "      <td>109</td>\n",
              "    </tr>\n",
              "  </tbody>\n",
              "</table>\n",
              "</div>\n",
              "    <div class=\"colab-df-buttons\">\n",
              "\n",
              "  <div class=\"colab-df-container\">\n",
              "    <button class=\"colab-df-convert\" onclick=\"convertToInteractive('df-093e1e43-f9e2-49fd-bf14-b99606954e77')\"\n",
              "            title=\"Convert this dataframe to an interactive table.\"\n",
              "            style=\"display:none;\">\n",
              "\n",
              "  <svg xmlns=\"http://www.w3.org/2000/svg\" height=\"24px\" viewBox=\"0 -960 960 960\">\n",
              "    <path d=\"M120-120v-720h720v720H120Zm60-500h600v-160H180v160Zm220 220h160v-160H400v160Zm0 220h160v-160H400v160ZM180-400h160v-160H180v160Zm440 0h160v-160H620v160ZM180-180h160v-160H180v160Zm440 0h160v-160H620v160Z\"/>\n",
              "  </svg>\n",
              "    </button>\n",
              "\n",
              "  <style>\n",
              "    .colab-df-container {\n",
              "      display:flex;\n",
              "      gap: 12px;\n",
              "    }\n",
              "\n",
              "    .colab-df-convert {\n",
              "      background-color: #E8F0FE;\n",
              "      border: none;\n",
              "      border-radius: 50%;\n",
              "      cursor: pointer;\n",
              "      display: none;\n",
              "      fill: #1967D2;\n",
              "      height: 32px;\n",
              "      padding: 0 0 0 0;\n",
              "      width: 32px;\n",
              "    }\n",
              "\n",
              "    .colab-df-convert:hover {\n",
              "      background-color: #E2EBFA;\n",
              "      box-shadow: 0px 1px 2px rgba(60, 64, 67, 0.3), 0px 1px 3px 1px rgba(60, 64, 67, 0.15);\n",
              "      fill: #174EA6;\n",
              "    }\n",
              "\n",
              "    .colab-df-buttons div {\n",
              "      margin-bottom: 4px;\n",
              "    }\n",
              "\n",
              "    [theme=dark] .colab-df-convert {\n",
              "      background-color: #3B4455;\n",
              "      fill: #D2E3FC;\n",
              "    }\n",
              "\n",
              "    [theme=dark] .colab-df-convert:hover {\n",
              "      background-color: #434B5C;\n",
              "      box-shadow: 0px 1px 3px 1px rgba(0, 0, 0, 0.15);\n",
              "      filter: drop-shadow(0px 1px 2px rgba(0, 0, 0, 0.3));\n",
              "      fill: #FFFFFF;\n",
              "    }\n",
              "  </style>\n",
              "\n",
              "    <script>\n",
              "      const buttonEl =\n",
              "        document.querySelector('#df-093e1e43-f9e2-49fd-bf14-b99606954e77 button.colab-df-convert');\n",
              "      buttonEl.style.display =\n",
              "        google.colab.kernel.accessAllowed ? 'block' : 'none';\n",
              "\n",
              "      async function convertToInteractive(key) {\n",
              "        const element = document.querySelector('#df-093e1e43-f9e2-49fd-bf14-b99606954e77');\n",
              "        const dataTable =\n",
              "          await google.colab.kernel.invokeFunction('convertToInteractive',\n",
              "                                                    [key], {});\n",
              "        if (!dataTable) return;\n",
              "\n",
              "        const docLinkHtml = 'Like what you see? Visit the ' +\n",
              "          '<a target=\"_blank\" href=https://colab.research.google.com/notebooks/data_table.ipynb>data table notebook</a>'\n",
              "          + ' to learn more about interactive tables.';\n",
              "        element.innerHTML = '';\n",
              "        dataTable['output_type'] = 'display_data';\n",
              "        await google.colab.output.renderOutput(dataTable, element);\n",
              "        const docLink = document.createElement('div');\n",
              "        docLink.innerHTML = docLinkHtml;\n",
              "        element.appendChild(docLink);\n",
              "      }\n",
              "    </script>\n",
              "  </div>\n",
              "\n",
              "\n",
              "<div id=\"df-9b08c4a5-a842-4e02-8a78-59512b03bafd\">\n",
              "  <button class=\"colab-df-quickchart\" onclick=\"quickchart('df-9b08c4a5-a842-4e02-8a78-59512b03bafd')\"\n",
              "            title=\"Suggest charts.\"\n",
              "            style=\"display:none;\">\n",
              "\n",
              "<svg xmlns=\"http://www.w3.org/2000/svg\" height=\"24px\"viewBox=\"0 0 24 24\"\n",
              "     width=\"24px\">\n",
              "    <g>\n",
              "        <path d=\"M19 3H5c-1.1 0-2 .9-2 2v14c0 1.1.9 2 2 2h14c1.1 0 2-.9 2-2V5c0-1.1-.9-2-2-2zM9 17H7v-7h2v7zm4 0h-2V7h2v10zm4 0h-2v-4h2v4z\"/>\n",
              "    </g>\n",
              "</svg>\n",
              "  </button>\n",
              "\n",
              "<style>\n",
              "  .colab-df-quickchart {\n",
              "    background-color: #E8F0FE;\n",
              "    border: none;\n",
              "    border-radius: 50%;\n",
              "    cursor: pointer;\n",
              "    display: none;\n",
              "    fill: #1967D2;\n",
              "    height: 32px;\n",
              "    padding: 0 0 0 0;\n",
              "    width: 32px;\n",
              "  }\n",
              "\n",
              "  .colab-df-quickchart:hover {\n",
              "    background-color: #E2EBFA;\n",
              "    box-shadow: 0px 1px 2px rgba(60, 64, 67, 0.3), 0px 1px 3px 1px rgba(60, 64, 67, 0.15);\n",
              "    fill: #174EA6;\n",
              "  }\n",
              "\n",
              "  [theme=dark] .colab-df-quickchart {\n",
              "    background-color: #3B4455;\n",
              "    fill: #D2E3FC;\n",
              "  }\n",
              "\n",
              "  [theme=dark] .colab-df-quickchart:hover {\n",
              "    background-color: #434B5C;\n",
              "    box-shadow: 0px 1px 3px 1px rgba(0, 0, 0, 0.15);\n",
              "    filter: drop-shadow(0px 1px 2px rgba(0, 0, 0, 0.3));\n",
              "    fill: #FFFFFF;\n",
              "  }\n",
              "</style>\n",
              "\n",
              "  <script>\n",
              "    async function quickchart(key) {\n",
              "      const charts = await google.colab.kernel.invokeFunction(\n",
              "          'suggestCharts', [key], {});\n",
              "    }\n",
              "    (() => {\n",
              "      let quickchartButtonEl =\n",
              "        document.querySelector('#df-9b08c4a5-a842-4e02-8a78-59512b03bafd button');\n",
              "      quickchartButtonEl.style.display =\n",
              "        google.colab.kernel.accessAllowed ? 'block' : 'none';\n",
              "    })();\n",
              "  </script>\n",
              "</div>\n",
              "    </div>\n",
              "  </div>\n"
            ]
          },
          "metadata": {},
          "execution_count": 2
        }
      ]
    },
    {
      "cell_type": "code",
      "source": [
        "def classificador_limiar(limiar, atributo, dados, rotulos=None):\n",
        "    predicoes = []\n",
        "    for idx in range(len(dados)):\n",
        "        if dados.iloc[idx][atributo] <= limiar:\n",
        "            predicoes.append(rotulos[0])\n",
        "        else:\n",
        "            predicoes.append(rotulos[1])\n",
        "    return pd.DataFrame(predicoes, columns=['Esporte'])\n"
      ],
      "metadata": {
        "id": "W1gA2EidJ8ya"
      },
      "execution_count": 19,
      "outputs": []
    },
    {
      "cell_type": "code",
      "source": [
        "from sklearn.model_selection import train_test_split"
      ],
      "metadata": {
        "id": "6satVtw9KCwD"
      },
      "execution_count": 4,
      "outputs": []
    },
    {
      "cell_type": "code",
      "source": [
        "X = df[[\"Altura (m)\", \"Peso (kg)\"]]\n",
        "y = df['Esporte']\n",
        "\n",
        "X_treino, X_teste, y_treino, y_teste = train_test_split(X, y,\n",
        "                 test_size=0.2, stratify=y,\n",
        "                 shuffle=True, random_state=10)\n"
      ],
      "metadata": {
        "id": "l9iodo7YLBEm"
      },
      "execution_count": 5,
      "outputs": []
    },
    {
      "cell_type": "code",
      "source": [
        "X_treino.shape, X_teste.shape, y_treino.shape, y_teste.shape"
      ],
      "metadata": {
        "colab": {
          "base_uri": "https://localhost:8080/"
        },
        "id": "OxXJHABCNdw7",
        "outputId": "064409cc-55d8-4f74-ad6e-5dfee0d58aa5"
      },
      "execution_count": 6,
      "outputs": [
        {
          "output_type": "execute_result",
          "data": {
            "text/plain": [
              "((36, 2), (9, 2), (36,), (9,))"
            ]
          },
          "metadata": {},
          "execution_count": 6
        }
      ]
    },
    {
      "cell_type": "code",
      "source": [
        "def treinar_classificador_limiar(n_limiares, atributo, rotulos,\n",
        "                                 dados_X, dados_y):\n",
        "\n",
        "    alt_max = np.max(dados_X[atributo])\n",
        "    alt_min = np.min(dados_X[atributo])\n",
        "    limiares = np.linspace(alt_min, alt_max, n_limiares)\n",
        "\n",
        "    acuracias = []\n",
        "    melhor_limiar = None\n",
        "    melhor_acuracia = -1\n",
        "\n",
        "    for limiar in limiares:\n",
        "        predicoes = classificador_limiar(limiar,\n",
        "                                        atributo,\n",
        "                                        dados_X,\n",
        "                                        rotulos)\n",
        "\n",
        "        acuracia = accuracy_score(dados_y, predicoes['Esporte'])\n",
        "\n",
        "        if acuracia > melhor_acuracia:\n",
        "            melhor_acuracia = acuracia\n",
        "            melhor_limiar = limiar\n",
        "\n",
        "        acuracias.append(acuracia)\n",
        "\n",
        "    return melhor_limiar, melhor_acuracia, acuracias\n"
      ],
      "metadata": {
        "id": "HJY3t9N9Nivc"
      },
      "execution_count": 13,
      "outputs": []
    },
    {
      "cell_type": "code",
      "source": [
        "limiar, acc, _ = treinar_classificador_limiar(100, 'Altura (m)',\n",
        "                                ['futebol', 'volei'],\n",
        "                                X_treino, y_treino)"
      ],
      "metadata": {
        "id": "-tJRupedPWHx"
      },
      "execution_count": 27,
      "outputs": []
    },
    {
      "cell_type": "code",
      "source": [
        "limiar, acc"
      ],
      "metadata": {
        "colab": {
          "base_uri": "https://localhost:8080/"
        },
        "id": "h6PlnTLLP5N5",
        "outputId": "9abb92f2-9d9f-4ff4-dcea-efa27f6a2164"
      },
      "execution_count": 22,
      "outputs": [
        {
          "output_type": "execute_result",
          "data": {
            "text/plain": [
              "(1.8923232323232324, 0.8888888888888888)"
            ]
          },
          "metadata": {},
          "execution_count": 22
        }
      ]
    },
    {
      "cell_type": "code",
      "source": [
        "predicoes = classificador_limiar(limiar,\n",
        "                     'Altura (m)',\n",
        "                     X_teste, [\"futebol\", \"volei\"])\n",
        "\n",
        "accuracy_score(y_teste, predicoes['Esporte'])"
      ],
      "metadata": {
        "colab": {
          "base_uri": "https://localhost:8080/"
        },
        "id": "vDQ55Hp4RF6E",
        "outputId": "4d784cb5-0c35-4789-d71f-92646f175b1f"
      },
      "execution_count": 28,
      "outputs": [
        {
          "output_type": "execute_result",
          "data": {
            "text/plain": [
              "1.0"
            ]
          },
          "metadata": {},
          "execution_count": 28
        }
      ]
    },
    {
      "cell_type": "markdown",
      "source": [
        "# Estimando o desempenho do modelo usando simulação de Montecarlo"
      ],
      "metadata": {
        "id": "CsdljWwHTXRO"
      }
    },
    {
      "cell_type": "code",
      "source": [
        "acuracias = []\n",
        "n_iteracoes = 100\n",
        "\n",
        "for i in range(n_iteracoes):\n",
        "\n",
        "    X_treino, X_teste, y_treino, y_teste = train_test_split(X, y,\n",
        "                    test_size=0.2, stratify=y,\n",
        "                    shuffle=True, random_state=i)\n",
        "\n",
        "    limiar, acc, _ = treinar_classificador_limiar(100, 'Altura (m)',\n",
        "                                ['futebol', 'volei'],\n",
        "                                X_treino, y_treino)\n",
        "\n",
        "    predicoes = classificador_limiar(limiar,\n",
        "                     'Altura (m)',\n",
        "                     X_teste, [\"futebol\", \"volei\"])\n",
        "\n",
        "    acuracias.append(accuracy_score(y_teste, predicoes['Esporte']))\n"
      ],
      "metadata": {
        "id": "TZ88BJA5RssL"
      },
      "execution_count": 30,
      "outputs": []
    },
    {
      "cell_type": "code",
      "source": [
        "med, desv = np.mean(acuracias), np.std(acuracias)\n",
        "min, max = np.min(acuracias), np.max(acuracias)\n",
        "\n",
        "print(\"Acurácia Média: %.2f +- %.2f (min: %.2f, max: %.2f)\" % (med, desv, min, max))"
      ],
      "metadata": {
        "colab": {
          "base_uri": "https://localhost:8080/"
        },
        "id": "vrBX4lyzT-DP",
        "outputId": "d6555d47-60d5-49d4-e7f3-03bba0ad1928"
      },
      "execution_count": 31,
      "outputs": [
        {
          "output_type": "stream",
          "name": "stdout",
          "text": [
            "Acurácia Média: 0.87 +- 0.12 (min: 0.56, max: 1.00)\n"
          ]
        }
      ]
    },
    {
      "cell_type": "code",
      "source": [],
      "metadata": {
        "id": "hi1d1w8zUfIb"
      },
      "execution_count": null,
      "outputs": []
    }
  ]
}