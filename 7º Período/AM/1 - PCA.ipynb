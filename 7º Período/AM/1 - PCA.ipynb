{
 "cells": [
  {
   "cell_type": "code",
   "execution_count": 49,
   "id": "78ee22b7-6bd7-409f-9a65-8096fd7134dd",
   "metadata": {},
   "outputs": [],
   "source": [
    "import matplotlib.pyplot as plt\n",
    "import pandas as pd\n",
    "import numpy as np\n",
    "import seaborn as sns"
   ]
  },
  {
   "cell_type": "markdown",
   "id": "d0f01539-2be6-4fbe-8763-3fc45d883ea3",
   "metadata": {},
   "source": [
    "# Visualização de Dados\n",
    "\n",
    "Nesta aula vamos aprender uma técnica bastante utilizada para visualizar conjuntos de dados com mais de 2 atributos. Esta visualização nos permite ter uma idéia da dificuldade do problema de classificação, ou seja, o quão bem esperamos conseguir separar as classes com os atributos que temos disponíveis.\n",
    "\n",
    "Como estudo de caso, vamos usar a base de dados *wine*, que é muito utilizada em contextos didáticos sobre aprendizagem de máquina. Esta base de dados tem 178 instâncias com 13 atributos de entrada. Cada instância representa medidas fisico-químicas de vinhos produzidos em uma região da itália. O atributo de saída tem 3 classes, cada uma representa um tipo de cultura da uva que foi usada para produzir o vinho.\n",
    "\n",
    "A base de dados *wine* está disponível no sklearn, no módulo *datasets*."
   ]
  },
  {
   "cell_type": "code",
   "execution_count": 50,
   "id": "e78e1858-ec3d-4265-8709-7c7bf87414fe",
   "metadata": {},
   "outputs": [],
   "source": [
    "from sklearn.datasets import load_wine\n",
    "ds = load_wine(as_frame=True)  #as_frame=True carrega o dataset em um pandas Dataframe, acessível pelo atributo frame"
   ]
  },
  {
   "cell_type": "code",
   "execution_count": 51,
   "id": "544af6b5-ce4d-401e-99e0-9f7e404064fd",
   "metadata": {},
   "outputs": [],
   "source": [
    "X = ds.data    # um dataframe com todos os atributos de entrada\n",
    "y = ds.target  # um pandas series com o atributo de saída\n",
    "df = ds.frame  # um dataframe com todos os atributos de entrada seguido pelo atributo de saída (target)\n",
    "               # ds.frame é uma concatenação do ds.data e ds.target"
   ]
  },
  {
   "cell_type": "code",
   "execution_count": 52,
   "id": "f60dd1e8-cf87-4150-b51b-4f6842a9a29d",
   "metadata": {},
   "outputs": [
    {
     "data": {
      "text/html": [
       "<div>\n",
       "<style scoped>\n",
       "    .dataframe tbody tr th:only-of-type {\n",
       "        vertical-align: middle;\n",
       "    }\n",
       "\n",
       "    .dataframe tbody tr th {\n",
       "        vertical-align: top;\n",
       "    }\n",
       "\n",
       "    .dataframe thead th {\n",
       "        text-align: right;\n",
       "    }\n",
       "</style>\n",
       "<table border=\"1\" class=\"dataframe\">\n",
       "  <thead>\n",
       "    <tr style=\"text-align: right;\">\n",
       "      <th></th>\n",
       "      <th>alcohol</th>\n",
       "      <th>malic_acid</th>\n",
       "      <th>ash</th>\n",
       "      <th>alcalinity_of_ash</th>\n",
       "      <th>magnesium</th>\n",
       "      <th>total_phenols</th>\n",
       "      <th>flavanoids</th>\n",
       "      <th>nonflavanoid_phenols</th>\n",
       "      <th>proanthocyanins</th>\n",
       "      <th>color_intensity</th>\n",
       "      <th>hue</th>\n",
       "      <th>od280/od315_of_diluted_wines</th>\n",
       "      <th>proline</th>\n",
       "      <th>target</th>\n",
       "    </tr>\n",
       "  </thead>\n",
       "  <tbody>\n",
       "    <tr>\n",
       "      <th>0</th>\n",
       "      <td>14.23</td>\n",
       "      <td>1.71</td>\n",
       "      <td>2.43</td>\n",
       "      <td>15.6</td>\n",
       "      <td>127.0</td>\n",
       "      <td>2.80</td>\n",
       "      <td>3.06</td>\n",
       "      <td>0.28</td>\n",
       "      <td>2.29</td>\n",
       "      <td>5.64</td>\n",
       "      <td>1.04</td>\n",
       "      <td>3.92</td>\n",
       "      <td>1065.0</td>\n",
       "      <td>0</td>\n",
       "    </tr>\n",
       "    <tr>\n",
       "      <th>1</th>\n",
       "      <td>13.20</td>\n",
       "      <td>1.78</td>\n",
       "      <td>2.14</td>\n",
       "      <td>11.2</td>\n",
       "      <td>100.0</td>\n",
       "      <td>2.65</td>\n",
       "      <td>2.76</td>\n",
       "      <td>0.26</td>\n",
       "      <td>1.28</td>\n",
       "      <td>4.38</td>\n",
       "      <td>1.05</td>\n",
       "      <td>3.40</td>\n",
       "      <td>1050.0</td>\n",
       "      <td>0</td>\n",
       "    </tr>\n",
       "    <tr>\n",
       "      <th>2</th>\n",
       "      <td>13.16</td>\n",
       "      <td>2.36</td>\n",
       "      <td>2.67</td>\n",
       "      <td>18.6</td>\n",
       "      <td>101.0</td>\n",
       "      <td>2.80</td>\n",
       "      <td>3.24</td>\n",
       "      <td>0.30</td>\n",
       "      <td>2.81</td>\n",
       "      <td>5.68</td>\n",
       "      <td>1.03</td>\n",
       "      <td>3.17</td>\n",
       "      <td>1185.0</td>\n",
       "      <td>0</td>\n",
       "    </tr>\n",
       "    <tr>\n",
       "      <th>3</th>\n",
       "      <td>14.37</td>\n",
       "      <td>1.95</td>\n",
       "      <td>2.50</td>\n",
       "      <td>16.8</td>\n",
       "      <td>113.0</td>\n",
       "      <td>3.85</td>\n",
       "      <td>3.49</td>\n",
       "      <td>0.24</td>\n",
       "      <td>2.18</td>\n",
       "      <td>7.80</td>\n",
       "      <td>0.86</td>\n",
       "      <td>3.45</td>\n",
       "      <td>1480.0</td>\n",
       "      <td>0</td>\n",
       "    </tr>\n",
       "    <tr>\n",
       "      <th>4</th>\n",
       "      <td>13.24</td>\n",
       "      <td>2.59</td>\n",
       "      <td>2.87</td>\n",
       "      <td>21.0</td>\n",
       "      <td>118.0</td>\n",
       "      <td>2.80</td>\n",
       "      <td>2.69</td>\n",
       "      <td>0.39</td>\n",
       "      <td>1.82</td>\n",
       "      <td>4.32</td>\n",
       "      <td>1.04</td>\n",
       "      <td>2.93</td>\n",
       "      <td>735.0</td>\n",
       "      <td>0</td>\n",
       "    </tr>\n",
       "    <tr>\n",
       "      <th>...</th>\n",
       "      <td>...</td>\n",
       "      <td>...</td>\n",
       "      <td>...</td>\n",
       "      <td>...</td>\n",
       "      <td>...</td>\n",
       "      <td>...</td>\n",
       "      <td>...</td>\n",
       "      <td>...</td>\n",
       "      <td>...</td>\n",
       "      <td>...</td>\n",
       "      <td>...</td>\n",
       "      <td>...</td>\n",
       "      <td>...</td>\n",
       "      <td>...</td>\n",
       "    </tr>\n",
       "    <tr>\n",
       "      <th>173</th>\n",
       "      <td>13.71</td>\n",
       "      <td>5.65</td>\n",
       "      <td>2.45</td>\n",
       "      <td>20.5</td>\n",
       "      <td>95.0</td>\n",
       "      <td>1.68</td>\n",
       "      <td>0.61</td>\n",
       "      <td>0.52</td>\n",
       "      <td>1.06</td>\n",
       "      <td>7.70</td>\n",
       "      <td>0.64</td>\n",
       "      <td>1.74</td>\n",
       "      <td>740.0</td>\n",
       "      <td>2</td>\n",
       "    </tr>\n",
       "    <tr>\n",
       "      <th>174</th>\n",
       "      <td>13.40</td>\n",
       "      <td>3.91</td>\n",
       "      <td>2.48</td>\n",
       "      <td>23.0</td>\n",
       "      <td>102.0</td>\n",
       "      <td>1.80</td>\n",
       "      <td>0.75</td>\n",
       "      <td>0.43</td>\n",
       "      <td>1.41</td>\n",
       "      <td>7.30</td>\n",
       "      <td>0.70</td>\n",
       "      <td>1.56</td>\n",
       "      <td>750.0</td>\n",
       "      <td>2</td>\n",
       "    </tr>\n",
       "    <tr>\n",
       "      <th>175</th>\n",
       "      <td>13.27</td>\n",
       "      <td>4.28</td>\n",
       "      <td>2.26</td>\n",
       "      <td>20.0</td>\n",
       "      <td>120.0</td>\n",
       "      <td>1.59</td>\n",
       "      <td>0.69</td>\n",
       "      <td>0.43</td>\n",
       "      <td>1.35</td>\n",
       "      <td>10.20</td>\n",
       "      <td>0.59</td>\n",
       "      <td>1.56</td>\n",
       "      <td>835.0</td>\n",
       "      <td>2</td>\n",
       "    </tr>\n",
       "    <tr>\n",
       "      <th>176</th>\n",
       "      <td>13.17</td>\n",
       "      <td>2.59</td>\n",
       "      <td>2.37</td>\n",
       "      <td>20.0</td>\n",
       "      <td>120.0</td>\n",
       "      <td>1.65</td>\n",
       "      <td>0.68</td>\n",
       "      <td>0.53</td>\n",
       "      <td>1.46</td>\n",
       "      <td>9.30</td>\n",
       "      <td>0.60</td>\n",
       "      <td>1.62</td>\n",
       "      <td>840.0</td>\n",
       "      <td>2</td>\n",
       "    </tr>\n",
       "    <tr>\n",
       "      <th>177</th>\n",
       "      <td>14.13</td>\n",
       "      <td>4.10</td>\n",
       "      <td>2.74</td>\n",
       "      <td>24.5</td>\n",
       "      <td>96.0</td>\n",
       "      <td>2.05</td>\n",
       "      <td>0.76</td>\n",
       "      <td>0.56</td>\n",
       "      <td>1.35</td>\n",
       "      <td>9.20</td>\n",
       "      <td>0.61</td>\n",
       "      <td>1.60</td>\n",
       "      <td>560.0</td>\n",
       "      <td>2</td>\n",
       "    </tr>\n",
       "  </tbody>\n",
       "</table>\n",
       "<p>178 rows × 14 columns</p>\n",
       "</div>"
      ],
      "text/plain": [
       "     alcohol  malic_acid   ash  alcalinity_of_ash  magnesium  total_phenols  \\\n",
       "0      14.23        1.71  2.43               15.6      127.0           2.80   \n",
       "1      13.20        1.78  2.14               11.2      100.0           2.65   \n",
       "2      13.16        2.36  2.67               18.6      101.0           2.80   \n",
       "3      14.37        1.95  2.50               16.8      113.0           3.85   \n",
       "4      13.24        2.59  2.87               21.0      118.0           2.80   \n",
       "..       ...         ...   ...                ...        ...            ...   \n",
       "173    13.71        5.65  2.45               20.5       95.0           1.68   \n",
       "174    13.40        3.91  2.48               23.0      102.0           1.80   \n",
       "175    13.27        4.28  2.26               20.0      120.0           1.59   \n",
       "176    13.17        2.59  2.37               20.0      120.0           1.65   \n",
       "177    14.13        4.10  2.74               24.5       96.0           2.05   \n",
       "\n",
       "     flavanoids  nonflavanoid_phenols  proanthocyanins  color_intensity   hue  \\\n",
       "0          3.06                  0.28             2.29             5.64  1.04   \n",
       "1          2.76                  0.26             1.28             4.38  1.05   \n",
       "2          3.24                  0.30             2.81             5.68  1.03   \n",
       "3          3.49                  0.24             2.18             7.80  0.86   \n",
       "4          2.69                  0.39             1.82             4.32  1.04   \n",
       "..          ...                   ...              ...              ...   ...   \n",
       "173        0.61                  0.52             1.06             7.70  0.64   \n",
       "174        0.75                  0.43             1.41             7.30  0.70   \n",
       "175        0.69                  0.43             1.35            10.20  0.59   \n",
       "176        0.68                  0.53             1.46             9.30  0.60   \n",
       "177        0.76                  0.56             1.35             9.20  0.61   \n",
       "\n",
       "     od280/od315_of_diluted_wines  proline  target  \n",
       "0                            3.92   1065.0       0  \n",
       "1                            3.40   1050.0       0  \n",
       "2                            3.17   1185.0       0  \n",
       "3                            3.45   1480.0       0  \n",
       "4                            2.93    735.0       0  \n",
       "..                            ...      ...     ...  \n",
       "173                          1.74    740.0       2  \n",
       "174                          1.56    750.0       2  \n",
       "175                          1.56    835.0       2  \n",
       "176                          1.62    840.0       2  \n",
       "177                          1.60    560.0       2  \n",
       "\n",
       "[178 rows x 14 columns]"
      ]
     },
     "execution_count": 52,
     "metadata": {},
     "output_type": "execute_result"
    }
   ],
   "source": [
    "df"
   ]
  },
  {
   "cell_type": "markdown",
   "id": "2e5be5d1-6ea8-4adf-aa13-80ae4f335137",
   "metadata": {},
   "source": [
    "# PCA - *Principal Component Analysis*\n",
    "\n",
    "Nas duas primeiras aulas práticas nós usamos um gráfico de pontos (*scatterplot*) para visualizar as instâncias no espaço de atributos. Naquelas aulas visualizamos cada pessoa (instância) como um ponto no plano cartesiano bidimensional, onde o eixo-x representava o atributo **peso** e o eixo-y representava o atributo **altura**. Esta visualização nos dava uma boa idéia da separabilidade das classes, bem como qual atributo seria o mais útil para realizar a classificação. Com base nessa visualização nós percebemos que podíamos obter um bom resultado otimizando um classificador limiar apenas no atributo **altura**.\n",
    "\n",
    "A grande maioria dos conjuntos de dados que trabalhamos no dia-a-dia tem mais que 2 atributos. Isto faz com que o mapeamento atributo $\\to$ eixo coordenado não seja possível visualizar de forma cômoda em mais de duas dimensões. Uma das estratégias para visualizar estes conjuntos de dados é realizar a projeção de todos os **k** atributos para 2 atributos, que então podem ser mapeados para os eixos coordenados em um plano cartesiano. Existem várias projeções na literatura que realçam diferentes características dos dados. Hoje nós vamos aprender o que significa e como podemos usar um algoritmo de redução de dimensionalidade chamdo PCA.\n",
    "\n",
    "*PCA* é uma ferramenta estatística usada para analisar dados multidimensionais. Intuitivamente, o PCA encontra combinações lineares dos atributos de entrada de forma que dados (instâncias) linearmente correlacionados fiquem mais próximos no espaço latente que pontos não-correlacionados. Os vetores que descrevem cada combinação linear são chamados de componentes principais, e o espaço latente é o espaço vetorial formado por todos os componentes principais. \n",
    "\n",
    "Os componentes principais são ordenados, ou seja, o primeiro componente principal é aquele que descreve a direção com a maior variação nos dados. O segundo componente principal é o que descreve a direção com a segunda maior variação dos dados, e assim por diante. Seja **k** o número de atributos. Supondo que há mais instâncias que atributos, há **k** componentes principais em um conjunto de dados. Entretanto, somente os primeiros **c** componentes são mantidos em aplicações de redução de dimensionalidade. Dessa forma, usando **c=2** temos os 2 componentes principais que descrevem a maioria da variação nos dados. Estes 2 componentes principais são mapeados nos eixos coordenados em um plano cartesiano e os **k** atributos são projetados nestes 2 eixos para a visualização das instâncias.\n",
    "\n",
    "O PCA é um algoritmo de redução de dimensionalidade amplamente utilizado pois é fácil interpretar e o cálculo dos componentes principais pode ser feito de forma muito eficiente, mesmo em grandes conjuntos de dados.\n",
    "\n",
    "<!-- PCA é linear, fácil de interpretar e rápido de calcular. PCA pode ajudar a verificar se os dados são linearmente separáveis. -->"
   ]
  },
  {
   "cell_type": "code",
   "execution_count": 53,
   "id": "e1e44e54-ddb7-4b12-aeb9-2c223981841f",
   "metadata": {},
   "outputs": [],
   "source": [
    "#A biblioteca sklearn possui uma implementação de PCA baseado em SVD no modulo decomposition\n",
    "from sklearn.decomposition import PCA"
   ]
  },
  {
   "cell_type": "code",
   "execution_count": 54,
   "id": "1fae5d8a-ce5f-4c79-8517-5e39e3b56b7e",
   "metadata": {},
   "outputs": [
    {
     "data": {
      "text/plain": [
       "PCA(n_components=2)"
      ]
     },
     "execution_count": 54,
     "metadata": {},
     "output_type": "execute_result"
    }
   ],
   "source": [
    "pca = PCA(n_components=2)  #instanciando o PCA, indicando o interesse em manter apenas os 2 primeiros componentes principais.\n",
    "                           #na prática isto quer dizer que queremos projetar os dados para 2 dimensões.\n",
    "\n",
    "#Estimar os componentes principais\n",
    "pca.fit(X)"
   ]
  },
  {
   "cell_type": "code",
   "execution_count": 55,
   "id": "b275f9c0-db24-4b61-b171-8aa1acd2b6d3",
   "metadata": {},
   "outputs": [
    {
     "name": "stdout",
     "output_type": "stream",
     "text": [
      "Instâncias priginais: (178, 13)\n",
      "Instâncias projetadas nos componentes principais: (178, 2)\n"
     ]
    }
   ],
   "source": [
    "X_pca = pca.transform(X)  # Projetar os 13 atributos nos 2 componentes principais\n",
    "X_pca_df = pd.DataFrame(X_pca, columns=['PC 0', 'PC 1'])\n",
    "\n",
    "# Note que a dimensionalidade dos dados projetados agora tem apenas 2 atributos!\n",
    "print(\"Instâncias priginais: %s\\nInstâncias projetadas nos componentes principais: %s\" % (str(X.shape), str(X_pca_df.shape)))"
   ]
  },
  {
   "cell_type": "code",
   "execution_count": 56,
   "id": "26fa6b2e-7c3c-4b9a-bf5c-7bb25c7b3ab1",
   "metadata": {},
   "outputs": [],
   "source": [
    "#plt.scatter(np.arange(len(pca.components_[0])),pca.components_[0])"
   ]
  },
  {
   "cell_type": "code",
   "execution_count": 57,
   "id": "796c4aaf-2d10-43c8-892e-fb64158aa768",
   "metadata": {},
   "outputs": [
    {
     "data": {
      "text/plain": [
       "<AxesSubplot:xlabel='PC 0', ylabel='PC 1'>"
      ]
     },
     "execution_count": 57,
     "metadata": {},
     "output_type": "execute_result"
    },
    {
     "data": {
      "image/png": "[encoded data removed]",
      "text/plain": [
       "<Figure size 432x288 with 1 Axes>"
      ]
     },
     "metadata": {
      "needs_background": "light"
     },
     "output_type": "display_data"
    }
   ],
   "source": [
    "#Plotar os dados projetados nos componentes principais. Colorir os pontos de acordo com o target (atributo de saída)\n",
    "sns.set_palette('seismic')\n",
    "sns.scatterplot(data=X_pca_df, x='PC 0', y='PC 1', hue=y, palette='Set1')"
   ]
  },
  {
   "cell_type": "markdown",
   "id": "6e951efc-b5e5-4a4f-8da9-4c1c80c73b6a",
   "metadata": {},
   "source": [
    "O gráfico acima é a projeção PCA sobre os 2 primeiros componentes principais a partir dos 13 atributos do dataset. Note que nesta projeção há sobreposição das instâncias de classes diferentes. Esta sobreposição pode acontecer por vários motivos. Os mais importantes são:\n",
    "\n",
    "1. Os atributos estão em escalas diferentes;\n",
    "2. Os atributos não são discriminativos, ou seja, não tem informações suficientes para separar as classes.\n",
    "\n",
    "O primeiro motivo é relacionado ao pré-processamento dos dados que usamos para encontrar os componentes principais, enquanto o segundo motivo é relacionado aos dados que temos disponíveis. É interessante saber se os dados que já temos são suficientes para separar as classes. Portanto, vamos investigar as escalas dos atributos (motivo 1 acima)."
   ]
  },
  {
   "cell_type": "code",
   "execution_count": 58,
   "id": "c2241c97-6acf-476a-803b-d0844c971269",
   "metadata": {},
   "outputs": [
    {
     "data": {
      "text/html": [
       "<div>\n",
       "<style scoped>\n",
       "    .dataframe tbody tr th:only-of-type {\n",
       "        vertical-align: middle;\n",
       "    }\n",
       "\n",
       "    .dataframe tbody tr th {\n",
       "        vertical-align: top;\n",
       "    }\n",
       "\n",
       "    .dataframe thead th {\n",
       "        text-align: right;\n",
       "    }\n",
       "</style>\n",
       "<table border=\"1\" class=\"dataframe\">\n",
       "  <thead>\n",
       "    <tr style=\"text-align: right;\">\n",
       "      <th>target</th>\n",
       "      <th>0</th>\n",
       "      <th>1</th>\n",
       "      <th>2</th>\n",
       "    </tr>\n",
       "  </thead>\n",
       "  <tbody>\n",
       "    <tr>\n",
       "      <th>alcohol</th>\n",
       "      <td>13.744746</td>\n",
       "      <td>12.278732</td>\n",
       "      <td>13.153750</td>\n",
       "    </tr>\n",
       "    <tr>\n",
       "      <th>malic_acid</th>\n",
       "      <td>2.010678</td>\n",
       "      <td>1.932676</td>\n",
       "      <td>3.333750</td>\n",
       "    </tr>\n",
       "    <tr>\n",
       "      <th>ash</th>\n",
       "      <td>2.455593</td>\n",
       "      <td>2.244789</td>\n",
       "      <td>2.437083</td>\n",
       "    </tr>\n",
       "    <tr>\n",
       "      <th>alcalinity_of_ash</th>\n",
       "      <td>17.037288</td>\n",
       "      <td>20.238028</td>\n",
       "      <td>21.416667</td>\n",
       "    </tr>\n",
       "    <tr>\n",
       "      <th>magnesium</th>\n",
       "      <td>106.338983</td>\n",
       "      <td>94.549296</td>\n",
       "      <td>99.312500</td>\n",
       "    </tr>\n",
       "    <tr>\n",
       "      <th>total_phenols</th>\n",
       "      <td>2.840169</td>\n",
       "      <td>2.258873</td>\n",
       "      <td>1.678750</td>\n",
       "    </tr>\n",
       "    <tr>\n",
       "      <th>flavanoids</th>\n",
       "      <td>2.982373</td>\n",
       "      <td>2.080845</td>\n",
       "      <td>0.781458</td>\n",
       "    </tr>\n",
       "    <tr>\n",
       "      <th>nonflavanoid_phenols</th>\n",
       "      <td>0.290000</td>\n",
       "      <td>0.363662</td>\n",
       "      <td>0.447500</td>\n",
       "    </tr>\n",
       "    <tr>\n",
       "      <th>proanthocyanins</th>\n",
       "      <td>1.899322</td>\n",
       "      <td>1.630282</td>\n",
       "      <td>1.153542</td>\n",
       "    </tr>\n",
       "    <tr>\n",
       "      <th>color_intensity</th>\n",
       "      <td>5.528305</td>\n",
       "      <td>3.086620</td>\n",
       "      <td>7.396250</td>\n",
       "    </tr>\n",
       "    <tr>\n",
       "      <th>hue</th>\n",
       "      <td>1.062034</td>\n",
       "      <td>1.056282</td>\n",
       "      <td>0.682708</td>\n",
       "    </tr>\n",
       "    <tr>\n",
       "      <th>od280/od315_of_diluted_wines</th>\n",
       "      <td>3.157797</td>\n",
       "      <td>2.785352</td>\n",
       "      <td>1.683542</td>\n",
       "    </tr>\n",
       "    <tr>\n",
       "      <th>proline</th>\n",
       "      <td>1115.711864</td>\n",
       "      <td>519.507042</td>\n",
       "      <td>629.895833</td>\n",
       "    </tr>\n",
       "  </tbody>\n",
       "</table>\n",
       "</div>"
      ],
      "text/plain": [
       "target                                  0           1           2\n",
       "alcohol                         13.744746   12.278732   13.153750\n",
       "malic_acid                       2.010678    1.932676    3.333750\n",
       "ash                              2.455593    2.244789    2.437083\n",
       "alcalinity_of_ash               17.037288   20.238028   21.416667\n",
       "magnesium                      106.338983   94.549296   99.312500\n",
       "total_phenols                    2.840169    2.258873    1.678750\n",
       "flavanoids                       2.982373    2.080845    0.781458\n",
       "nonflavanoid_phenols             0.290000    0.363662    0.447500\n",
       "proanthocyanins                  1.899322    1.630282    1.153542\n",
       "color_intensity                  5.528305    3.086620    7.396250\n",
       "hue                              1.062034    1.056282    0.682708\n",
       "od280/od315_of_diluted_wines     3.157797    2.785352    1.683542\n",
       "proline                       1115.711864  519.507042  629.895833"
      ]
     },
     "execution_count": 58,
     "metadata": {},
     "output_type": "execute_result"
    }
   ],
   "source": [
    "#calcular a média do valor dos atributos para cada classe.\n",
    "df.groupby('target').mean().transpose()"
   ]
  },
  {
   "cell_type": "markdown",
   "id": "e3743f9e-45d6-46fd-9108-5dc7f5832bb2",
   "metadata": {},
   "source": [
    "Veja que temos 3 escalas diferentes:\n",
    "\n",
    "* Os atributos *alcohol, malic_acid, ash, total_phenols, flavonoids, nonflavonoid_phenols, protoanthocyanins, color_intensity, hue,* e *od280/od315_of_diluted_wines* estão em sua maioria entre 0 e 10;\n",
    "* Os atributos *alcalinity_of_ash* e *magnesium* estão entre 11 e 100;\n",
    "* O atributo *proline* está entre 500 e 1100.\n",
    "\n",
    "O atributo proline tem uma variância maior, uma vez que sua escala também é maior. Desta forma o PCA, que busca maximizar a variância descrita, dá um peso muito maior ao atributo *proline* que os demais atributos. Entretanto, isto não quer dizer as variações no atributo *proline* sejam mais importantes que as variações nos demais atributos que estão medidos em escalas menores.\n",
    "\n",
    "Para verificar se o atributo *proline* realmente tem o peso desproporcionalmente maior que os demais, basta verificar o peso do componente principal 0, que descreve a direção com a maior variação:"
   ]
  },
  {
   "cell_type": "code",
   "execution_count": 82,
   "id": "34fa33c6-2e84-43bf-b29c-86a5bc7c219e",
   "metadata": {},
   "outputs": [
    {
     "data": {
      "image/png": "[encoded data removed]",
      "text/plain": [
       "<Figure size 576x288 with 1 Axes>"
      ]
     },
     "metadata": {
      "needs_background": "light"
     },
     "output_type": "display_data"
    }
   ],
   "source": [
    "fig, ax = plt.subplots(figsize=(8,4))\n",
    "ax.scatter(np.arange(len(X.columns)),pca.components_[0])\n",
    "ax.set_xticks(np.arange(len(X.columns)))\n",
    "ax.set_xticklabels(X.columns, rotation=90)\n",
    "plt.show()"
   ]
  },
  {
   "cell_type": "markdown",
   "id": "9fa3d311-0b4f-415b-b5b8-79bff4b225de",
   "metadata": {},
   "source": [
    "Note que realmente o atributo *proline* tem um peso desproporcinalmente maior que os demais atributos. Note também que o atributo *magnesium* tem um pouco mais de peso que os atributos restantes e que este atributo é um dos que estão na escala intermediária. Para garantir que o PCA não vai enviesar os pesos baseado nas escalas, temos que normalizar os atributos para que estejam na mesma escala."
   ]
  },
  {
   "cell_type": "code",
   "execution_count": 87,
   "id": "3eca5850-f3b0-4aa7-83bf-7868ac24d3b1",
   "metadata": {},
   "outputs": [],
   "source": [
    "# A biblioteca sklearn tem várias funções para normalizar dados. Uma delas, conhecida como z-score, está encapsulada\n",
    "# na classe StandardScaler do módulo preprocessing.\n",
    "from sklearn.preprocessing import StandardScaler"
   ]
  },
  {
   "cell_type": "markdown",
   "id": "6809f0a2-2251-4e15-b6a2-da26ef91b36d",
   "metadata": {},
   "source": [
    "A normalização *z-score*, implementada na classe StandardScaler, é amplamente utilizada para normalizar dados em muitas situações em aprendizagem de máquina. Seja $\\mu$ a média amostral de um atributo e $\\sigma$ o desvio-padrão. O dado normalizado $z$ de uma instância $x$ é dado por:\n",
    "\n",
    "$$\n",
    "z = \\frac{x-\\mu}{\\sigma}\n",
    "$$\n",
    "\n",
    "Desta forma, o atributo passa a ter média $0$ e o desvio-padrão unitário. A classe StandardScaler estima os parâmetros $\\mu$ e  $\\sigma$ separadamente para cada atributo. Desta forma, todos os atributos passam a ter a mesma escala."
   ]
  },
  {
   "cell_type": "code",
   "execution_count": 88,
   "id": "7e6d0c4b-9bc1-4d9f-8280-162ba2609cb0",
   "metadata": {},
   "outputs": [],
   "source": [
    "ss = StandardScaler()  # instancia o StandardScaler\n",
    "ss.fit(X)              # estima a média e o desvio-padrão de todos atributos\n",
    "X_ss = ss.transform(X) # realiza a normalização z-score nos atributos"
   ]
  },
  {
   "cell_type": "code",
   "execution_count": 89,
   "id": "9b949359-a528-40ee-8d21-ef8c39d9db23",
   "metadata": {},
   "outputs": [],
   "source": [
    "#calcula o PCA com os atributos normalizados\n",
    "pca_ss = PCA(n_components=2)\n",
    "pca_ss.fit(X_ss)\n",
    "X_ss_pca = pca_ss.transform(X_ss)\n",
    "X_ss_pca_df = pd.DataFrame(X_ss_pca, columns=['PC 0', 'PC 1'])"
   ]
  },
  {
   "cell_type": "code",
   "execution_count": 100,
   "id": "113ea60a-d802-4430-a0c3-c1bf63b1c26d",
   "metadata": {},
   "outputs": [
    {
     "data": {
      "image/png": "[encoded data removed]",
      "text/plain": [
       "<Figure size 576x288 with 2 Axes>"
      ]
     },
     "metadata": {
      "needs_background": "light"
     },
     "output_type": "display_data"
    }
   ],
   "source": [
    "fig, ax = plt.subplots(figsize=(8,4), nrows=1, ncols=2)\n",
    "for idx, pc in enumerate(pca_ss.components_):\n",
    "    ax[idx].scatter(np.arange(len(X.columns)), pc)\n",
    "    ax[idx].set_xticks(np.arange(len(X.columns)))\n",
    "    ax[idx].set_xticklabels(X.columns, rotation=90)\n",
    "    ax[idx].set_title('PC %d' % (idx))\n",
    "plt.show()"
   ]
  },
  {
   "cell_type": "markdown",
   "id": "e7fa0b3b-4c33-4621-97f0-4fc5d8365603",
   "metadata": {},
   "source": [
    "Note que os pesos dos atributos em ambos componentes principais estão distribuídos. Isto nos dá a confiança que o PCA não está enviesado em nenhum atributo específico. Como estes componentes foram estimados com dados em mesma escala, sabemos que não há risco de enviesamento por conta de diferenças em escala."
   ]
  },
  {
   "cell_type": "code",
   "execution_count": 102,
   "id": "a0c81237-e0f4-4b7e-9ba0-8ab491a89c97",
   "metadata": {},
   "outputs": [
    {
     "data": {
      "text/plain": [
       "<AxesSubplot:xlabel='PC 0', ylabel='PC 1'>"
      ]
     },
     "execution_count": 102,
     "metadata": {},
     "output_type": "execute_result"
    },
    {
     "data": {
      "image/png": "[encoded data removed]",
      "text/plain": [
       "<Figure size 432x288 with 1 Axes>"
      ]
     },
     "metadata": {
      "needs_background": "light"
     },
     "output_type": "display_data"
    }
   ],
   "source": [
    "sns.scatterplot(data=X_ss_pca_df, x='PC 0', y='PC 1', hue=y, palette='Set1')"
   ]
  },
  {
   "cell_type": "markdown",
   "id": "5fda443d-8df3-4ba6-b441-3268eb51dcb0",
   "metadata": {},
   "source": [
    "Note que grande parte da sobreposição foi eliminada. Isto ilustra a importância de colocar todos os atributos na mesma escala.\n",
    "\n",
    "## Interpretação\n",
    "\n",
    "A interpretação deste gráfico é a seguinte: as três classes podem ser separadas razoavelmente bem usando os atributos da base de dados. A classificação também pode ser realizada no espaço latente gerado pelos componentes principais encontrados pelo PCA. A distinção entre as três classes pode ser feita por um classificador linear, ou seja, que opera criando regiões definidas por um conjunto de retas. \n",
    "\n",
    "## Quantificando a representatividade da projeção\n",
    "\n",
    "Para verificar o quanto que a projeção do PCA representa os dados, podemos avaliar a taxa de variância explicada pelos componentes principais usados na projeção."
   ]
  },
  {
   "cell_type": "code",
   "execution_count": 104,
   "id": "b1599769-759b-4148-bcf9-92843f4fcfd6",
   "metadata": {},
   "outputs": [
    {
     "data": {
      "text/plain": [
       "(array([0.36198848, 0.1920749 ]), 0.5540633835693529)"
      ]
     },
     "execution_count": 104,
     "metadata": {},
     "output_type": "execute_result"
    }
   ],
   "source": [
    "pca_ss.explained_variance_ratio_, sum(pca_ss.explained_variance_ratio_)"
   ]
  },
  {
   "cell_type": "markdown",
   "id": "04631596-7987-4249-8527-4fb7cd25647f",
   "metadata": {},
   "source": [
    "Note que apenas os 2 primeiros componentes principais conseguem capturar 55% da variação dos dados. Esta taxa pode ser considerada, a grosso modo, como a capacidade da representação da projeção 2D dos 13 atributos originais. Note também pelo gráfico que estes componentes já conseguem mostrar a separabilidade linear das classes, o que aumenta nossa confiança que o problema de classificação subjacente é um problema \"fácil\".\n",
    "\n",
    "Note também que a taxa da variância explicada pelo PC0 é 36%, que é praticamente o dobro da taxa da variância explicada pelo PC1, que é de 19%. Isto quer dizer que a variância entre a separação dos pontos no eixo-x é praticamente o dobro da variância explicada pela separação dos pontos no eixo-y. Portanto, as distâncias maiores dos pontos no eixo-x representam diferenças maiores do que distâncias maiores dos pontos no eixo-y."
   ]
  },
  {
   "cell_type": "code",
   "execution_count": null,
   "id": "729c2ba7-7e34-47c1-8fc2-9564b1b7ef3d",
   "metadata": {},
   "outputs": [],
   "source": []
  }
 ],
 "metadata": {
  "kernelspec": {
   "display_name": "Python 3",
   "language": "python",
   "name": "python3"
  },
  "language_info": {
   "codemirror_mode": {
    "name": "ipython",
    "version": 3
   },
   "file_extension": ".py",
   "mimetype": "text/x-python",
   "name": "python",
   "nbconvert_exporter": "python",
   "pygments_lexer": "ipython3",
   "version": "3.8.8"
  }
 },
 "nbformat": 4,
 "nbformat_minor": 5
}
