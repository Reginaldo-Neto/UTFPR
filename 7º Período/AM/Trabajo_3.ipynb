{
  "nbformat": 4,
  "nbformat_minor": 0,
  "metadata": {
    "colab": {
      "provenance": []
    },
    "kernelspec": {
      "name": "python3",
      "display_name": "Python 3"
    },
    "language_info": {
      "name": "python"
    }
  },
  "cells": [
    {
      "cell_type": "markdown",
      "source": [
        "# REGINALDO GREGÓRIO DE SOUZA NETO\n",
        "2252813"
      ],
      "metadata": {
        "id": "hKgmBtUVbenp"
      }
    },
    {
      "cell_type": "markdown",
      "source": [
        "Importação das bibliotecas necessárias"
      ],
      "metadata": {
        "id": "u6lWvAz7yCv-"
      }
    },
    {
      "cell_type": "code",
      "execution_count": null,
      "metadata": {
        "id": "O4BPv467W719"
      },
      "outputs": [],
      "source": [
        "import pandas as pd\n",
        "import numpy as np\n",
        "import seaborn as sns\n",
        "import matplotlib.pyplot as plt\n",
        "from sklearn.model_selection import StratifiedKFold, GridSearchCV\n",
        "from sklearn.metrics import accuracy_score"
      ]
    },
    {
      "cell_type": "markdown",
      "source": [
        "Para realizar esta tarefa, utilizamos uma porção limitada do conjunto de dados MNIST, que abrange 1500 imagens em escala de cinza de 28x28 pixels, apresentando dígitos escritos à mão de 0 a 9. Essas imagens são convertidas em vetores de 784 pixels. As informações iniciais da base de dados incluem os valores dos pixels da imagem, que variam de 0 a 255, organizados nas primeiras 784 colunas. A última coluna indica a qual dígito a imagem corresponde. A seguir, carregamos esses dados em um DataFrame do pandas e separamos os valores em características (features) e rótulos (labels)."
      ],
      "metadata": {
        "id": "08pmGQUMyGjY"
      }
    },
    {
      "cell_type": "code",
      "source": [
        "df = pd.read_csv(\"mini_mnist.csv\")\n",
        "df.shape"
      ],
      "metadata": {
        "colab": {
          "base_uri": "https://localhost:8080/"
        },
        "id": "BtGT4fhJYUzN",
        "outputId": "3bc5b9e6-39cc-4b93-9c1e-0612b9d19dd2"
      },
      "execution_count": null,
      "outputs": [
        {
          "output_type": "execute_result",
          "data": {
            "text/plain": [
              "(1500, 785)"
            ]
          },
          "metadata": {},
          "execution_count": 3
        }
      ]
    },
    {
      "cell_type": "markdown",
      "source": [
        "Mostrando o head deu pra notar que cada atributo é referente à um pixel da imagem, com 0 ou 1 representando preto ou branco"
      ],
      "metadata": {
        "id": "OP1QdHcVkTzQ"
      }
    },
    {
      "cell_type": "code",
      "source": [
        "df.head()"
      ],
      "metadata": {
        "colab": {
          "base_uri": "https://localhost:8080/",
          "height": 255
        },
        "id": "rB22vbwv_E5r",
        "outputId": "cd934060-f0fe-420f-fbf5-47c3e3fe298c"
      },
      "execution_count": null,
      "outputs": [
        {
          "output_type": "execute_result",
          "data": {
            "text/plain": [
              "   pixel_0  pixel_1  pixel_2  pixel_3  pixel_4  pixel_5  pixel_6  pixel_7  \\\n",
              "0        0        0        0        0        0        0        0        0   \n",
              "1        0        0        0        0        0        0        0        0   \n",
              "2        0        0        0        0        0        0        0        0   \n",
              "3        0        0        0        0        0        0        0        0   \n",
              "4        0        0        0        0        0        0        0        0   \n",
              "\n",
              "   pixel_8  pixel_9  ...  pixel_775  pixel_776  pixel_777  pixel_778  \\\n",
              "0        0        0  ...          0          0          0          0   \n",
              "1        0        0  ...          0          0          0          0   \n",
              "2        0        0  ...          0          0          0          0   \n",
              "3        0        0  ...          0          0          0          0   \n",
              "4        0        0  ...          0          0          0          0   \n",
              "\n",
              "   pixel_779  pixel_780  pixel_781  pixel_782  pixel_783  digito  \n",
              "0          0          0          0          0          0       7  \n",
              "1          0          0          0          0          0       8  \n",
              "2          0          0          0          0          0       2  \n",
              "3          0          0          0          0          0       9  \n",
              "4          0          0          0          0          0       5  \n",
              "\n",
              "[5 rows x 785 columns]"
            ],
            "text/html": [
              "\n",
              "  <div id=\"df-20eaa7de-a283-461f-99c6-ea82551d1b24\" class=\"colab-df-container\">\n",
              "    <div>\n",
              "<style scoped>\n",
              "    .dataframe tbody tr th:only-of-type {\n",
              "        vertical-align: middle;\n",
              "    }\n",
              "\n",
              "    .dataframe tbody tr th {\n",
              "        vertical-align: top;\n",
              "    }\n",
              "\n",
              "    .dataframe thead th {\n",
              "        text-align: right;\n",
              "    }\n",
              "</style>\n",
              "<table border=\"1\" class=\"dataframe\">\n",
              "  <thead>\n",
              "    <tr style=\"text-align: right;\">\n",
              "      <th></th>\n",
              "      <th>pixel_0</th>\n",
              "      <th>pixel_1</th>\n",
              "      <th>pixel_2</th>\n",
              "      <th>pixel_3</th>\n",
              "      <th>pixel_4</th>\n",
              "      <th>pixel_5</th>\n",
              "      <th>pixel_6</th>\n",
              "      <th>pixel_7</th>\n",
              "      <th>pixel_8</th>\n",
              "      <th>pixel_9</th>\n",
              "      <th>...</th>\n",
              "      <th>pixel_775</th>\n",
              "      <th>pixel_776</th>\n",
              "      <th>pixel_777</th>\n",
              "      <th>pixel_778</th>\n",
              "      <th>pixel_779</th>\n",
              "      <th>pixel_780</th>\n",
              "      <th>pixel_781</th>\n",
              "      <th>pixel_782</th>\n",
              "      <th>pixel_783</th>\n",
              "      <th>digito</th>\n",
              "    </tr>\n",
              "  </thead>\n",
              "  <tbody>\n",
              "    <tr>\n",
              "      <th>0</th>\n",
              "      <td>0</td>\n",
              "      <td>0</td>\n",
              "      <td>0</td>\n",
              "      <td>0</td>\n",
              "      <td>0</td>\n",
              "      <td>0</td>\n",
              "      <td>0</td>\n",
              "      <td>0</td>\n",
              "      <td>0</td>\n",
              "      <td>0</td>\n",
              "      <td>...</td>\n",
              "      <td>0</td>\n",
              "      <td>0</td>\n",
              "      <td>0</td>\n",
              "      <td>0</td>\n",
              "      <td>0</td>\n",
              "      <td>0</td>\n",
              "      <td>0</td>\n",
              "      <td>0</td>\n",
              "      <td>0</td>\n",
              "      <td>7</td>\n",
              "    </tr>\n",
              "    <tr>\n",
              "      <th>1</th>\n",
              "      <td>0</td>\n",
              "      <td>0</td>\n",
              "      <td>0</td>\n",
              "      <td>0</td>\n",
              "      <td>0</td>\n",
              "      <td>0</td>\n",
              "      <td>0</td>\n",
              "      <td>0</td>\n",
              "      <td>0</td>\n",
              "      <td>0</td>\n",
              "      <td>...</td>\n",
              "      <td>0</td>\n",
              "      <td>0</td>\n",
              "      <td>0</td>\n",
              "      <td>0</td>\n",
              "      <td>0</td>\n",
              "      <td>0</td>\n",
              "      <td>0</td>\n",
              "      <td>0</td>\n",
              "      <td>0</td>\n",
              "      <td>8</td>\n",
              "    </tr>\n",
              "    <tr>\n",
              "      <th>2</th>\n",
              "      <td>0</td>\n",
              "      <td>0</td>\n",
              "      <td>0</td>\n",
              "      <td>0</td>\n",
              "      <td>0</td>\n",
              "      <td>0</td>\n",
              "      <td>0</td>\n",
              "      <td>0</td>\n",
              "      <td>0</td>\n",
              "      <td>0</td>\n",
              "      <td>...</td>\n",
              "      <td>0</td>\n",
              "      <td>0</td>\n",
              "      <td>0</td>\n",
              "      <td>0</td>\n",
              "      <td>0</td>\n",
              "      <td>0</td>\n",
              "      <td>0</td>\n",
              "      <td>0</td>\n",
              "      <td>0</td>\n",
              "      <td>2</td>\n",
              "    </tr>\n",
              "    <tr>\n",
              "      <th>3</th>\n",
              "      <td>0</td>\n",
              "      <td>0</td>\n",
              "      <td>0</td>\n",
              "      <td>0</td>\n",
              "      <td>0</td>\n",
              "      <td>0</td>\n",
              "      <td>0</td>\n",
              "      <td>0</td>\n",
              "      <td>0</td>\n",
              "      <td>0</td>\n",
              "      <td>...</td>\n",
              "      <td>0</td>\n",
              "      <td>0</td>\n",
              "      <td>0</td>\n",
              "      <td>0</td>\n",
              "      <td>0</td>\n",
              "      <td>0</td>\n",
              "      <td>0</td>\n",
              "      <td>0</td>\n",
              "      <td>0</td>\n",
              "      <td>9</td>\n",
              "    </tr>\n",
              "    <tr>\n",
              "      <th>4</th>\n",
              "      <td>0</td>\n",
              "      <td>0</td>\n",
              "      <td>0</td>\n",
              "      <td>0</td>\n",
              "      <td>0</td>\n",
              "      <td>0</td>\n",
              "      <td>0</td>\n",
              "      <td>0</td>\n",
              "      <td>0</td>\n",
              "      <td>0</td>\n",
              "      <td>...</td>\n",
              "      <td>0</td>\n",
              "      <td>0</td>\n",
              "      <td>0</td>\n",
              "      <td>0</td>\n",
              "      <td>0</td>\n",
              "      <td>0</td>\n",
              "      <td>0</td>\n",
              "      <td>0</td>\n",
              "      <td>0</td>\n",
              "      <td>5</td>\n",
              "    </tr>\n",
              "  </tbody>\n",
              "</table>\n",
              "<p>5 rows × 785 columns</p>\n",
              "</div>\n",
              "    <div class=\"colab-df-buttons\">\n",
              "\n",
              "  <div class=\"colab-df-container\">\n",
              "    <button class=\"colab-df-convert\" onclick=\"convertToInteractive('df-20eaa7de-a283-461f-99c6-ea82551d1b24')\"\n",
              "            title=\"Convert this dataframe to an interactive table.\"\n",
              "            style=\"display:none;\">\n",
              "\n",
              "  <svg xmlns=\"http://www.w3.org/2000/svg\" height=\"24px\" viewBox=\"0 -960 960 960\">\n",
              "    <path d=\"M120-120v-720h720v720H120Zm60-500h600v-160H180v160Zm220 220h160v-160H400v160Zm0 220h160v-160H400v160ZM180-400h160v-160H180v160Zm440 0h160v-160H620v160ZM180-180h160v-160H180v160Zm440 0h160v-160H620v160Z\"/>\n",
              "  </svg>\n",
              "    </button>\n",
              "\n",
              "  <style>\n",
              "    .colab-df-container {\n",
              "      display:flex;\n",
              "      gap: 12px;\n",
              "    }\n",
              "\n",
              "    .colab-df-convert {\n",
              "      background-color: #E8F0FE;\n",
              "      border: none;\n",
              "      border-radius: 50%;\n",
              "      cursor: pointer;\n",
              "      display: none;\n",
              "      fill: #1967D2;\n",
              "      height: 32px;\n",
              "      padding: 0 0 0 0;\n",
              "      width: 32px;\n",
              "    }\n",
              "\n",
              "    .colab-df-convert:hover {\n",
              "      background-color: #E2EBFA;\n",
              "      box-shadow: 0px 1px 2px rgba(60, 64, 67, 0.3), 0px 1px 3px 1px rgba(60, 64, 67, 0.15);\n",
              "      fill: #174EA6;\n",
              "    }\n",
              "\n",
              "    .colab-df-buttons div {\n",
              "      margin-bottom: 4px;\n",
              "    }\n",
              "\n",
              "    [theme=dark] .colab-df-convert {\n",
              "      background-color: #3B4455;\n",
              "      fill: #D2E3FC;\n",
              "    }\n",
              "\n",
              "    [theme=dark] .colab-df-convert:hover {\n",
              "      background-color: #434B5C;\n",
              "      box-shadow: 0px 1px 3px 1px rgba(0, 0, 0, 0.15);\n",
              "      filter: drop-shadow(0px 1px 2px rgba(0, 0, 0, 0.3));\n",
              "      fill: #FFFFFF;\n",
              "    }\n",
              "  </style>\n",
              "\n",
              "    <script>\n",
              "      const buttonEl =\n",
              "        document.querySelector('#df-20eaa7de-a283-461f-99c6-ea82551d1b24 button.colab-df-convert');\n",
              "      buttonEl.style.display =\n",
              "        google.colab.kernel.accessAllowed ? 'block' : 'none';\n",
              "\n",
              "      async function convertToInteractive(key) {\n",
              "        const element = document.querySelector('#df-20eaa7de-a283-461f-99c6-ea82551d1b24');\n",
              "        const dataTable =\n",
              "          await google.colab.kernel.invokeFunction('convertToInteractive',\n",
              "                                                    [key], {});\n",
              "        if (!dataTable) return;\n",
              "\n",
              "        const docLinkHtml = 'Like what you see? Visit the ' +\n",
              "          '<a target=\"_blank\" href=https://colab.research.google.com/notebooks/data_table.ipynb>data table notebook</a>'\n",
              "          + ' to learn more about interactive tables.';\n",
              "        element.innerHTML = '';\n",
              "        dataTable['output_type'] = 'display_data';\n",
              "        await google.colab.output.renderOutput(dataTable, element);\n",
              "        const docLink = document.createElement('div');\n",
              "        docLink.innerHTML = docLinkHtml;\n",
              "        element.appendChild(docLink);\n",
              "      }\n",
              "    </script>\n",
              "  </div>\n",
              "\n",
              "\n",
              "<div id=\"df-90b6a968-c346-4207-8127-4723717287e3\">\n",
              "  <button class=\"colab-df-quickchart\" onclick=\"quickchart('df-90b6a968-c346-4207-8127-4723717287e3')\"\n",
              "            title=\"Suggest charts.\"\n",
              "            style=\"display:none;\">\n",
              "\n",
              "<svg xmlns=\"http://www.w3.org/2000/svg\" height=\"24px\"viewBox=\"0 0 24 24\"\n",
              "     width=\"24px\">\n",
              "    <g>\n",
              "        <path d=\"M19 3H5c-1.1 0-2 .9-2 2v14c0 1.1.9 2 2 2h14c1.1 0 2-.9 2-2V5c0-1.1-.9-2-2-2zM9 17H7v-7h2v7zm4 0h-2V7h2v10zm4 0h-2v-4h2v4z\"/>\n",
              "    </g>\n",
              "</svg>\n",
              "  </button>\n",
              "\n",
              "<style>\n",
              "  .colab-df-quickchart {\n",
              "      --bg-color: #E8F0FE;\n",
              "      --fill-color: #1967D2;\n",
              "      --hover-bg-color: #E2EBFA;\n",
              "      --hover-fill-color: #174EA6;\n",
              "      --disabled-fill-color: #AAA;\n",
              "      --disabled-bg-color: #DDD;\n",
              "  }\n",
              "\n",
              "  [theme=dark] .colab-df-quickchart {\n",
              "      --bg-color: #3B4455;\n",
              "      --fill-color: #D2E3FC;\n",
              "      --hover-bg-color: #434B5C;\n",
              "      --hover-fill-color: #FFFFFF;\n",
              "      --disabled-bg-color: #3B4455;\n",
              "      --disabled-fill-color: #666;\n",
              "  }\n",
              "\n",
              "  .colab-df-quickchart {\n",
              "    background-color: var(--bg-color);\n",
              "    border: none;\n",
              "    border-radius: 50%;\n",
              "    cursor: pointer;\n",
              "    display: none;\n",
              "    fill: var(--fill-color);\n",
              "    height: 32px;\n",
              "    padding: 0;\n",
              "    width: 32px;\n",
              "  }\n",
              "\n",
              "  .colab-df-quickchart:hover {\n",
              "    background-color: var(--hover-bg-color);\n",
              "    box-shadow: 0 1px 2px rgba(60, 64, 67, 0.3), 0 1px 3px 1px rgba(60, 64, 67, 0.15);\n",
              "    fill: var(--button-hover-fill-color);\n",
              "  }\n",
              "\n",
              "  .colab-df-quickchart-complete:disabled,\n",
              "  .colab-df-quickchart-complete:disabled:hover {\n",
              "    background-color: var(--disabled-bg-color);\n",
              "    fill: var(--disabled-fill-color);\n",
              "    box-shadow: none;\n",
              "  }\n",
              "\n",
              "  .colab-df-spinner {\n",
              "    border: 2px solid var(--fill-color);\n",
              "    border-color: transparent;\n",
              "    border-bottom-color: var(--fill-color);\n",
              "    animation:\n",
              "      spin 1s steps(1) infinite;\n",
              "  }\n",
              "\n",
              "  @keyframes spin {\n",
              "    0% {\n",
              "      border-color: transparent;\n",
              "      border-bottom-color: var(--fill-color);\n",
              "      border-left-color: var(--fill-color);\n",
              "    }\n",
              "    20% {\n",
              "      border-color: transparent;\n",
              "      border-left-color: var(--fill-color);\n",
              "      border-top-color: var(--fill-color);\n",
              "    }\n",
              "    30% {\n",
              "      border-color: transparent;\n",
              "      border-left-color: var(--fill-color);\n",
              "      border-top-color: var(--fill-color);\n",
              "      border-right-color: var(--fill-color);\n",
              "    }\n",
              "    40% {\n",
              "      border-color: transparent;\n",
              "      border-right-color: var(--fill-color);\n",
              "      border-top-color: var(--fill-color);\n",
              "    }\n",
              "    60% {\n",
              "      border-color: transparent;\n",
              "      border-right-color: var(--fill-color);\n",
              "    }\n",
              "    80% {\n",
              "      border-color: transparent;\n",
              "      border-right-color: var(--fill-color);\n",
              "      border-bottom-color: var(--fill-color);\n",
              "    }\n",
              "    90% {\n",
              "      border-color: transparent;\n",
              "      border-bottom-color: var(--fill-color);\n",
              "    }\n",
              "  }\n",
              "</style>\n",
              "\n",
              "  <script>\n",
              "    async function quickchart(key) {\n",
              "      const quickchartButtonEl =\n",
              "        document.querySelector('#' + key + ' button');\n",
              "      quickchartButtonEl.disabled = true;  // To prevent multiple clicks.\n",
              "      quickchartButtonEl.classList.add('colab-df-spinner');\n",
              "      try {\n",
              "        const charts = await google.colab.kernel.invokeFunction(\n",
              "            'suggestCharts', [key], {});\n",
              "      } catch (error) {\n",
              "        console.error('Error during call to suggestCharts:', error);\n",
              "      }\n",
              "      quickchartButtonEl.classList.remove('colab-df-spinner');\n",
              "      quickchartButtonEl.classList.add('colab-df-quickchart-complete');\n",
              "    }\n",
              "    (() => {\n",
              "      let quickchartButtonEl =\n",
              "        document.querySelector('#df-90b6a968-c346-4207-8127-4723717287e3 button');\n",
              "      quickchartButtonEl.style.display =\n",
              "        google.colab.kernel.accessAllowed ? 'block' : 'none';\n",
              "    })();\n",
              "  </script>\n",
              "</div>\n",
              "    </div>\n",
              "  </div>\n"
            ]
          },
          "metadata": {},
          "execution_count": 4
        }
      ]
    },
    {
      "cell_type": "code",
      "source": [
        "y = df.values[:,-1]\n",
        "X = df.values[:,:-1]"
      ],
      "metadata": {
        "id": "yQl486MPYcat"
      },
      "execution_count": null,
      "outputs": []
    },
    {
      "cell_type": "code",
      "source": [
        "y.shape, X.shape"
      ],
      "metadata": {
        "colab": {
          "base_uri": "https://localhost:8080/"
        },
        "id": "aJM4ly7JYqI3",
        "outputId": "f88dc9e2-356a-4b27-f75c-559bdecec80d"
      },
      "execution_count": null,
      "outputs": [
        {
          "output_type": "execute_result",
          "data": {
            "text/plain": [
              "((1500,), (1500, 784))"
            ]
          },
          "metadata": {},
          "execution_count": 6
        }
      ]
    },
    {
      "cell_type": "markdown",
      "source": [
        "O subplot mostrado pelo professor em sala de aula para que possamos visualizar a base de dados de maneira intuitiva"
      ],
      "metadata": {
        "id": "oWrIJ79vzfXr"
      }
    },
    {
      "cell_type": "code",
      "source": [
        "fig, ax = plt.subplots(ncols=4, nrows=5)\n",
        "for idx in range(20):\n",
        "    lin = idx % 5\n",
        "    col = idx // 5\n",
        "    ax[lin][col].imshow(X[idx].reshape((28,28)), cmap=\"gray\")"
      ],
      "metadata": {
        "colab": {
          "base_uri": "https://localhost:8080/",
          "height": 434
        },
        "id": "uAwk9BhZoP7f",
        "outputId": "2c78bb7a-4904-4cfc-b8d6-d14e4018f52d"
      },
      "execution_count": null,
      "outputs": [
        {
          "output_type": "display_data",
          "data": {
            "text/plain": [
              "<Figure size 640x480 with 20 Axes>"
            ],
            "image/png": "[encoded data removed]"
          },
          "metadata": {}
        }
      ]
    },
    {
      "cell_type": "markdown",
      "source": [
        "## PCA"
      ],
      "metadata": {
        "id": "OqjtqnVHo6JD"
      }
    },
    {
      "cell_type": "code",
      "source": [
        "from sklearn.preprocessing import StandardScaler\n",
        "from sklearn.decomposition import PCA"
      ],
      "metadata": {
        "id": "neDCnfveo758"
      },
      "execution_count": null,
      "outputs": []
    },
    {
      "cell_type": "markdown",
      "source": [
        "Dado que cada instância possui 784 características (pixels), a visualização das instâncias com base em cada uma delas torna-se impraticável. Portanto, optou-se por empregar um gráfico de dispersão após a aplicação da técnica de redução de dimensionalidade PCA aos dados normalizados de entrada, como uma maneira de facilitar a compreensão da distribuição das instâncias."
      ],
      "metadata": {
        "id": "oqbwC6NwMNuj"
      }
    },
    {
      "cell_type": "code",
      "source": [
        "scaler = StandardScaler()\n",
        "scaler.fit(X)\n",
        "X_s = scaler.transform(X)"
      ],
      "metadata": {
        "id": "pIdVqdFVpju5"
      },
      "execution_count": null,
      "outputs": []
    },
    {
      "cell_type": "markdown",
      "source": [
        "Após rodar o PCA, podemos analisar que de 784 atributos, foram transformados em apenas 2"
      ],
      "metadata": {
        "id": "v9_XhEqmzsvj"
      }
    },
    {
      "cell_type": "code",
      "source": [
        "pca = PCA(n_components=2)\n",
        "pca.fit(X_s)\n",
        "X_pca = pca.transform(X_s)\n",
        "\n",
        "X.shape, X_pca.shape"
      ],
      "metadata": {
        "colab": {
          "base_uri": "https://localhost:8080/"
        },
        "id": "LEZ87RlIpnD5",
        "outputId": "98a5e2c0-b7da-4c29-fb2a-0daf9ff628f9"
      },
      "execution_count": null,
      "outputs": [
        {
          "output_type": "execute_result",
          "data": {
            "text/plain": [
              "((1500, 784), (1500, 2))"
            ]
          },
          "metadata": {},
          "execution_count": 10
        }
      ]
    },
    {
      "cell_type": "markdown",
      "source": [
        "Dado que cada instância possui 784 características (pixels), a visualização das instâncias com base em cada uma delas torna-se impraticável. Portanto, optou-se por empregar um gráfico de dispersão após a aplicação da técnica de redução de dimensionalidade PCA aos dados normalizados de entrada, como uma maneira de facilitar a compreensão da distribuição das instâncias."
      ],
      "metadata": {
        "id": "gbtmBv1-M1Ps"
      }
    },
    {
      "cell_type": "code",
      "source": [
        "df2 = pd.DataFrame(X_pca, columns = [\"PC0\", \"PC1\"])\n",
        "df2[\"digito\"] = y\n",
        "\n",
        "df2.head()"
      ],
      "metadata": {
        "colab": {
          "base_uri": "https://localhost:8080/",
          "height": 206
        },
        "id": "Ae3ttnoxqf7-",
        "outputId": "39913c5a-d2d1-44fd-ce7e-236e5b52d8b8"
      },
      "execution_count": null,
      "outputs": [
        {
          "output_type": "execute_result",
          "data": {
            "text/plain": [
              "        PC0       PC1  digito\n",
              "0 -2.775723  1.176628       7\n",
              "1  0.950564  1.247798       8\n",
              "2 -1.346509  3.850944       2\n",
              "3 -7.267148 -3.454706       9\n",
              "4 -2.603981  1.768279       5"
            ],
            "text/html": [
              "\n",
              "  <div id=\"df-2a7df4aa-4bf4-411a-8848-bb879be89731\" class=\"colab-df-container\">\n",
              "    <div>\n",
              "<style scoped>\n",
              "    .dataframe tbody tr th:only-of-type {\n",
              "        vertical-align: middle;\n",
              "    }\n",
              "\n",
              "    .dataframe tbody tr th {\n",
              "        vertical-align: top;\n",
              "    }\n",
              "\n",
              "    .dataframe thead th {\n",
              "        text-align: right;\n",
              "    }\n",
              "</style>\n",
              "<table border=\"1\" class=\"dataframe\">\n",
              "  <thead>\n",
              "    <tr style=\"text-align: right;\">\n",
              "      <th></th>\n",
              "      <th>PC0</th>\n",
              "      <th>PC1</th>\n",
              "      <th>digito</th>\n",
              "    </tr>\n",
              "  </thead>\n",
              "  <tbody>\n",
              "    <tr>\n",
              "      <th>0</th>\n",
              "      <td>-2.775723</td>\n",
              "      <td>1.176628</td>\n",
              "      <td>7</td>\n",
              "    </tr>\n",
              "    <tr>\n",
              "      <th>1</th>\n",
              "      <td>0.950564</td>\n",
              "      <td>1.247798</td>\n",
              "      <td>8</td>\n",
              "    </tr>\n",
              "    <tr>\n",
              "      <th>2</th>\n",
              "      <td>-1.346509</td>\n",
              "      <td>3.850944</td>\n",
              "      <td>2</td>\n",
              "    </tr>\n",
              "    <tr>\n",
              "      <th>3</th>\n",
              "      <td>-7.267148</td>\n",
              "      <td>-3.454706</td>\n",
              "      <td>9</td>\n",
              "    </tr>\n",
              "    <tr>\n",
              "      <th>4</th>\n",
              "      <td>-2.603981</td>\n",
              "      <td>1.768279</td>\n",
              "      <td>5</td>\n",
              "    </tr>\n",
              "  </tbody>\n",
              "</table>\n",
              "</div>\n",
              "    <div class=\"colab-df-buttons\">\n",
              "\n",
              "  <div class=\"colab-df-container\">\n",
              "    <button class=\"colab-df-convert\" onclick=\"convertToInteractive('df-2a7df4aa-4bf4-411a-8848-bb879be89731')\"\n",
              "            title=\"Convert this dataframe to an interactive table.\"\n",
              "            style=\"display:none;\">\n",
              "\n",
              "  <svg xmlns=\"http://www.w3.org/2000/svg\" height=\"24px\" viewBox=\"0 -960 960 960\">\n",
              "    <path d=\"M120-120v-720h720v720H120Zm60-500h600v-160H180v160Zm220 220h160v-160H400v160Zm0 220h160v-160H400v160ZM180-400h160v-160H180v160Zm440 0h160v-160H620v160ZM180-180h160v-160H180v160Zm440 0h160v-160H620v160Z\"/>\n",
              "  </svg>\n",
              "    </button>\n",
              "\n",
              "  <style>\n",
              "    .colab-df-container {\n",
              "      display:flex;\n",
              "      gap: 12px;\n",
              "    }\n",
              "\n",
              "    .colab-df-convert {\n",
              "      background-color: #E8F0FE;\n",
              "      border: none;\n",
              "      border-radius: 50%;\n",
              "      cursor: pointer;\n",
              "      display: none;\n",
              "      fill: #1967D2;\n",
              "      height: 32px;\n",
              "      padding: 0 0 0 0;\n",
              "      width: 32px;\n",
              "    }\n",
              "\n",
              "    .colab-df-convert:hover {\n",
              "      background-color: #E2EBFA;\n",
              "      box-shadow: 0px 1px 2px rgba(60, 64, 67, 0.3), 0px 1px 3px 1px rgba(60, 64, 67, 0.15);\n",
              "      fill: #174EA6;\n",
              "    }\n",
              "\n",
              "    .colab-df-buttons div {\n",
              "      margin-bottom: 4px;\n",
              "    }\n",
              "\n",
              "    [theme=dark] .colab-df-convert {\n",
              "      background-color: #3B4455;\n",
              "      fill: #D2E3FC;\n",
              "    }\n",
              "\n",
              "    [theme=dark] .colab-df-convert:hover {\n",
              "      background-color: #434B5C;\n",
              "      box-shadow: 0px 1px 3px 1px rgba(0, 0, 0, 0.15);\n",
              "      filter: drop-shadow(0px 1px 2px rgba(0, 0, 0, 0.3));\n",
              "      fill: #FFFFFF;\n",
              "    }\n",
              "  </style>\n",
              "\n",
              "    <script>\n",
              "      const buttonEl =\n",
              "        document.querySelector('#df-2a7df4aa-4bf4-411a-8848-bb879be89731 button.colab-df-convert');\n",
              "      buttonEl.style.display =\n",
              "        google.colab.kernel.accessAllowed ? 'block' : 'none';\n",
              "\n",
              "      async function convertToInteractive(key) {\n",
              "        const element = document.querySelector('#df-2a7df4aa-4bf4-411a-8848-bb879be89731');\n",
              "        const dataTable =\n",
              "          await google.colab.kernel.invokeFunction('convertToInteractive',\n",
              "                                                    [key], {});\n",
              "        if (!dataTable) return;\n",
              "\n",
              "        const docLinkHtml = 'Like what you see? Visit the ' +\n",
              "          '<a target=\"_blank\" href=https://colab.research.google.com/notebooks/data_table.ipynb>data table notebook</a>'\n",
              "          + ' to learn more about interactive tables.';\n",
              "        element.innerHTML = '';\n",
              "        dataTable['output_type'] = 'display_data';\n",
              "        await google.colab.output.renderOutput(dataTable, element);\n",
              "        const docLink = document.createElement('div');\n",
              "        docLink.innerHTML = docLinkHtml;\n",
              "        element.appendChild(docLink);\n",
              "      }\n",
              "    </script>\n",
              "  </div>\n",
              "\n",
              "\n",
              "<div id=\"df-db998319-cad5-43c5-a340-73a76d21e4b7\">\n",
              "  <button class=\"colab-df-quickchart\" onclick=\"quickchart('df-db998319-cad5-43c5-a340-73a76d21e4b7')\"\n",
              "            title=\"Suggest charts.\"\n",
              "            style=\"display:none;\">\n",
              "\n",
              "<svg xmlns=\"http://www.w3.org/2000/svg\" height=\"24px\"viewBox=\"0 0 24 24\"\n",
              "     width=\"24px\">\n",
              "    <g>\n",
              "        <path d=\"M19 3H5c-1.1 0-2 .9-2 2v14c0 1.1.9 2 2 2h14c1.1 0 2-.9 2-2V5c0-1.1-.9-2-2-2zM9 17H7v-7h2v7zm4 0h-2V7h2v10zm4 0h-2v-4h2v4z\"/>\n",
              "    </g>\n",
              "</svg>\n",
              "  </button>\n",
              "\n",
              "<style>\n",
              "  .colab-df-quickchart {\n",
              "      --bg-color: #E8F0FE;\n",
              "      --fill-color: #1967D2;\n",
              "      --hover-bg-color: #E2EBFA;\n",
              "      --hover-fill-color: #174EA6;\n",
              "      --disabled-fill-color: #AAA;\n",
              "      --disabled-bg-color: #DDD;\n",
              "  }\n",
              "\n",
              "  [theme=dark] .colab-df-quickchart {\n",
              "      --bg-color: #3B4455;\n",
              "      --fill-color: #D2E3FC;\n",
              "      --hover-bg-color: #434B5C;\n",
              "      --hover-fill-color: #FFFFFF;\n",
              "      --disabled-bg-color: #3B4455;\n",
              "      --disabled-fill-color: #666;\n",
              "  }\n",
              "\n",
              "  .colab-df-quickchart {\n",
              "    background-color: var(--bg-color);\n",
              "    border: none;\n",
              "    border-radius: 50%;\n",
              "    cursor: pointer;\n",
              "    display: none;\n",
              "    fill: var(--fill-color);\n",
              "    height: 32px;\n",
              "    padding: 0;\n",
              "    width: 32px;\n",
              "  }\n",
              "\n",
              "  .colab-df-quickchart:hover {\n",
              "    background-color: var(--hover-bg-color);\n",
              "    box-shadow: 0 1px 2px rgba(60, 64, 67, 0.3), 0 1px 3px 1px rgba(60, 64, 67, 0.15);\n",
              "    fill: var(--button-hover-fill-color);\n",
              "  }\n",
              "\n",
              "  .colab-df-quickchart-complete:disabled,\n",
              "  .colab-df-quickchart-complete:disabled:hover {\n",
              "    background-color: var(--disabled-bg-color);\n",
              "    fill: var(--disabled-fill-color);\n",
              "    box-shadow: none;\n",
              "  }\n",
              "\n",
              "  .colab-df-spinner {\n",
              "    border: 2px solid var(--fill-color);\n",
              "    border-color: transparent;\n",
              "    border-bottom-color: var(--fill-color);\n",
              "    animation:\n",
              "      spin 1s steps(1) infinite;\n",
              "  }\n",
              "\n",
              "  @keyframes spin {\n",
              "    0% {\n",
              "      border-color: transparent;\n",
              "      border-bottom-color: var(--fill-color);\n",
              "      border-left-color: var(--fill-color);\n",
              "    }\n",
              "    20% {\n",
              "      border-color: transparent;\n",
              "      border-left-color: var(--fill-color);\n",
              "      border-top-color: var(--fill-color);\n",
              "    }\n",
              "    30% {\n",
              "      border-color: transparent;\n",
              "      border-left-color: var(--fill-color);\n",
              "      border-top-color: var(--fill-color);\n",
              "      border-right-color: var(--fill-color);\n",
              "    }\n",
              "    40% {\n",
              "      border-color: transparent;\n",
              "      border-right-color: var(--fill-color);\n",
              "      border-top-color: var(--fill-color);\n",
              "    }\n",
              "    60% {\n",
              "      border-color: transparent;\n",
              "      border-right-color: var(--fill-color);\n",
              "    }\n",
              "    80% {\n",
              "      border-color: transparent;\n",
              "      border-right-color: var(--fill-color);\n",
              "      border-bottom-color: var(--fill-color);\n",
              "    }\n",
              "    90% {\n",
              "      border-color: transparent;\n",
              "      border-bottom-color: var(--fill-color);\n",
              "    }\n",
              "  }\n",
              "</style>\n",
              "\n",
              "  <script>\n",
              "    async function quickchart(key) {\n",
              "      const quickchartButtonEl =\n",
              "        document.querySelector('#' + key + ' button');\n",
              "      quickchartButtonEl.disabled = true;  // To prevent multiple clicks.\n",
              "      quickchartButtonEl.classList.add('colab-df-spinner');\n",
              "      try {\n",
              "        const charts = await google.colab.kernel.invokeFunction(\n",
              "            'suggestCharts', [key], {});\n",
              "      } catch (error) {\n",
              "        console.error('Error during call to suggestCharts:', error);\n",
              "      }\n",
              "      quickchartButtonEl.classList.remove('colab-df-spinner');\n",
              "      quickchartButtonEl.classList.add('colab-df-quickchart-complete');\n",
              "    }\n",
              "    (() => {\n",
              "      let quickchartButtonEl =\n",
              "        document.querySelector('#df-db998319-cad5-43c5-a340-73a76d21e4b7 button');\n",
              "      quickchartButtonEl.style.display =\n",
              "        google.colab.kernel.accessAllowed ? 'block' : 'none';\n",
              "    })();\n",
              "  </script>\n",
              "</div>\n",
              "    </div>\n",
              "  </div>\n"
            ]
          },
          "metadata": {},
          "execution_count": 11
        }
      ]
    },
    {
      "cell_type": "markdown",
      "source": [
        "Nota-se que o plot dos dois atributos gerados pelo PCA se encontra muito misto e com difícil interpretação."
      ],
      "metadata": {
        "id": "PBTGGN9sz2hw"
      }
    },
    {
      "cell_type": "code",
      "source": [
        "sns.scatterplot(data=df2, x='PC0', y='PC1', hue='digito', palette='deep')"
      ],
      "metadata": {
        "colab": {
          "base_uri": "https://localhost:8080/",
          "height": 466
        },
        "id": "rKdUOmX_q8WI",
        "outputId": "faf66731-79a4-421b-d8a8-a576d4720a2c"
      },
      "execution_count": null,
      "outputs": [
        {
          "output_type": "execute_result",
          "data": {
            "text/plain": [
              "<Axes: xlabel='PC0', ylabel='PC1'>"
            ]
          },
          "metadata": {},
          "execution_count": 12
        },
        {
          "output_type": "display_data",
          "data": {
            "text/plain": [
              "<Figure size 640x480 with 1 Axes>"
            ],
            "image/png": "[encoded data removed]"
          },
          "metadata": {}
        }
      ]
    },
    {
      "cell_type": "markdown",
      "source": [],
      "metadata": {
        "id": "OzUo96GtNsYj"
      }
    },
    {
      "cell_type": "markdown",
      "source": [
        "## KNN"
      ],
      "metadata": {
        "id": "pdsP10O5nPyD"
      }
    },
    {
      "cell_type": "markdown",
      "source": [
        "Para avaliar o desempenho do KNN que já foi explicado em outras atividades e nas aulas, o conjunto de dados foi particionado em k partes de igual tamanho e aleatoriamente reorganizadas. No nível interno desse processo, empregou-se o GridSearchCV para ajustar o modelo, testando diferentes valores para o número de vizinhos, e avaliando o desempenho por meio de validação cruzada estratificada. Para fins de exibição das melhores classificações rodei ele 2 vezes, uma com os atributos normais e outra de acordo com os atributos gerados pelo PCA."
      ],
      "metadata": {
        "id": "jkwvpUNi0EeH"
      }
    },
    {
      "cell_type": "code",
      "source": [
        "from sklearn.neighbors import KNeighborsClassifier"
      ],
      "metadata": {
        "id": "PZ-BB5T7n4bA"
      },
      "execution_count": null,
      "outputs": []
    },
    {
      "cell_type": "code",
      "source": [
        "def do_cv_knn(X, y, kfolds, ks=[1]):\n",
        "\n",
        "    kparticoes = kfolds\n",
        "    kparticoes2 = 10\n",
        "\n",
        "    acuracias = []\n",
        "\n",
        "    skf = StratifiedKFold(n_splits=kparticoes, shuffle=True,\n",
        "                            random_state=1)\n",
        "\n",
        "    for idx_treino, idx_teste in skf.split(X, y):\n",
        "\n",
        "        X_treino = X[idx_treino]\n",
        "        y_treino = y[idx_treino]\n",
        "\n",
        "        X_teste = X[idx_teste]\n",
        "        y_teste = y[idx_teste]\n",
        "\n",
        "        scaler = StandardScaler()\n",
        "        scaler.fit(X_treino)\n",
        "        X_treino = scaler.transform(X_treino)\n",
        "        X_teste = scaler.transform(X_teste)\n",
        "\n",
        "        params = { \"n_neighbors\" : ks }\n",
        "        knn = KNeighborsClassifier()\n",
        "        knn = GridSearchCV(knn, params,\n",
        "                        cv=StratifiedKFold(kparticoes2))\n",
        "\n",
        "        knn.fit(X_treino, y_treino)\n",
        "\n",
        "        acuracias.append(accuracy_score(y_teste,\n",
        "                                        knn.predict(X_teste)))\n",
        "\n",
        "    return acuracias\n"
      ],
      "metadata": {
        "id": "jfqA5WNpZCmt"
      },
      "execution_count": null,
      "outputs": []
    },
    {
      "cell_type": "markdown",
      "source": [
        "Utilizando as 784 colunas da base de dados normal, o KNN demorou 31 segundos e obteve uma acurácia de 84%"
      ],
      "metadata": {
        "id": "EGh8OIY18IeA"
      }
    },
    {
      "cell_type": "code",
      "source": [
        "accs_knn = do_cv_knn(X, y, 10, range(1,30,2))"
      ],
      "metadata": {
        "id": "gF791HFzYrd6"
      },
      "execution_count": null,
      "outputs": []
    },
    {
      "cell_type": "code",
      "source": [
        "def calcular_estatisticas(resultados):\n",
        "    return np.mean(resultados), np.std(resultados), np.min(resultados), np.max(resultados)"
      ],
      "metadata": {
        "id": "pvREtt5IaZbF"
      },
      "execution_count": null,
      "outputs": []
    },
    {
      "cell_type": "code",
      "source": [
        "def imprimir_estatisticas(resultados):\n",
        "    media, desvio, mini, maxi = calcular_estatisticas(resultados)\n",
        "    print(\"Resultados: %.2f +- %.2f, min: %.2f, max: %.2f\" %\n",
        "          (media, desvio, mini, maxi))"
      ],
      "metadata": {
        "id": "X-cgtHCeanXx"
      },
      "execution_count": null,
      "outputs": []
    },
    {
      "cell_type": "code",
      "source": [
        "imprimir_estatisticas(accs_knn)"
      ],
      "metadata": {
        "colab": {
          "base_uri": "https://localhost:8080/"
        },
        "id": "swL7xjy2a9nA",
        "outputId": "3700750f-723d-4c18-a379-6c929f357623"
      },
      "execution_count": null,
      "outputs": [
        {
          "output_type": "stream",
          "name": "stdout",
          "text": [
            "Resultados: 0.84 +- 0.03, min: 0.79, max: 0.89\n"
          ]
        }
      ]
    },
    {
      "cell_type": "markdown",
      "source": [
        "Agora rodando com o PCA, o tempo reduziu mais da metade, demorando 12 segundos para a execução tendo em vista que agora apenas 2 atributos são analisados. Entretando a acurácia obtida foi de 31% o que é um resultado péssimo."
      ],
      "metadata": {
        "id": "G_ePCaee72Cn"
      }
    },
    {
      "cell_type": "code",
      "source": [
        "accs_knn_pca = do_cv_knn(X_pca, y, 10, range(1,30,2))"
      ],
      "metadata": {
        "id": "M_qgChcX71gE"
      },
      "execution_count": null,
      "outputs": []
    },
    {
      "cell_type": "code",
      "source": [
        "def calcular_estatisticas(resultados):\n",
        "    return np.mean(resultados), np.std(resultados), np.min(resultados), np.max(resultados)"
      ],
      "metadata": {
        "id": "r3DsEy3278m5"
      },
      "execution_count": null,
      "outputs": []
    },
    {
      "cell_type": "code",
      "source": [
        "def imprimir_estatisticas(resultados):\n",
        "    media, desvio, mini, maxi = calcular_estatisticas(resultados)\n",
        "    print(\"Resultados: %.2f +- %.2f, min: %.2f, max: %.2f\" %\n",
        "          (media, desvio, mini, maxi))"
      ],
      "metadata": {
        "id": "vofffnJB79Kn"
      },
      "execution_count": null,
      "outputs": []
    },
    {
      "cell_type": "code",
      "source": [
        "imprimir_estatisticas(accs_knn_pca)"
      ],
      "metadata": {
        "colab": {
          "base_uri": "https://localhost:8080/"
        },
        "id": "2OX1fYcY7-4V",
        "outputId": "805ee703-c7cc-485c-a4d2-bbf946897910"
      },
      "execution_count": null,
      "outputs": [
        {
          "output_type": "stream",
          "name": "stdout",
          "text": [
            "Resultados: 0.31 +- 0.02, min: 0.27, max: 0.35\n"
          ]
        }
      ]
    },
    {
      "cell_type": "markdown",
      "source": [
        "## SVM"
      ],
      "metadata": {
        "id": "x6AACCjCbMz3"
      }
    },
    {
      "cell_type": "code",
      "source": [
        "from sklearn.svm import SVC"
      ],
      "metadata": {
        "id": "QGpgxZmlbAGa"
      },
      "execution_count": null,
      "outputs": []
    },
    {
      "cell_type": "code",
      "source": [
        "def do_cv_svm(X, y, kfolds):\n",
        "\n",
        "    kparticoes = kfolds\n",
        "    kparticoes2 = 10\n",
        "\n",
        "    acuracias = []\n",
        "\n",
        "    skf = StratifiedKFold(n_splits=kparticoes, shuffle=True,\n",
        "                            random_state=1)\n",
        "\n",
        "    for idx_treino, idx_teste in skf.split(X, y):\n",
        "\n",
        "        X_treino = X[idx_treino]\n",
        "        y_treino = y[idx_treino]\n",
        "\n",
        "        X_teste = X[idx_teste]\n",
        "        y_teste = y[idx_teste]\n",
        "\n",
        "        scaler = StandardScaler()\n",
        "        scaler.fit(X_treino)\n",
        "        X_treino = scaler.transform(X_treino)\n",
        "        X_teste = scaler.transform(X_teste)\n",
        "\n",
        "        params = {\n",
        "            \"C\" : np.logspace(0, 4, 5, base=10),\n",
        "            \"gamma\" : list(np.logspace(-5, -2, 4, base=2)) + [\"auto\", \"scale\"]\n",
        "        }\n",
        "        svm = SVC(kernel=\"rbf\")\n",
        "        svm = GridSearchCV(svm, params,\n",
        "                        cv=StratifiedKFold(kparticoes2))\n",
        "\n",
        "        svm.fit(X_treino, y_treino)\n",
        "\n",
        "        acuracias.append(accuracy_score(y_teste,\n",
        "                                        svm.predict(X_teste)))\n",
        "\n",
        "    return acuracias\n"
      ],
      "metadata": {
        "id": "ycQU_Z64bYRF"
      },
      "execution_count": null,
      "outputs": []
    },
    {
      "cell_type": "markdown",
      "source": [
        "Após exaustivos 48 minutos de execução o SVM gerou 88% de acurácia se mostrando superior ao KNN em apenas 4%, mas a que custo? Em seguida vou testar o SVM com os atributos do PCA para ver se vale a pena."
      ],
      "metadata": {
        "id": "qjFcpOxv8qMv"
      }
    },
    {
      "cell_type": "code",
      "source": [
        "accs_svm = do_cv_svm(X, y, 10)"
      ],
      "metadata": {
        "id": "MA6vrlyXcp25"
      },
      "execution_count": null,
      "outputs": []
    },
    {
      "cell_type": "code",
      "source": [
        "imprimir_estatisticas(accs_svm)"
      ],
      "metadata": {
        "id": "iaJWzBTJdpyP",
        "colab": {
          "base_uri": "https://localhost:8080/"
        },
        "outputId": "df69045b-ad1f-4349-ab5f-56b217656249"
      },
      "execution_count": null,
      "outputs": [
        {
          "output_type": "stream",
          "name": "stdout",
          "text": [
            "Resultados: 0.88 +- 0.02, min: 0.85, max: 0.93\n"
          ]
        }
      ]
    },
    {
      "cell_type": "code",
      "source": [
        "imprimir_estatisticas(accs_knn)"
      ],
      "metadata": {
        "id": "RgxmBmsVd0-w",
        "colab": {
          "base_uri": "https://localhost:8080/"
        },
        "outputId": "8437ce1e-e375-41ec-88bd-2ad7895b3def"
      },
      "execution_count": null,
      "outputs": [
        {
          "output_type": "stream",
          "name": "stdout",
          "text": [
            "Resultados: 0.84 +- 0.03, min: 0.79, max: 0.89\n"
          ]
        }
      ]
    },
    {
      "cell_type": "markdown",
      "source": [
        "Realizando o ttest só para validar o uso KNN ao invés do SVM mostrand oque o pvalor é menor do que 0.05"
      ],
      "metadata": {
        "id": "SUdJOcyD9OF5"
      }
    },
    {
      "cell_type": "code",
      "source": [
        "from scipy.stats import ttest_ind_from_stats"
      ],
      "metadata": {
        "id": "06YtEpRNd4wI"
      },
      "execution_count": null,
      "outputs": []
    },
    {
      "cell_type": "code",
      "source": [
        "med_svm, desv_svm, _, _ = calcular_estatisticas(accs_svm)\n",
        "med_knn, desv_knn, _, _ = calcular_estatisticas(accs_knn)"
      ],
      "metadata": {
        "id": "wMzj7wh5f1Zk"
      },
      "execution_count": null,
      "outputs": []
    },
    {
      "cell_type": "code",
      "source": [
        "_, pvalor = ttest_ind_from_stats(med_svm, desv_svm, 10, med_knn, desv_knn, 10)"
      ],
      "metadata": {
        "id": "kOBd_OiLgLDw"
      },
      "execution_count": null,
      "outputs": []
    },
    {
      "cell_type": "code",
      "source": [
        "pvalor <= 0.05"
      ],
      "metadata": {
        "id": "Y2iOzhAzgYT_",
        "colab": {
          "base_uri": "https://localhost:8080/"
        },
        "outputId": "9a4a67dd-9f87-4fc6-ac4b-cafeeb08a656"
      },
      "execution_count": null,
      "outputs": [
        {
          "output_type": "execute_result",
          "data": {
            "text/plain": [
              "True"
            ]
          },
          "metadata": {},
          "execution_count": 49
        }
      ]
    },
    {
      "cell_type": "markdown",
      "source": [
        "Teste do SVM com os atributos do PCA"
      ],
      "metadata": {
        "id": "-o21dOYr9YBP"
      }
    },
    {
      "cell_type": "code",
      "source": [
        "accs_svm_pca = do_cv_svm(X_pca, y, 10)"
      ],
      "metadata": {
        "id": "XjRGnnls9aq9"
      },
      "execution_count": null,
      "outputs": []
    },
    {
      "cell_type": "markdown",
      "source": [
        "E a suspeita se confirmou, o SVM com os atributos do PCA demorou 39 minutos para executar e alcançou 34%, ou seja, inviável também. Nessa base de dados específica nota-se que o uso do PCA é meramente visual. Pois para ser utilizado no classificador não vale a pena."
      ],
      "metadata": {
        "id": "9M4Dg4QfG-u1"
      }
    },
    {
      "cell_type": "code",
      "source": [
        "imprimir_estatisticas(accs_svm_pca)"
      ],
      "metadata": {
        "colab": {
          "base_uri": "https://localhost:8080/"
        },
        "id": "oHFrL_AZ9g5w",
        "outputId": "647c0ba6-de5e-457d-a23c-3185fccde96b"
      },
      "execution_count": null,
      "outputs": [
        {
          "output_type": "stream",
          "name": "stdout",
          "text": [
            "Resultados: 0.34 +- 0.02, min: 0.30, max: 0.39\n"
          ]
        }
      ]
    }
  ]
}