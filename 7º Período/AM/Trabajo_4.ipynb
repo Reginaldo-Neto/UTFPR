{
  "nbformat": 4,
  "nbformat_minor": 0,
  "metadata": {
    "colab": {
      "provenance": []
    },
    "kernelspec": {
      "name": "python3",
      "display_name": "Python 3"
    },
    "language_info": {
      "name": "python"
    }
  },
  "cells": [
    {
      "cell_type": "markdown",
      "source": [
        "# Atividade 4 - Atributos Categóricos e Valores Faltantes"
      ],
      "metadata": {
        "id": "9a4TFvvSuC9l"
      }
    },
    {
      "cell_type": "markdown",
      "source": [
        "## A base de dados\n",
        "\n",
        "Neste exercício, usei a base de dados \"Mushrooms\", que possui exclusivamente atributos categóricos. Cada entrada descreve uma amostra de cogumelo com 22 características. O propósito é desenvolver um classificador capaz de determinar se um cogumelo é adequado para consumo (edible) ou se é tóxico (poisonous).\""
      ],
      "metadata": {
        "id": "VvAgs-WtvOvs"
      }
    },
    {
      "cell_type": "code",
      "source": [
        "import pandas as pd\n",
        "df = pd.read_csv('agaricus_lepiota_small_c.csv')\n",
        "df.head()"
      ],
      "metadata": {
        "colab": {
          "base_uri": "https://localhost:8080/",
          "height": 288
        },
        "id": "9xGHSgsCxsGJ",
        "outputId": "9034c91c-fbd9-4525-e1ac-6c563c09ae54"
      },
      "execution_count": 2,
      "outputs": [
        {
          "output_type": "execute_result",
          "data": {
            "text/plain": [
              "  class cap-shape cap-surface cap-color bruises odor gill-attachment  \\\n",
              "0     e         x           s         y       t    a               f   \n",
              "1     e         f           s         y       f    n               f   \n",
              "2     e         k           s         w       f    c               f   \n",
              "3     e         f           f         n       t    n               f   \n",
              "4     p         x           s         w       t    p               f   \n",
              "\n",
              "  gill-spacing gill-size gill-color  ... stalk-surface-below-ring  \\\n",
              "0            w         b          g  ...                        s   \n",
              "1            c         b          p  ...                        s   \n",
              "2            w         b          g  ...                        s   \n",
              "3            c         b          w  ...                        s   \n",
              "4            c         n          w  ...                        s   \n",
              "\n",
              "  stalk-color-above-ring stalk-color-below-ring veil-type veil-color  \\\n",
              "0                      w                      w         p          w   \n",
              "1                      w                      w         p          w   \n",
              "2                      w                      n         p          w   \n",
              "3                      g                      w         p          w   \n",
              "4                      w                      w         p          w   \n",
              "\n",
              "  ring-number ring-type spore-print-color population habitat  \n",
              "0           o         p                 n          v       d  \n",
              "1           o         f                 n          y       g  \n",
              "2           t         e                 w          n       g  \n",
              "3           o         p                 k          v       d  \n",
              "4           o         p                 n          s       u  \n",
              "\n",
              "[5 rows x 23 columns]"
            ],
            "text/html": [
              "\n",
              "  <div id=\"df-43188105-bbc4-4032-ada9-764ccdda7b8e\" class=\"colab-df-container\">\n",
              "    <div>\n",
              "<style scoped>\n",
              "    .dataframe tbody tr th:only-of-type {\n",
              "        vertical-align: middle;\n",
              "    }\n",
              "\n",
              "    .dataframe tbody tr th {\n",
              "        vertical-align: top;\n",
              "    }\n",
              "\n",
              "    .dataframe thead th {\n",
              "        text-align: right;\n",
              "    }\n",
              "</style>\n",
              "<table border=\"1\" class=\"dataframe\">\n",
              "  <thead>\n",
              "    <tr style=\"text-align: right;\">\n",
              "      <th></th>\n",
              "      <th>class</th>\n",
              "      <th>cap-shape</th>\n",
              "      <th>cap-surface</th>\n",
              "      <th>cap-color</th>\n",
              "      <th>bruises</th>\n",
              "      <th>odor</th>\n",
              "      <th>gill-attachment</th>\n",
              "      <th>gill-spacing</th>\n",
              "      <th>gill-size</th>\n",
              "      <th>gill-color</th>\n",
              "      <th>...</th>\n",
              "      <th>stalk-surface-below-ring</th>\n",
              "      <th>stalk-color-above-ring</th>\n",
              "      <th>stalk-color-below-ring</th>\n",
              "      <th>veil-type</th>\n",
              "      <th>veil-color</th>\n",
              "      <th>ring-number</th>\n",
              "      <th>ring-type</th>\n",
              "      <th>spore-print-color</th>\n",
              "      <th>population</th>\n",
              "      <th>habitat</th>\n",
              "    </tr>\n",
              "  </thead>\n",
              "  <tbody>\n",
              "    <tr>\n",
              "      <th>0</th>\n",
              "      <td>e</td>\n",
              "      <td>x</td>\n",
              "      <td>s</td>\n",
              "      <td>y</td>\n",
              "      <td>t</td>\n",
              "      <td>a</td>\n",
              "      <td>f</td>\n",
              "      <td>w</td>\n",
              "      <td>b</td>\n",
              "      <td>g</td>\n",
              "      <td>...</td>\n",
              "      <td>s</td>\n",
              "      <td>w</td>\n",
              "      <td>w</td>\n",
              "      <td>p</td>\n",
              "      <td>w</td>\n",
              "      <td>o</td>\n",
              "      <td>p</td>\n",
              "      <td>n</td>\n",
              "      <td>v</td>\n",
              "      <td>d</td>\n",
              "    </tr>\n",
              "    <tr>\n",
              "      <th>1</th>\n",
              "      <td>e</td>\n",
              "      <td>f</td>\n",
              "      <td>s</td>\n",
              "      <td>y</td>\n",
              "      <td>f</td>\n",
              "      <td>n</td>\n",
              "      <td>f</td>\n",
              "      <td>c</td>\n",
              "      <td>b</td>\n",
              "      <td>p</td>\n",
              "      <td>...</td>\n",
              "      <td>s</td>\n",
              "      <td>w</td>\n",
              "      <td>w</td>\n",
              "      <td>p</td>\n",
              "      <td>w</td>\n",
              "      <td>o</td>\n",
              "      <td>f</td>\n",
              "      <td>n</td>\n",
              "      <td>y</td>\n",
              "      <td>g</td>\n",
              "    </tr>\n",
              "    <tr>\n",
              "      <th>2</th>\n",
              "      <td>e</td>\n",
              "      <td>k</td>\n",
              "      <td>s</td>\n",
              "      <td>w</td>\n",
              "      <td>f</td>\n",
              "      <td>c</td>\n",
              "      <td>f</td>\n",
              "      <td>w</td>\n",
              "      <td>b</td>\n",
              "      <td>g</td>\n",
              "      <td>...</td>\n",
              "      <td>s</td>\n",
              "      <td>w</td>\n",
              "      <td>n</td>\n",
              "      <td>p</td>\n",
              "      <td>w</td>\n",
              "      <td>t</td>\n",
              "      <td>e</td>\n",
              "      <td>w</td>\n",
              "      <td>n</td>\n",
              "      <td>g</td>\n",
              "    </tr>\n",
              "    <tr>\n",
              "      <th>3</th>\n",
              "      <td>e</td>\n",
              "      <td>f</td>\n",
              "      <td>f</td>\n",
              "      <td>n</td>\n",
              "      <td>t</td>\n",
              "      <td>n</td>\n",
              "      <td>f</td>\n",
              "      <td>c</td>\n",
              "      <td>b</td>\n",
              "      <td>w</td>\n",
              "      <td>...</td>\n",
              "      <td>s</td>\n",
              "      <td>g</td>\n",
              "      <td>w</td>\n",
              "      <td>p</td>\n",
              "      <td>w</td>\n",
              "      <td>o</td>\n",
              "      <td>p</td>\n",
              "      <td>k</td>\n",
              "      <td>v</td>\n",
              "      <td>d</td>\n",
              "    </tr>\n",
              "    <tr>\n",
              "      <th>4</th>\n",
              "      <td>p</td>\n",
              "      <td>x</td>\n",
              "      <td>s</td>\n",
              "      <td>w</td>\n",
              "      <td>t</td>\n",
              "      <td>p</td>\n",
              "      <td>f</td>\n",
              "      <td>c</td>\n",
              "      <td>n</td>\n",
              "      <td>w</td>\n",
              "      <td>...</td>\n",
              "      <td>s</td>\n",
              "      <td>w</td>\n",
              "      <td>w</td>\n",
              "      <td>p</td>\n",
              "      <td>w</td>\n",
              "      <td>o</td>\n",
              "      <td>p</td>\n",
              "      <td>n</td>\n",
              "      <td>s</td>\n",
              "      <td>u</td>\n",
              "    </tr>\n",
              "  </tbody>\n",
              "</table>\n",
              "<p>5 rows × 23 columns</p>\n",
              "</div>\n",
              "    <div class=\"colab-df-buttons\">\n",
              "\n",
              "  <div class=\"colab-df-container\">\n",
              "    <button class=\"colab-df-convert\" onclick=\"convertToInteractive('df-43188105-bbc4-4032-ada9-764ccdda7b8e')\"\n",
              "            title=\"Convert this dataframe to an interactive table.\"\n",
              "            style=\"display:none;\">\n",
              "\n",
              "  <svg xmlns=\"http://www.w3.org/2000/svg\" height=\"24px\" viewBox=\"0 -960 960 960\">\n",
              "    <path d=\"M120-120v-720h720v720H120Zm60-500h600v-160H180v160Zm220 220h160v-160H400v160Zm0 220h160v-160H400v160ZM180-400h160v-160H180v160Zm440 0h160v-160H620v160ZM180-180h160v-160H180v160Zm440 0h160v-160H620v160Z\"/>\n",
              "  </svg>\n",
              "    </button>\n",
              "\n",
              "  <style>\n",
              "    .colab-df-container {\n",
              "      display:flex;\n",
              "      gap: 12px;\n",
              "    }\n",
              "\n",
              "    .colab-df-convert {\n",
              "      background-color: #E8F0FE;\n",
              "      border: none;\n",
              "      border-radius: 50%;\n",
              "      cursor: pointer;\n",
              "      display: none;\n",
              "      fill: #1967D2;\n",
              "      height: 32px;\n",
              "      padding: 0 0 0 0;\n",
              "      width: 32px;\n",
              "    }\n",
              "\n",
              "    .colab-df-convert:hover {\n",
              "      background-color: #E2EBFA;\n",
              "      box-shadow: 0px 1px 2px rgba(60, 64, 67, 0.3), 0px 1px 3px 1px rgba(60, 64, 67, 0.15);\n",
              "      fill: #174EA6;\n",
              "    }\n",
              "\n",
              "    .colab-df-buttons div {\n",
              "      margin-bottom: 4px;\n",
              "    }\n",
              "\n",
              "    [theme=dark] .colab-df-convert {\n",
              "      background-color: #3B4455;\n",
              "      fill: #D2E3FC;\n",
              "    }\n",
              "\n",
              "    [theme=dark] .colab-df-convert:hover {\n",
              "      background-color: #434B5C;\n",
              "      box-shadow: 0px 1px 3px 1px rgba(0, 0, 0, 0.15);\n",
              "      filter: drop-shadow(0px 1px 2px rgba(0, 0, 0, 0.3));\n",
              "      fill: #FFFFFF;\n",
              "    }\n",
              "  </style>\n",
              "\n",
              "    <script>\n",
              "      const buttonEl =\n",
              "        document.querySelector('#df-43188105-bbc4-4032-ada9-764ccdda7b8e button.colab-df-convert');\n",
              "      buttonEl.style.display =\n",
              "        google.colab.kernel.accessAllowed ? 'block' : 'none';\n",
              "\n",
              "      async function convertToInteractive(key) {\n",
              "        const element = document.querySelector('#df-43188105-bbc4-4032-ada9-764ccdda7b8e');\n",
              "        const dataTable =\n",
              "          await google.colab.kernel.invokeFunction('convertToInteractive',\n",
              "                                                    [key], {});\n",
              "        if (!dataTable) return;\n",
              "\n",
              "        const docLinkHtml = 'Like what you see? Visit the ' +\n",
              "          '<a target=\"_blank\" href=https://colab.research.google.com/notebooks/data_table.ipynb>data table notebook</a>'\n",
              "          + ' to learn more about interactive tables.';\n",
              "        element.innerHTML = '';\n",
              "        dataTable['output_type'] = 'display_data';\n",
              "        await google.colab.output.renderOutput(dataTable, element);\n",
              "        const docLink = document.createElement('div');\n",
              "        docLink.innerHTML = docLinkHtml;\n",
              "        element.appendChild(docLink);\n",
              "      }\n",
              "    </script>\n",
              "  </div>\n",
              "\n",
              "\n",
              "<div id=\"df-2e59794e-9002-479f-8b58-6706e7794a7a\">\n",
              "  <button class=\"colab-df-quickchart\" onclick=\"quickchart('df-2e59794e-9002-479f-8b58-6706e7794a7a')\"\n",
              "            title=\"Suggest charts.\"\n",
              "            style=\"display:none;\">\n",
              "\n",
              "<svg xmlns=\"http://www.w3.org/2000/svg\" height=\"24px\"viewBox=\"0 0 24 24\"\n",
              "     width=\"24px\">\n",
              "    <g>\n",
              "        <path d=\"M19 3H5c-1.1 0-2 .9-2 2v14c0 1.1.9 2 2 2h14c1.1 0 2-.9 2-2V5c0-1.1-.9-2-2-2zM9 17H7v-7h2v7zm4 0h-2V7h2v10zm4 0h-2v-4h2v4z\"/>\n",
              "    </g>\n",
              "</svg>\n",
              "  </button>\n",
              "\n",
              "<style>\n",
              "  .colab-df-quickchart {\n",
              "      --bg-color: #E8F0FE;\n",
              "      --fill-color: #1967D2;\n",
              "      --hover-bg-color: #E2EBFA;\n",
              "      --hover-fill-color: #174EA6;\n",
              "      --disabled-fill-color: #AAA;\n",
              "      --disabled-bg-color: #DDD;\n",
              "  }\n",
              "\n",
              "  [theme=dark] .colab-df-quickchart {\n",
              "      --bg-color: #3B4455;\n",
              "      --fill-color: #D2E3FC;\n",
              "      --hover-bg-color: #434B5C;\n",
              "      --hover-fill-color: #FFFFFF;\n",
              "      --disabled-bg-color: #3B4455;\n",
              "      --disabled-fill-color: #666;\n",
              "  }\n",
              "\n",
              "  .colab-df-quickchart {\n",
              "    background-color: var(--bg-color);\n",
              "    border: none;\n",
              "    border-radius: 50%;\n",
              "    cursor: pointer;\n",
              "    display: none;\n",
              "    fill: var(--fill-color);\n",
              "    height: 32px;\n",
              "    padding: 0;\n",
              "    width: 32px;\n",
              "  }\n",
              "\n",
              "  .colab-df-quickchart:hover {\n",
              "    background-color: var(--hover-bg-color);\n",
              "    box-shadow: 0 1px 2px rgba(60, 64, 67, 0.3), 0 1px 3px 1px rgba(60, 64, 67, 0.15);\n",
              "    fill: var(--button-hover-fill-color);\n",
              "  }\n",
              "\n",
              "  .colab-df-quickchart-complete:disabled,\n",
              "  .colab-df-quickchart-complete:disabled:hover {\n",
              "    background-color: var(--disabled-bg-color);\n",
              "    fill: var(--disabled-fill-color);\n",
              "    box-shadow: none;\n",
              "  }\n",
              "\n",
              "  .colab-df-spinner {\n",
              "    border: 2px solid var(--fill-color);\n",
              "    border-color: transparent;\n",
              "    border-bottom-color: var(--fill-color);\n",
              "    animation:\n",
              "      spin 1s steps(1) infinite;\n",
              "  }\n",
              "\n",
              "  @keyframes spin {\n",
              "    0% {\n",
              "      border-color: transparent;\n",
              "      border-bottom-color: var(--fill-color);\n",
              "      border-left-color: var(--fill-color);\n",
              "    }\n",
              "    20% {\n",
              "      border-color: transparent;\n",
              "      border-left-color: var(--fill-color);\n",
              "      border-top-color: var(--fill-color);\n",
              "    }\n",
              "    30% {\n",
              "      border-color: transparent;\n",
              "      border-left-color: var(--fill-color);\n",
              "      border-top-color: var(--fill-color);\n",
              "      border-right-color: var(--fill-color);\n",
              "    }\n",
              "    40% {\n",
              "      border-color: transparent;\n",
              "      border-right-color: var(--fill-color);\n",
              "      border-top-color: var(--fill-color);\n",
              "    }\n",
              "    60% {\n",
              "      border-color: transparent;\n",
              "      border-right-color: var(--fill-color);\n",
              "    }\n",
              "    80% {\n",
              "      border-color: transparent;\n",
              "      border-right-color: var(--fill-color);\n",
              "      border-bottom-color: var(--fill-color);\n",
              "    }\n",
              "    90% {\n",
              "      border-color: transparent;\n",
              "      border-bottom-color: var(--fill-color);\n",
              "    }\n",
              "  }\n",
              "</style>\n",
              "\n",
              "  <script>\n",
              "    async function quickchart(key) {\n",
              "      const quickchartButtonEl =\n",
              "        document.querySelector('#' + key + ' button');\n",
              "      quickchartButtonEl.disabled = true;  // To prevent multiple clicks.\n",
              "      quickchartButtonEl.classList.add('colab-df-spinner');\n",
              "      try {\n",
              "        const charts = await google.colab.kernel.invokeFunction(\n",
              "            'suggestCharts', [key], {});\n",
              "      } catch (error) {\n",
              "        console.error('Error during call to suggestCharts:', error);\n",
              "      }\n",
              "      quickchartButtonEl.classList.remove('colab-df-spinner');\n",
              "      quickchartButtonEl.classList.add('colab-df-quickchart-complete');\n",
              "    }\n",
              "    (() => {\n",
              "      let quickchartButtonEl =\n",
              "        document.querySelector('#df-2e59794e-9002-479f-8b58-6706e7794a7a button');\n",
              "      quickchartButtonEl.style.display =\n",
              "        google.colab.kernel.accessAllowed ? 'block' : 'none';\n",
              "    })();\n",
              "  </script>\n",
              "</div>\n",
              "    </div>\n",
              "  </div>\n"
            ]
          },
          "metadata": {},
          "execution_count": 2
        }
      ]
    },
    {
      "cell_type": "markdown",
      "source": [
        "Primeiramente, codifiquei a classe $e$ como 0 e $p$ como 1. Isso pode ser feito aplicando um simples mapeamento com o método `map` à coluna `class`"
      ],
      "metadata": {
        "id": "4u7yWQBKzJve"
      }
    },
    {
      "cell_type": "code",
      "source": [
        "print('valores contidos na coluna class antes da codificacao:', df['class'].unique())\n",
        "\n",
        "df[\"class\"] = df[\"class\"].map({\"e\": 0, \"p\": 1})\n",
        "\n",
        "print('valores contidos na coluna class depois da codificacao:', df['class'].unique())"
      ],
      "metadata": {
        "colab": {
          "base_uri": "https://localhost:8080/"
        },
        "id": "x26F-C1LzhWQ",
        "outputId": "c571680d-50ae-401b-aa52-5e3d04506f49"
      },
      "execution_count": 3,
      "outputs": [
        {
          "output_type": "stream",
          "name": "stdout",
          "text": [
            "valores contidos na coluna class antes da codificacao: ['e' 'p']\n",
            "valores contidos na coluna class depois da codificacao: [0 1]\n"
          ]
        }
      ]
    },
    {
      "cell_type": "markdown",
      "source": [
        "Sabe-se que há alguns valores faltantes na base, na coluna `stalk-root`. Podemos contabiliza-los com `df.isnull().sum().sum()`:"
      ],
      "metadata": {
        "id": "JnX8I9Gj2KQw"
      }
    },
    {
      "cell_type": "code",
      "source": [
        "print('numero de valores faltantes:', df.isnull().sum().sum())\n",
        "print('valores contidos na coluna stalk-root:', df['stalk-root'].unique())"
      ],
      "metadata": {
        "colab": {
          "base_uri": "https://localhost:8080/"
        },
        "id": "l3-j12Ev2URx",
        "outputId": "29669bb5-c864-47d8-ce1a-6977b7d234b3"
      },
      "execution_count": 4,
      "outputs": [
        {
          "output_type": "stream",
          "name": "stdout",
          "text": [
            "numero de valores faltantes: 310\n",
            "valores contidos na coluna stalk-root: ['b' 'e' nan 'c' 'r']\n"
          ]
        }
      ]
    },
    {
      "cell_type": "markdown",
      "source": [
        "Abaixo, estão listados os atributos presentes na base de dados, seguido do significado de cada categoria:\n",
        "\n",
        "| Tipo de Atributo  | Atributo                 | Valores                                      |\n",
        "| ----------------- | ------------------------ | -------------------------------------------- |\n",
        "| Nominal           | cap-shape                | bell=b, conical=c, convex=x, flat=f, knobbed=k, sunken=s |\n",
        "| Nominal           | cap-surface              | fibrous=f, grooves=g, scaly=y, smooth=s       |\n",
        "| Nominal           | cap-color                | brown=n, buff=b, cinnamon=c, gray=g, green=r, pink=p, purple=u, red=e, white=w, yellow=y |\n",
        "| *Ordinal*           | *bruises?*                | *bruises=t, no=f*                             |\n",
        "| Nominal           | odor                     | almond=a, anise=l, creosote=c, fishy=y, foul=f, musty=m, none=n, pungent=p, spicy=s |\n",
        "| Nominal           | gill-attachment          | attached=a, descending=d, free=f, notched=n  |\n",
        "| Nominal           | gill-spacing             | close=c, crowded=w, distant=d                |\n",
        "| *Ordinal*           | *gill-size*                | *broad=b, narrow=n*                           |\n",
        "| Nominal           | gill-color               | black=k, brown=n, buff=b, chocolate=h, gray=g, green=r, orange=o, pink=p, purple=u, red=e, white=w, yellow=y |\n",
        "| *Ordinal*           | *stalk-shape*             | *enlarging=e, tapering=t*                   |\n",
        "| **Nominal**       | **stalk-root**           | **bulbous=b, club=c, cup=u, equal=e, rhizomorphs=z, rooted=r, missing=?** |\n",
        "| Nominal           | stalk-surface-above-ring | fibrous=f, scaly=y, silky=k, smooth=s    |\n",
        "| Nominal           | stalk-surface-below-ring | fibrous=f, scaly=y, silky=k, smooth=s    |\n",
        "| Nominal           | stalk-color-above-ring   | brown=n, buff=b, cinnamon=c, gray=g, orange=o, pink=p, red=e, white=w, yellow=y |\n",
        "| Nominal           | stalk-color-below-ring   | brown=n, buff=b, cinnamon=c, gray=g, orange=o, pink=p, red=e, white=w, yellow=y |\n",
        "| *Ordinal*          | *veil-type*                | *partial=p, universal=u*                      |\n",
        "| Nominal           | veil-color               | brown=n, orange=o, white=w, yellow=y         |\n",
        "| *Ordinal*          | *ring-number*              | *none=n, one=o, two=t*                        |\n",
        "| Nominal           | ring-type                | cobwebby=c, evanescent=e, flaring=f, large=l, none=n, pendant=p, sheathing=s, zone=z |\n",
        "| Nominal           | spore-print-color        | black=k, brown=n, buff=b, chocolate=h, green=r, orange=o, purple=u, white=w, yellow=y |\n",
        "| Nominal           | population               | abundant=a, clustered=c, numerous=n, scattered=s, several=v, solitary=y |\n",
        "| Nominal           | habitat                  | grasses=g, leaves=l, meadows=m, paths=p, urban=u, waste=w, woods=d |\n",
        "\n",
        "A coluna \"Tipo de Atributo\" desempenha o papel de indicar se um atributo categórico deve ser categorizado como ordinal ou nominal. No processo de preparação dos dados, os atributos nominais serão posteriormente submetidos ao OneHotEncoder, presente na biblioteca scikit-learn, transformando-os em representações binárias distintas. Nesse cenário, cada categoria é convertida em uma coluna binária separada, onde o valor '1' é atribuído à coluna correspondente à categoria observada, enquanto todas as outras colunas têm o valor '0'. Por outro lado, para os atributos que possuem uma relação ordinal, o OrdinalEncoder será aplicado, mapeando cada categoria única para um número inteiro sequencial.\n",
        "\n",
        "É importante observar que alguns atributos possuem uma ordem natural e distinta entre suas categorias, como é o caso de 'ring-number'. Por outro lado, atributos que possuem apenas duas categorias possíveis, como 'bruises', 'gill-size', 'stalk-shape' e 'veil-type', eu tratei como ordinais, uma vez que podem ser facilmente representados de maneira binária. Isso evita a necessidade de adicionar uma coluna extra para a segunda categoria.\n",
        "\n",
        "Nota-se que a coluna 'stalk-root' é claramente nominal. Para lidar com os valores ausentes nessa coluna, uma estratégia viável é substituir as entradas nulas por 'm', representando a categoria 'missing'. Essa imputação pode ser facilmente realizada utilizando o SimpleImputer disponível na biblioteca scikit-learn."
      ],
      "metadata": {
        "id": "SEGPD_0Ayv-0"
      }
    },
    {
      "cell_type": "code",
      "source": [
        "from sklearn.impute import SimpleImputer\n",
        "\n",
        "imputer = SimpleImputer(strategy='constant', fill_value='m')\n",
        "df['stalk-root'] = imputer.fit_transform(df[['stalk-root']])\n",
        "\n",
        "print('numero de valores faltantes:', df.isnull().sum().sum())\n",
        "print('valores contidos na coluna stalk-root apos a imputacao:', df['stalk-root'].unique())"
      ],
      "metadata": {
        "colab": {
          "base_uri": "https://localhost:8080/"
        },
        "id": "oeA2uQSWyweq",
        "outputId": "6ef40e3e-617a-489c-832c-69328a6e2182"
      },
      "execution_count": 5,
      "outputs": [
        {
          "output_type": "stream",
          "name": "stdout",
          "text": [
            "numero de valores faltantes: 0\n",
            "valores contidos na coluna stalk-root apos a imputacao: ['b' 'e' 'm' 'c' 'r']\n"
          ]
        }
      ]
    },
    {
      "cell_type": "markdown",
      "source": [
        "Agora, separei o atributo de saída dos demais:"
      ],
      "metadata": {
        "id": "vGWWvE8iD6dG"
      }
    },
    {
      "cell_type": "code",
      "source": [
        "y = df[['class']].values.ravel()\n",
        "X = df.drop('class', axis=1)\n",
        "\n",
        "y.shape, X.shape"
      ],
      "metadata": {
        "colab": {
          "base_uri": "https://localhost:8080/"
        },
        "id": "wXgCq4RaD4rX",
        "outputId": "ce954af0-7154-4ca4-f1f1-f629c6eae6e2"
      },
      "execution_count": 6,
      "outputs": [
        {
          "output_type": "execute_result",
          "data": {
            "text/plain": [
              "((1000,), (1000, 22))"
            ]
          },
          "metadata": {},
          "execution_count": 6
        }
      ]
    },
    {
      "cell_type": "markdown",
      "source": [
        "É interessante observar o formato de `X`, pois os atributos serão transformados com os encoders mencionados anteriormente, o que alterará seu número de colunas:"
      ],
      "metadata": {
        "id": "gKMfpu45E8DS"
      }
    },
    {
      "cell_type": "code",
      "source": [
        "import numpy as np\n",
        "from sklearn.compose import ColumnTransformer\n",
        "from sklearn.preprocessing import OneHotEncoder, OrdinalEncoder\n",
        "\n",
        "# listas de colunas para diferentes tipos de atributos\n",
        "binarios = ['bruises', 'gill-size', 'stalk-shape', 'veil-type']\n",
        "ordinais = ['ring-number']\n",
        "nominais = [col for col in X.columns.tolist() if col not in binarios and col not in ordinais]\n",
        "\n",
        "# lista de transformadores para aplicar às diferentes colunas\n",
        "transformers = [\n",
        "    ('oh', OneHotEncoder(), nominais),  # codificação one-hot para atributos nominais\n",
        "    ('od', OrdinalEncoder(), binarios),  # codificação ordinal para atributos binários\n",
        "    ('or', OrdinalEncoder(categories=[['n', 'o', 't']]), ordinais)  # codificação ordinal para atributos ordinais\n",
        "]\n",
        "\n",
        "# ColumnTransformer que aplica os transformadores especificados\n",
        "ct = ColumnTransformer(transformers, remainder='drop')\n",
        "\n",
        "# aplica a transformação e converte a saída para uma matriz densa\n",
        "X_enc = np.asarray(ct.fit_transform(X).todense())\n",
        "\n",
        "# imprime as dimensões dos dataframes original e transformado\n",
        "print(f'Dimensões do dataframe original: {X.shape}')\n",
        "print(f'Dimensões do dataframe transformado: {X_enc.shape}')\n"
      ],
      "metadata": {
        "colab": {
          "base_uri": "https://localhost:8080/"
        },
        "id": "3VDIujuPE4VY",
        "outputId": "44c8323e-489f-402e-c59f-fccfbbc6d242"
      },
      "execution_count": 7,
      "outputs": [
        {
          "output_type": "stream",
          "name": "stdout",
          "text": [
            "Dimensões do dataframe original: (1000, 22)\n",
            "Dimensões do dataframe transformado: (1000, 108)\n"
          ]
        }
      ]
    },
    {
      "cell_type": "markdown",
      "source": [
        "Veja que, por conta do elevado número de atributos nominais, a quantidade de colunas foi de 22 para 108."
      ],
      "metadata": {
        "id": "E-eBoEgHJmZv"
      }
    },
    {
      "cell_type": "markdown",
      "source": [
        "# Testando os classificadores"
      ],
      "metadata": {
        "id": "xiEVxqa6O9nF"
      }
    },
    {
      "cell_type": "code",
      "source": [
        "from sklearn.preprocessing import StandardScaler\n",
        "from sklearn.metrics import accuracy_score, f1_score\n",
        "from sklearn.model_selection import GridSearchCV, train_test_split, StratifiedKFold"
      ],
      "metadata": {
        "id": "nJvXHL75vneO"
      },
      "execution_count": 8,
      "outputs": []
    },
    {
      "cell_type": "code",
      "source": [
        "def calcular_estatisticas(resultados):\n",
        "    return np.mean(resultados), np.std(resultados), np.min(resultados), np.max(resultados)"
      ],
      "metadata": {
        "id": "Gv7kJue2F9_M"
      },
      "execution_count": 9,
      "outputs": []
    },
    {
      "cell_type": "code",
      "source": [
        "def imprimir_estatisticas(resultados):\n",
        "    media, desvio, mini, maxi = calcular_estatisticas(resultados)\n",
        "    print(\"Resultados: %.2f +- %.2f, min: %.2f, max: %.2f\" %\n",
        "          (media, desvio, mini, maxi))"
      ],
      "metadata": {
        "id": "HwiGhLf3PDFq"
      },
      "execution_count": 10,
      "outputs": []
    },
    {
      "cell_type": "code",
      "source": [
        "from sklearn.metrics import make_scorer\n",
        "\n",
        "# função customizada para uso do parâmetro scoring no GridSearchCV\n",
        "# calcula a acurácia da classe positiva\n",
        "def acuracia_classe_positiva(y_true, y_pred):\n",
        "    return accuracy_score(y_true[y_true == 1], y_pred[y_true == 1])\n",
        "\n",
        "sc_acuracia_classe_positiva = make_scorer(acuracia_classe_positiva)"
      ],
      "metadata": {
        "id": "SadIpBZVQsY3"
      },
      "execution_count": 11,
      "outputs": []
    },
    {
      "cell_type": "markdown",
      "source": [
        "## KNN"
      ],
      "metadata": {
        "id": "Zi-kkDBJPF6l"
      }
    },
    {
      "cell_type": "markdown",
      "source": [
        "Para avaliação do desempenho do KNN, fiz a validação cruzada em dois níveis. No primeiro nível, os dados são dividos entre treino e teste usando estratificação e escalona as características. Em seguida, realiza-se uma busca em grade com validação cruzada para encontrar o melhor valor de $k$ (número de vizinhos) para o KNN. No segundo nível, o algoritmo avalia o desempenho do KNN com o melhor $k$ encontrado na etapa anterior, calculando a acurácia da classe positiva nos dados de teste. O processo é repetido para diferentes divisões dos dados e valores de $k$, resultando em uma lista de acurácias da classe positiva."
      ],
      "metadata": {
        "id": "G6bx_Lceh3OG"
      }
    },
    {
      "cell_type": "code",
      "source": [
        "from sklearn.neighbors import KNeighborsClassifier\n",
        "\n",
        "def do_cv_knn(X, y, kfolds_first, kfolds_second, c_scorer, ks=[1]):\n",
        "    scores = []\n",
        "\n",
        "    # cria as partições de validação cruzada no primeiro nível\n",
        "    skf = StratifiedKFold(n_splits=kfolds_first, shuffle=True, random_state=1)\n",
        "\n",
        "    for idx_treino, idx_teste in skf.split(X, y):\n",
        "        X_treino = X[idx_treino]\n",
        "        y_treino = y[idx_treino]\n",
        "        X_teste = X[idx_teste]\n",
        "        y_teste = y[idx_teste]\n",
        "\n",
        "        # padroniza os dados de treinamento e teste\n",
        "        scaler = StandardScaler()\n",
        "        X_treino = scaler.fit_transform(X_treino)\n",
        "        X_teste = scaler.transform(X_teste)\n",
        "\n",
        "        params = {\"n_neighbors\": ks}\n",
        "        knn = KNeighborsClassifier()\n",
        "\n",
        "        # realiza a otimização do hiperparâmetro k no segundo nível com GridSearchCV\n",
        "        knn_grid_search = GridSearchCV(estimator=knn,\n",
        "                                       param_grid=params,\n",
        "                                       cv=StratifiedKFold(kfolds_second),\n",
        "                                       scoring=c_scorer)\n",
        "\n",
        "        knn_grid_search.fit(X_treino, y_treino)\n",
        "\n",
        "        # calcula o desempenho usando a métrica específica fornecida (c_scorer)\n",
        "        score = knn_grid_search.score(X_teste, y_teste)\n",
        "        scores.append(score)\n",
        "\n",
        "    return scores\n"
      ],
      "metadata": {
        "id": "qagjAnUlPExW"
      },
      "execution_count": 12,
      "outputs": []
    },
    {
      "cell_type": "code",
      "source": [
        "accs_knn = do_cv_knn(X_enc, y, 10, 5, sc_acuracia_classe_positiva, range(1,30,2))"
      ],
      "metadata": {
        "id": "uATZ_9LpSxIu"
      },
      "execution_count": 13,
      "outputs": []
    },
    {
      "cell_type": "code",
      "source": [
        "imprimir_estatisticas(accs_knn)"
      ],
      "metadata": {
        "colab": {
          "base_uri": "https://localhost:8080/"
        },
        "id": "bl8-_jUBT3aC",
        "outputId": "d2e72f1c-57d7-4819-ce40-8a2398b59f3d"
      },
      "execution_count": 14,
      "outputs": [
        {
          "output_type": "stream",
          "name": "stdout",
          "text": [
            "Resultados: 0.96 +- 0.02, min: 0.92, max: 1.00\n"
          ]
        }
      ]
    },
    {
      "cell_type": "markdown",
      "source": [
        "## SVM"
      ],
      "metadata": {
        "id": "-VxCadZsWX69"
      }
    },
    {
      "cell_type": "markdown",
      "source": [
        "A validação cruzada da SVM é muito similar à do KNN, com diferença apenas nos parâmetros otimizados no segundo nível da validação, em que são testados diferentes combinações dos parâmetros $C$ e $gamma$."
      ],
      "metadata": {
        "id": "zXUKeUFXimdQ"
      }
    },
    {
      "cell_type": "code",
      "source": [
        "from sklearn.svm import SVC\n",
        "\n",
        "def do_cv_svm(X, y, kfolds_first, kfolds_second, c_scorer):\n",
        "\n",
        "    scores = []\n",
        "\n",
        "    # cria as partições de validação cruzada no primeiro nível\n",
        "    skf = StratifiedKFold(n_splits=kfolds_first, shuffle=True, random_state=1)\n",
        "\n",
        "    for idx_treino, idx_teste in skf.split(X, y):\n",
        "        X_treino = X[idx_treino]\n",
        "        y_treino = y[idx_treino]\n",
        "        X_teste = X[idx_teste]\n",
        "        y_teste = y[idx_teste]\n",
        "\n",
        "        # padroniza os dados de treinamento e teste\n",
        "        scaler = StandardScaler()\n",
        "        X_treino = scaler.fit_transform(X_treino)\n",
        "        X_teste = scaler.transform(X_teste)\n",
        "\n",
        "        params = {\n",
        "            \"C\" : np.logspace(0, 4, 5, base=10),\n",
        "            \"gamma\" : list(np.logspace(-5, -2, 4, base=2)) + [\"auto\", \"scale\"]\n",
        "        }\n",
        "\n",
        "        svm = SVC(kernel='rbf')\n",
        "\n",
        "        # realiza a otimização dos hiperparâmetros C e gamma no segundo nível com GridSearchCV\n",
        "        svm_grid_search = GridSearchCV(estimator=svm,\n",
        "                                       param_grid=params,\n",
        "                                       cv=StratifiedKFold(kfolds_second),\n",
        "                                       scoring=c_scorer)\n",
        "\n",
        "        svm_grid_search.fit(X_treino, y_treino)\n",
        "\n",
        "        # calcula o desempenho usando a métrica específica fornecida (c_scorer)\n",
        "        score = svm_grid_search.score(X_teste, y_teste)\n",
        "        scores.append(score)\n",
        "\n",
        "    return scores"
      ],
      "metadata": {
        "id": "2-ezJpXQWItq"
      },
      "execution_count": 15,
      "outputs": []
    },
    {
      "cell_type": "code",
      "source": [
        "accs_svm = do_cv_svm(X_enc, y, 10, 5, sc_acuracia_classe_positiva)"
      ],
      "metadata": {
        "id": "hEtzDBfPWZTe"
      },
      "execution_count": 16,
      "outputs": []
    },
    {
      "cell_type": "code",
      "source": [
        "imprimir_estatisticas(accs_svm)"
      ],
      "metadata": {
        "colab": {
          "base_uri": "https://localhost:8080/"
        },
        "id": "oLYwiW2EXNHG",
        "outputId": "409efcec-a7ae-4c54-ad37-9e2d7039f52f"
      },
      "execution_count": 17,
      "outputs": [
        {
          "output_type": "stream",
          "name": "stdout",
          "text": [
            "Resultados: 0.94 +- 0.03, min: 0.88, max: 0.98\n"
          ]
        }
      ]
    },
    {
      "cell_type": "markdown",
      "source": [
        "# Teste da hipotese nula"
      ],
      "metadata": {
        "id": "EgTu30zCX9GI"
      }
    },
    {
      "cell_type": "markdown",
      "source": [
        "Comparando as estatísticas dos resultados do KNN e do SVM lado a lado, podemos observar que o KNN apresentou uma ligeira vantagem em termos de acurácia em relação ao SVM. No entanto, é importante destacar que não podemos afirmar com certeza que o KNN é realmente superior ao SVM para esta base de dados. Isso ocorre porque não temos evidências de que a diferença entre as médias dos resultados obtidos pelos dois classificadores seja estatisticamente significativa."
      ],
      "metadata": {
        "id": "EoUovYH7gsho"
      }
    },
    {
      "cell_type": "code",
      "source": [
        "imprimir_estatisticas(accs_knn)\n",
        "imprimir_estatisticas(accs_svm)"
      ],
      "metadata": {
        "colab": {
          "base_uri": "https://localhost:8080/"
        },
        "id": "MLlHv3oFgpnX",
        "outputId": "1e6bf068-a7b4-445d-d370-31c394c39e76"
      },
      "execution_count": 18,
      "outputs": [
        {
          "output_type": "stream",
          "name": "stdout",
          "text": [
            "Resultados: 0.96 +- 0.02, min: 0.92, max: 1.00\n",
            "Resultados: 0.94 +- 0.03, min: 0.88, max: 0.98\n"
          ]
        }
      ]
    },
    {
      "cell_type": "markdown",
      "source": [
        "Para determinar se a diferença entre as médias de duas distribuições estatísticas, como o desempenho de dois classificadores, é estatisticamente significativa, normalmente se recorre ao teste t de Student. Esse teste envolve o cálculo do p-valor, que representa a probabilidade de que a diferença nas médias seja devida ao acaso. Um valor de p baixo, geralmente definido como menor ou igual a 0.05, sugere que a diferença é estatisticamente significativa, permitindo-nos rejeitar a hipótese nula de que não há diferença real. Por outro lado, um valor de p alto indica que a diferença pode ser devida ao acaso, e a hipótese nula não é rejeitada. Portanto, quanto menor o valor de p, maior é a confiança de que a diferença nas médias é significativa, o que é amplamente aceito na avaliação de modelos estatísticos, como no campo de aprendizado de máquina, com um nível de confiança geralmente definido como α=0.05"
      ],
      "metadata": {
        "id": "GSb4kQXRgvIf"
      }
    },
    {
      "cell_type": "code",
      "source": [
        "from scipy.stats import ttest_ind_from_stats\n",
        "\n",
        "med_svm, desv_svm, _, _ = calcular_estatisticas(accs_svm)\n",
        "med_knn, desv_knn, _, _ = calcular_estatisticas(accs_knn)\n",
        "\n",
        "_, pvalor = ttest_ind_from_stats(med_svm, desv_svm, 10, med_knn, desv_knn, 10)\n",
        "\n",
        "pvalor, pvalor <= 0.05"
      ],
      "metadata": {
        "colab": {
          "base_uri": "https://localhost:8080/"
        },
        "id": "xSBjhRvBXzQO",
        "outputId": "d591772a-b78f-452f-f9fa-ff9b3ac3d19c"
      },
      "execution_count": 19,
      "outputs": [
        {
          "output_type": "execute_result",
          "data": {
            "text/plain": [
              "(0.07591277911493036, False)"
            ]
          },
          "metadata": {},
          "execution_count": 19
        }
      ]
    },
    {
      "cell_type": "markdown",
      "source": [
        "O valor de $p$ obtido a partir do teste t de Student foi um pouco maior do que o nível de significância 0.05. Portanto, como a diferença nas médias das acurácias entre o KNN e o SVM não é estatisticamente significativa, pode-se afirmar que a diferença entre as acurácias dos classificadores ocorreu ao acaso, o que indica que ambos os classificadores tiveram desempenhos estatisticamente equivalentes."
      ],
      "metadata": {
        "id": "wXge-w_Og1jo"
      }
    },
    {
      "cell_type": "code",
      "source": [
        "counts = np.bincount(y)\n",
        "print(f'Número de instâncias negativas (comestíveis): {counts[0]}\\nNúmero de instâncias positivas (venenosos): {counts[1]}')"
      ],
      "metadata": {
        "colab": {
          "base_uri": "https://localhost:8080/"
        },
        "id": "xAJXTI6ulXku",
        "outputId": "5c673c2a-569b-4862-99f9-61113ec63402"
      },
      "execution_count": 20,
      "outputs": [
        {
          "output_type": "stream",
          "name": "stdout",
          "text": [
            "Número de instâncias negativas (comestíveis): 518\n",
            "Número de instâncias positivas (venenosos): 482\n"
          ]
        }
      ]
    },
    {
      "cell_type": "markdown",
      "source": [
        "O resultado de ambos os classificadores foi muito bom, mas a base de dados é relativamente desbalanceada, e neste caso como dito pelo professor em sala de aula, a acurácia não é a melhor métrica para avaliar o desempenho de um classificador. Para isso, usei o f1-score como função do scoring:"
      ],
      "metadata": {
        "id": "0PpfkT5jjX14"
      }
    },
    {
      "cell_type": "code",
      "source": [
        "from sklearn.metrics import f1_score\n",
        "\n",
        "def f1_classe_negativa(y_true, y_pred):\n",
        "    return f1_score(y_true, y_pred, pos_label=0)\n",
        "\n",
        "sc_f1_classe_negativa = make_scorer(f1_classe_negativa)"
      ],
      "metadata": {
        "id": "KLBp5CUJlZW7"
      },
      "execution_count": 25,
      "outputs": []
    },
    {
      "cell_type": "code",
      "source": [
        "f1_knn = do_cv_knn(X_enc, y, 10, 5, sc_f1_classe_negativa, range(1,30,2))\n",
        "f1_svm = do_cv_svm(X_enc, y, 10, 5, sc_f1_classe_negativa)"
      ],
      "metadata": {
        "id": "kf_tp3Nkl8WJ"
      },
      "execution_count": 22,
      "outputs": []
    },
    {
      "cell_type": "code",
      "source": [
        "imprimir_estatisticas(f1_knn)\n",
        "imprimir_estatisticas(f1_svm)"
      ],
      "metadata": {
        "colab": {
          "base_uri": "https://localhost:8080/"
        },
        "id": "BWeDg_tznaVi",
        "outputId": "70aca3e3-64ba-42f7-beac-b45bb5a46e49"
      },
      "execution_count": 23,
      "outputs": [
        {
          "output_type": "stream",
          "name": "stdout",
          "text": [
            "Resultados: 0.96 +- 0.02, min: 0.91, max: 0.98\n",
            "Resultados: 0.95 +- 0.02, min: 0.91, max: 0.98\n"
          ]
        }
      ]
    },
    {
      "cell_type": "code",
      "source": [
        "med_svm, desv_svm, _, _ = calcular_estatisticas(f1_svm)\n",
        "med_knn, desv_knn, _, _ = calcular_estatisticas(f1_knn)\n",
        "\n",
        "_, pvalor = ttest_ind_from_stats(med_svm, desv_svm, 10, med_knn, desv_knn, 10)\n",
        "\n",
        "pvalor, pvalor <= 0.05"
      ],
      "metadata": {
        "colab": {
          "base_uri": "https://localhost:8080/"
        },
        "id": "eBzu0EI-t3hW",
        "outputId": "d109700a-4614-4ede-a14f-d739362a05e2"
      },
      "execution_count": 24,
      "outputs": [
        {
          "output_type": "execute_result",
          "data": {
            "text/plain": [
              "(0.3472039145689282, False)"
            ]
          },
          "metadata": {},
          "execution_count": 24
        }
      ]
    },
    {
      "cell_type": "markdown",
      "source": [
        "A acurácia das classes positivas pode ser enganadora em cenários desbalanceados, onde uma classe é muito menor que a outra. Isso acontece porque um classificador que prevê apenas a classe majoritária pode ter uma alta acurácia, mas ainda errar na identificação da classe minoritária. O F1-Score leva em conta tanto a precisão quanto a capacidade do modelo de encontrar corretamente as instâncias da classe minoritária, sendo uma métrica mais confiável.\n",
        "\n",
        "Neste caso, onde decidimos se um cogumelo é venenoso, é mais crítico evitar falsos negativos (classificar cogumelos comestíveis como venenosos) do que falsos positivos, já que um erro nesse sentido pode levar a envenenamento. Embora o F1-Score seja usado para avaliação, os resultados são semelhantes à acurácia, e os classificadores apresentam desempenho estatisticamente equivalente.\n",
        "\n",
        "É importante notar que, apesar de o classificador estar geralmente correto, a incerteza resultante pode fazer com que comer um cogumelo classificado por ele seja arriscado, e sabendo a sorte que eu tenho, eu não me arriscaria comendo o cogumelo."
      ],
      "metadata": {
        "id": "CUrTL6BoqgAH"
      }
    }
  ]
}